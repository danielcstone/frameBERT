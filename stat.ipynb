{
 "cells": [
  {
   "cell_type": "code",
   "execution_count": 30,
   "metadata": {},
   "outputs": [],
   "source": [
    "import json\n",
    "import sys\n",
    "import glob\n",
    "import torch\n",
    "sys.path.append('../')\n",
    "import os\n",
    "from transformers import *\n",
    "from frameBERT.src import utils\n",
    "from frameBERT.src import dataio\n",
    "from frameBERT.src import eval_fn\n",
    "from frameBERT import frame_parser\n",
    "from frameBERT.src.modeling import BertForJointShallowSemanticParsing\n",
    "from torch.utils.data import TensorDataset, DataLoader, RandomSampler, SequentialSampler\n",
    "import torch\n",
    "from torch import nn\n",
    "from torch.optim import Adam\n",
    "from tqdm import tqdm, trange\n",
    "\n",
    "from pprint import pprint\n",
    "\n",
    "device = torch.device(\"cuda:0\" if torch.cuda.is_available() else \"cpu\")\n",
    "n_gpu = torch.cuda.device_count()\n",
    "if device != \"cpu\":\n",
    "    torch.cuda.set_device(0)\n",
    "import pickle\n",
    "\n",
    "import numpy as np\n",
    "import random\n",
    "np.random.seed(0)   \n",
    "random.seed(0)\n",
    "\n",
    "from torch import autograd\n",
    "torch.cuda.empty_cache()\n",
    "\n",
    "import argparse\n",
    "\n",
    "from collections import Counter"
   ]
  },
  {
   "cell_type": "code",
   "execution_count": 31,
   "metadata": {},
   "outputs": [],
   "source": [
    "try:\n",
    "    dir_path = os.path.dirname(os.path.abspath( __file__ ))\n",
    "except:\n",
    "    dir_path = '.'\n",
    "    \n",
    "# 실행시간 측정 함수\n",
    "import time\n",
    "\n",
    "_start_time = time.time()\n",
    "\n",
    "def tic():\n",
    "    global _start_time \n",
    "    _start_time = time.time()\n",
    "\n",
    "def tac():\n",
    "    t_sec = round(time.time() - _start_time)\n",
    "    (t_min, t_sec) = divmod(t_sec,60)\n",
    "    (t_hour,t_min) = divmod(t_min,60)\n",
    "    \n",
    "    result = '{}hour:{}min:{}sec'.format(t_hour,t_min,t_sec)\n",
    "    return result"
   ]
  },
  {
   "cell_type": "code",
   "execution_count": 32,
   "metadata": {},
   "outputs": [],
   "source": [
    "srl = 'framenet'\n",
    "language = 'multilingual'\n",
    "fnversion = '1.2'"
   ]
  },
  {
   "cell_type": "code",
   "execution_count": 142,
   "metadata": {},
   "outputs": [
    {
     "name": "stdout",
     "output_type": "stream",
     "text": [
      "# of instances in trn: 19391\n",
      "# of instances in dev: 2272\n",
      "# of instances in tst: 6714\n",
      "data example: [['Greece', 'wildfires', 'force', 'thousands', 'to', '<tgt>', 'evacuate', '</tgt>'], ['_', '_', '_', '_', '_', '_', 'evacuate.v', '_'], ['_', '_', '_', '_', '_', '_', 'Escaping', '_'], ['O', 'O', 'O', 'B-Escapee', 'O', 'X', 'O', 'X']]\n",
      "\n",
      "### loading Korean FrameNet (from efn )\n",
      "tuples: (trn, tst)\n",
      "10647 3550\n",
      "\n",
      "### loading Korean FrameNet (from jfn )\n",
      "tuples: (trn, tst)\n",
      "2200 1000\n",
      "\n",
      "### loading Korean FrameNet (from sejong )\n",
      "tuples: (trn, unlabel_data, tst)\n",
      "500 4212 1000\n",
      "\n",
      "### loading Korean FrameNet (from propbank )\n",
      "tuples: (trn, unlabel_data, tst)\n",
      "500 852 1000\n"
     ]
    }
   ],
   "source": [
    "fnversion = '1.2'\n",
    "srl = 'framenet'\n",
    "from koreanframenet import koreanframenet\n",
    "kfn = koreanframenet.interface(version=fnversion)\n",
    "\n",
    "# en_trn, en_dev, en_tst = dataio.load_data(srl=srl, language='en', exem=True)\n",
    "en_trn, en_dev, en_tst = dataio.load_data(srl=srl, language='en', exem=False)\n",
    "\n",
    "ekfn_trn_d, ekfn_tst_d = kfn.load_data(source='efn')\n",
    "jkfn_trn_d, jkfn_tst_d = kfn.load_data(source='jfn')\n",
    "skfn_trn_d, skfn_unlabel_d, skfn_tst_d = kfn.load_data(source='sejong')\n",
    "pkfn_trn_d, pkfn_unlabel_d, pkfn_tst_d = kfn.load_data(source='propbank')\n",
    "\n",
    "ekfn_trn = dataio.data2tgt_data(ekfn_trn_d, mode='train')\n",
    "ekfn_tst = dataio.data2tgt_data(ekfn_tst_d, mode='train')\n",
    "\n",
    "jkfn_trn = dataio.data2tgt_data(jkfn_trn_d, mode='train')\n",
    "jkfn_tst = dataio.data2tgt_data(jkfn_tst_d, mode='train')\n",
    "\n",
    "skfn_trn = dataio.data2tgt_data(skfn_trn_d, mode='train')\n",
    "skfn_unlabel = dataio.data2tgt_data(skfn_unlabel_d, mode='train')\n",
    "skfn_tst = dataio.data2tgt_data(skfn_tst_d, mode='train')\n",
    "\n",
    "pkfn_trn = dataio.data2tgt_data(pkfn_trn_d, mode='train')\n",
    "pkfn_unlabel = dataio.data2tgt_data(pkfn_unlabel_d, mode='train')\n",
    "pkfn_tst = dataio.data2tgt_data(pkfn_tst_d, mode='train')"
   ]
  },
  {
   "cell_type": "code",
   "execution_count": 34,
   "metadata": {},
   "outputs": [
    {
     "name": "stdout",
     "output_type": "stream",
     "text": [
      "[['Greece', 'wildfires', 'force', 'thousands', 'to', '<tgt>', 'evacuate', '</tgt>'], ['_', '_', '_', '_', '_', '_', 'evacuate.v', '_'], ['_', '_', '_', '_', '_', '_', 'Escaping', '_'], ['O', 'O', 'O', 'B-Escapee', 'O', 'X', 'O', 'X']]\n"
     ]
    }
   ],
   "source": [
    "print(en_trn[0])"
   ]
  },
  {
   "cell_type": "code",
   "execution_count": 69,
   "metadata": {},
   "outputs": [
    {
     "name": "stdout",
     "output_type": "stream",
     "text": [
      "[('그리고', 1706), ('(', 1631), ('수', 1432), (')', 1354), ('있다.', 1288), ('위한', 1122), ('및', 1112), (':', 1102), ('위해', 1094), ('대한', 1075), ('있는', 1070), ('핵', 1031), ('더', 838), ('이', 822), ('많은', 822), ('그', 789), ('다른', 712), ('미사일', 698), ('것을', 671), ('이란은', 598), ('이란의', 572), ('한', 557), ('또한', 537), ('화학', 530), ('이란이', 523), (';', 516), ('생물', 515), ('-', 495), ('화학무기', 471), ('것이다.', 467), ('같은', 463), ('무기', 452), ('프로그램을', 447), ('미국', 413), ('가장', 398), ('모든', 395), ('것으로', 395), ('두', 369), ('나는', 367), ('탄도', 363), ('그들의', 355), ('우라늄', 352), ('새로운', 348), ('의해', 341), ('--', 336), ('그의', 335), ('핵무기', 335), ('대해', 330), ('동안', 317), ('그는', 314)]\n",
      "\n",
      "[('수', 125), ('그', 115), ('이', 88), ('있는', 63), ('있습니다.', 53), ('것이', 48), ('것이다.', 46), ('하는', 42), ('한', 41), ('있다.', 35), ('약', 33), ('나는', 31), ('등의', 30), ('것을', 30), ('때', 30), ('있었다.', 29), ('지닌', 29), ('비행기를', 29), ('후,', 28), ('조종사', 28), ('면허,', 28), ('보고', 26), ('같은', 26), ('하지만,', 26), ('수십', 25), ('된', 25), ('하고', 24), ('할', 24), ('것은', 24), ('스스로', 23), ('않으면', 23), ('그런', 22), ('타는', 22), ('작은', 21), ('더', 21), ('것입니다.', 21), ('있을', 20), ('사람들의', 20), ('한다.', 20), ('자신의', 20), ('때,', 19), ('많은', 19), ('없다.', 19), ('있어,', 18), ('사람은', 18), ('하지만', 18), ('자가용', 18), ('사업용', 18), ('계기', 18), ('비행증명,', 18)]\n",
      "\n",
      "[('일', 237), ('있는', 161), ('것으로', 155), ('있다.', 126), ('등', 116), ('이', 114), ('지난', 108), ('대한', 107), ('수', 100), ('1', 96), ('있다고', 96), ('밝혔다.', 91), ('월', 84), ('3', 83), ('2', 79), ('위해', 78), ('말했다.', 71), ('년', 71), ('또', 69), ('한', 64), ('것이라고', 64), ('7', 64), ('5', 56), ('뒤', 55), ('이날', 51), ('및', 50), ('위한', 49), ('대해', 49), ('미국', 48), ('데', 47), ('10', 46), ('것을', 45), ('통해', 45), ('그러나', 44), ('지난해', 43), ('오는', 41), ('있으며', 41), ('전했다.', 39), ('보도했다.', 39), ('그는', 39), ('이번', 38), ('따라', 38), ('천', 38), ('한편', 38), ('경우', 38), ('미', 36), ('6', 35), ('20', 33), ('미국의', 33), ('전', 32)]\n",
      "\n",
      "[('그', 100), ('있다.', 71), ('그는', 71), ('이', 55), ('나는', 45), ('우리', 39), ('한다.', 32), ('수', 31), ('한', 30), ('있었다.', 28), ('이번', 26), ('우리는', 24), ('내', 22), ('것', 21), ('철수는', 19), ('잘', 19), ('위해', 19), ('그의', 19), ('것이다.', 18), ('있는', 18), ('모두', 17), ('것을', 16), ('것이', 16), ('서로', 16), ('했다.', 15), ('모든', 15), ('많이', 14), ('김', 13), ('자기', 13), ('된다.', 12), ('그녀는', 12), ('더', 12), ('일을', 12), ('나를', 12), ('저', 12), ('사람은', 11), ('없다.', 11), ('너무', 11), ('안', 10), ('자신의', 10), ('나에게', 10), ('때', 10), ('내가', 10), ('좀', 9), ('사람들이', 9), ('항상', 9), ('시작했다.', 9), ('여러', 9), ('그가', 8), ('것은', 8)]\n",
      "\n"
     ]
    }
   ],
   "source": [
    "# def get_all_tokens(data):\n",
    "#     tokens = []\n",
    "#     for i in data:\n",
    "#         tok = i[0]\n",
    "#         tokens += tok\n",
    "#     return tokens\n",
    "\n",
    "# ekfn = ekfn_trn_d\n",
    "# ekfn_tst = ekfn_tst_d\n",
    "# jkfn = jkfn_tst_d\n",
    "# skfn = skfn_tst_d\n",
    "# pkfn = pkfn_tst_d\n",
    "\n",
    "# ekfn_tokens = get_all_tokens(ekfn)\n",
    "# jkfn_tokens = get_all_tokens(jkfn)\n",
    "# skfn_tokens = get_all_tokens(skfn)\n",
    "# pkfn_tokens = get_all_tokens(pkfn)\n",
    "\n",
    "# d = Counter(ekfn_tokens).most_common(50)\n",
    "# print(d)\n",
    "# print('')\n",
    "\n",
    "# d = Counter(jkfn_tokens).most_common(50)\n",
    "# print(d)\n",
    "# print('')\n",
    "\n",
    "# d = Counter(pkfn_tokens).most_common(50)\n",
    "# print(d)\n",
    "# print('')\n",
    "\n",
    "# d = Counter(skfn_tokens).most_common(50)\n",
    "# print(d)\n",
    "# print('')"
   ]
  },
  {
   "cell_type": "code",
   "execution_count": 80,
   "metadata": {},
   "outputs": [
    {
     "name": "stdout",
     "output_type": "stream",
     "text": [
      "[('frame#0:Cause_to_make_progress', 'lu', '개발을'), ('frame#0:Cause_to_make_progress', 'fe:Agent', '이란은'), ('frame#0:Cause_to_make_progress', 'fe:Project', '전체 연료 주기')]\n"
     ]
    }
   ],
   "source": [
    "d= ['O', 'O', 'O', 'B-Escapee', 'I-Escapee', 'X', 'O', 'X']\n",
    "\n",
    "from src.dataio import frame2rdf\n",
    "\n",
    "d = frame2rdf([ekfn_trn[2]])\n",
    "print(d)"
   ]
  },
  {
   "cell_type": "code",
   "execution_count": 88,
   "metadata": {},
   "outputs": [
    {
     "name": "stdout",
     "output_type": "stream",
     "text": [
      "EKFN - avg_arg_lenth: (3.13, 1.29)\n",
      "JKFN - avg_arg_lenth: (2.22, 1.57)\n",
      "SKFN - avg_arg_lenth: (1.72, 2.13)\n",
      "PKFN - avg_arg_lenth: (3.82, 2.18)\n"
     ]
    }
   ],
   "source": [
    "ekfn = ekfn_trn_d\n",
    "ekfn_tst = ekfn_tst_d\n",
    "jkfn = jkfn_tst_d\n",
    "skfn = skfn_tst_d\n",
    "pkfn = pkfn_tst_d\n",
    "\n",
    "def get_avg_lengh(data):\n",
    "    n = 0\n",
    "    total = 0\n",
    "    sent = 0\n",
    "    for i in data:        \n",
    "        sent +=1 \n",
    "        graph = frame2rdf([i])        \n",
    "        for s,p,o in graph:\n",
    "            if 'fe:' in p:\n",
    "                lengh = len(o.split(' '))                \n",
    "                n += 1\n",
    "                total += lengh\n",
    "                \n",
    "    avg_lengh = round(total / n, 2)\n",
    "    avg_fe_number = round(n / sent, 2)\n",
    "    \n",
    "    result = 'avg_arg_lenth: ' + str(avg_lengh) + '. avg_args_per_sent: ' + str(avg_fe_number)\n",
    "    return avg_lengh, avg_fe_number\n",
    "\n",
    "\n",
    "\n",
    "print('EKFN - avg_arg_lenth:', get_avg_lengh(ekfn))\n",
    "print('JKFN - avg_arg_lenth:', get_avg_lengh(jkfn))\n",
    "print('SKFN - avg_arg_lenth:', get_avg_lengh(skfn))\n",
    "print('PKFN - avg_arg_lenth:', get_avg_lengh(pkfn))\n",
    "        "
   ]
  },
  {
   "cell_type": "code",
   "execution_count": null,
   "metadata": {},
   "outputs": [],
   "source": []
  },
  {
   "cell_type": "code",
   "execution_count": 139,
   "metadata": {},
   "outputs": [],
   "source": [
    "def get_lus_frames(data):\n",
    "    lus, frames, luframes = [],[],[]\n",
    "    for d in data:\n",
    "        for i in range(len(d[0])):\n",
    "            l = d[1][i]\n",
    "            if l != '_':\n",
    "                lu = l\n",
    "                frame = d[2][i]\n",
    "                luframe = l+'.'+frame\n",
    "                lus.append(lu)\n",
    "                frames.append(frame)\n",
    "                luframes.append(luframe)\n",
    "                break\n",
    "    lus = list(set(lus))\n",
    "#     frames = list(set(frames))\n",
    "#     luframes = list(set(luframes))\n",
    "    return lus, frames, luframes\n",
    "\n",
    "def get_fes(data):\n",
    "    fes = []\n",
    "    for d in data:\n",
    "        for f in d[2]:\n",
    "            if f != '_':\n",
    "                frame = f\n",
    "        f_list = d[-1]\n",
    "        for fe in f_list:\n",
    "            if fe.startswith('B'):\n",
    "                fe_label = fe.split('-')[1]\n",
    "#                 fes.append(fe_label)\n",
    "                framefe = frame + '-' + fe_label\n",
    "                fes.append(framefe)\n",
    "                \n",
    "#     fes = list(set(fes))\n",
    "    return fes"
   ]
  },
  {
   "cell_type": "code",
   "execution_count": 48,
   "metadata": {},
   "outputs": [],
   "source": [
    "def get_tps(data):\n",
    "    sents = len(data)\n",
    "    tokens = 0\n",
    "    \n",
    "    for d in data:\n",
    "        tokens += len(d[0])\n",
    "        \n",
    "    tps = round(float(tokens / sents),2)\n",
    "    return tps"
   ]
  },
  {
   "cell_type": "code",
   "execution_count": 143,
   "metadata": {},
   "outputs": [],
   "source": [
    "ekfn = ekfn_trn_d + ekfn_tst_d\n",
    "jkfn = jkfn_trn_d + jkfn_tst_d\n",
    "# skfn = skfn_trn + skfn_unlabel + skfn_tst\n",
    "# pkfn = pkfn_trn + pkfn_unlabel + pkfn_tst\n",
    "\n",
    "efn = en_trn\n",
    "\n",
    "ekfn = ekfn_trn_d\n",
    "ekfn_tst = ekfn_tst_d\n",
    "jkfn = jkfn_tst_d\n",
    "skfn = skfn_tst_d\n",
    "pkfn = pkfn_tst_d\n",
    "\n",
    "efn_lus, efn_frames, efn_luframes = get_lus_frames(efn)\n",
    "ekfn_lus, ekfn_frames, ekfn_luframes = get_lus_frames(ekfn)\n",
    "ekfn_tst_lus, ekfn_tst_frames, ekfn_tst_luframes = get_lus_frames(ekfn)\n",
    "jkfn_lus, jkfn_frames, jkfn_luframes = get_lus_frames(jkfn)\n",
    "skfn_lus, skfn_frames, skfn_luframes = get_lus_frames(skfn)\n",
    "pkfn_lus, pkfn_frames, pkfn_luframes = get_lus_frames(pkfn)\n",
    "\n",
    "efn_fes = get_fes(efn)\n",
    "ekfn_fes = get_fes(ekfn)\n",
    "ekfn_tst_fes = get_fes(ekfn_tst)\n",
    "jkfn_fes = get_fes(jkfn)\n",
    "skfn_fes = get_fes(skfn)\n",
    "pkfn_fes = get_fes(pkfn)"
   ]
  },
  {
   "cell_type": "code",
   "execution_count": 50,
   "metadata": {},
   "outputs": [
    {
     "name": "stdout",
     "output_type": "stream",
     "text": [
      "# of ekfn: 10647\n",
      "# of jkfn: 1000\n",
      "# of skfn: 1000\n",
      "# of pkfn: 1000\n"
     ]
    }
   ],
   "source": [
    "print('# of ekfn:', len(ekfn))\n",
    "print('# of jkfn:', len(jkfn))\n",
    "print('# of skfn:', len(skfn))\n",
    "print('# of pkfn:', len(pkfn))"
   ]
  },
  {
   "cell_type": "code",
   "execution_count": 51,
   "metadata": {},
   "outputs": [
    {
     "name": "stdout",
     "output_type": "stream",
     "text": [
      "# of ekfn_lus: 2736\n",
      "# of ekfn_frames: 610\n",
      "# of ekfn_luframes: 10647\n",
      "# of jkfn_lus: 649\n",
      "# of jkfn_frames: 293\n",
      "# of jkfn_luframes: 1000\n",
      "# of skfn_lus: 835\n",
      "# of skfn_frames: 337\n",
      "# of skfn_luframes: 1000\n",
      "# of pkfn_lus: 448\n",
      "# of pkfn_frames: 282\n",
      "# of pkfn_luframes: 1000\n"
     ]
    }
   ],
   "source": [
    "print('# of ekfn_lus:', len(ekfn_lus))\n",
    "print('# of ekfn_frames:', len(ekfn_frames))\n",
    "print('# of ekfn_luframes:', len(ekfn_luframes))\n",
    "print('# of jkfn_lus:', len(jkfn_lus))\n",
    "print('# of jkfn_frames:', len(jkfn_frames))\n",
    "print('# of jkfn_luframes:', len(jkfn_luframes))\n",
    "print('# of skfn_lus:', len(skfn_lus))\n",
    "print('# of skfn_frames:', len(skfn_frames))\n",
    "print('# of skfn_luframes:', len(skfn_luframes))\n",
    "print('# of pkfn_lus:', len(pkfn_lus))\n",
    "print('# of pkfn_frames:', len(pkfn_frames))\n",
    "print('# of pkfn_luframes:', len(pkfn_luframes))"
   ]
  },
  {
   "cell_type": "code",
   "execution_count": 58,
   "metadata": {},
   "outputs": [
    {
     "name": "stdout",
     "output_type": "stream",
     "text": [
      "[('프로그램.n.Project', 169), ('미사일.n.Weapon', 89), ('시설.n.Locale_by_use', 87), ('핵무기.n.Weapon', 75), ('작용제.n.Active_substance', 74), ('국가.n.Political_locales', 69), ('생산.n.Manufacturing', 68), ('말하다.v.Statement', 65), ('생산하다.v.Manufacturing', 60), ('능력.n.Capability', 59)]\n",
      "\n",
      "[('사람.n.People', 17), ('보다.v.Perception_active', 15), ('없다.a.Existence', 10), ('있다.a.Existence', 9), ('재미있다.a.Stimulus_focus', 9), ('하다.a.Intentionally_act', 8), ('되다.a.Becoming', 8), ('도착하다.v.Arriving', 7), ('눈.n.Perception_experience', 6), ('기쁘다.a.Experiencer_focus', 6)]\n",
      "\n",
      "[('터지다.v.Cause_to_fragment', 4), ('먹다.v.Ingestion', 4), ('채우다.v.Filling', 4), ('죽다.v.Death', 4), ('물려받다.v.Take_place_of', 3), ('빠뜨리다.v.Dunking', 3), ('내려오다.v.Traversing', 3), ('건네다.v.Giving', 3), ('올리다.v.Placing', 3), ('듣다.v.Hearsay', 3)]\n",
      "\n",
      "[('마련하다.v.Activity_prepare', 10), ('대하다.v.Topic', 9), ('벌이다.v.Activity_start', 8), ('검토하다.v.Inspecting', 8), ('거치다.v.Undergoing', 7), ('시작하다.v.Activity_start', 7), ('발표하다.v.Expressing_publicly', 7), ('참석하다.v.Attending', 7), ('선언하다.v.Statement', 7), ('보내다.v.Sending', 7)]\n",
      "\n"
     ]
    }
   ],
   "source": [
    "d = Counter(ekfn_luframes).most_common(10)\n",
    "print(d)\n",
    "print('')\n",
    "\n",
    "d = Counter(jkfn_luframes).most_common(10)\n",
    "print(d)\n",
    "print('')\n",
    "d = Counter(skfn_luframes).most_common(10)\n",
    "print(d)\n",
    "print('')\n",
    "\n",
    "d = Counter(pkfn_luframes).most_common(10)\n",
    "print(d)\n",
    "print('')"
   ]
  },
  {
   "cell_type": "code",
   "execution_count": 11,
   "metadata": {},
   "outputs": [
    {
     "data": {
      "text/plain": [
       "1"
      ]
     },
     "execution_count": 11,
     "metadata": {},
     "output_type": "execute_result"
    }
   ],
   "source": [
    "a = set(['a','b', 'b', 'c'])\n",
    "b = set(['a' ,'b'])\n",
    "\n",
    "len(a-b)"
   ]
  },
  {
   "cell_type": "code",
   "execution_count": 65,
   "metadata": {},
   "outputs": [],
   "source": [
    "def get_unseen(a,b):\n",
    "    d = len(set(b) - set(a))\n",
    "    per = '('+str(round((d / (len(b)) * 100), 2))+'%)'\n",
    "    count = 100 - round((d / (len(b)) * 100), 2)\n",
    "    return d, per, count\n",
    "\n",
    "def get_text(d):\n",
    "    t = ' '.join(d[0])\n",
    "    return t"
   ]
  },
  {
   "cell_type": "code",
   "execution_count": 41,
   "metadata": {},
   "outputs": [
    {
     "name": "stdout",
     "output_type": "stream",
     "text": [
      "tokens per sentence\n",
      "20.04\n",
      "14.79\n",
      "7.36\n",
      "23.86\n"
     ]
    }
   ],
   "source": [
    "print('tokens per sentence')\n",
    "print(get_tps(ekfn))\n",
    "print(get_tps(jkfn))\n",
    "print(get_tps(skfn))\n",
    "print(get_tps(pkfn))"
   ]
  },
  {
   "cell_type": "code",
   "execution_count": 66,
   "metadata": {},
   "outputs": [],
   "source": [
    "# pprint(ekfn_luframes)"
   ]
  },
  {
   "cell_type": "code",
   "execution_count": 127,
   "metadata": {},
   "outputs": [
    {
     "name": "stdout",
     "output_type": "stream",
     "text": [
      "unseen LU-frame by E-KFN\n",
      "(0, '(0.0%)', 100.0)\n",
      "(524, '(52.4%)', 47.6)\n",
      "(723, '(72.3%)', 27.700000000000003)\n",
      "(298, '(29.8%)', 70.2)\n"
     ]
    }
   ],
   "source": [
    "print('unseen LU-frame by E-KFN')\n",
    "print(get_unseen(ekfn_luframes, ekfn_tst_luframes))\n",
    "print(get_unseen(ekfn_luframes, jkfn_luframes))\n",
    "print(get_unseen(ekfn_luframes, skfn_luframes))\n",
    "print(get_unseen(ekfn_luframes, pkfn_luframes))"
   ]
  },
  {
   "cell_type": "code",
   "execution_count": 61,
   "metadata": {},
   "outputs": [
    {
     "name": "stdout",
     "output_type": "stream",
     "text": [
      "unseen LU-frame by J-KFN\n",
      "(3364, '(31.6%)')\n",
      "(0, '(0.0%)')\n",
      "(833, '(83.3%)')\n",
      "(468, '(46.8%)')\n"
     ]
    }
   ],
   "source": [
    "print('unseen LU-frame by J-KFN')\n",
    "print(get_unseen(jkfn_luframes, ekfn_luframes))\n",
    "print(get_unseen(jkfn_luframes, jkfn_luframes))\n",
    "print(get_unseen(jkfn_luframes, skfn_luframes))\n",
    "print(get_unseen(jkfn_luframes, pkfn_luframes))"
   ]
  },
  {
   "cell_type": "code",
   "execution_count": 62,
   "metadata": {},
   "outputs": [
    {
     "name": "stdout",
     "output_type": "stream",
     "text": [
      "unseen LU-frame by S-KFN\n",
      "(3410, '(32.03%)')\n",
      "(680, '(68.0%)')\n",
      "(0, '(0.0%)')\n",
      "(396, '(39.6%)')\n"
     ]
    }
   ],
   "source": [
    "print('unseen LU-frame by S-KFN')\n",
    "print(get_unseen(skfn_luframes, ekfn_luframes))\n",
    "print(get_unseen(skfn_luframes, jkfn_luframes))\n",
    "print(get_unseen(skfn_luframes, skfn_luframes))\n",
    "print(get_unseen(skfn_luframes, pkfn_luframes))"
   ]
  },
  {
   "cell_type": "code",
   "execution_count": 63,
   "metadata": {},
   "outputs": [
    {
     "name": "stdout",
     "output_type": "stream",
     "text": [
      "unseen LU-frame by P-KFN\n",
      "(3357, '(31.53%)')\n",
      "(687, '(68.7%)')\n",
      "(768, '(76.8%)')\n",
      "(0, '(0.0%)')\n"
     ]
    }
   ],
   "source": [
    "print('unseen LU-frame by P-KFN')\n",
    "print(get_unseen(pkfn_luframes, ekfn_luframes))\n",
    "print(get_unseen(pkfn_luframes, jkfn_luframes))\n",
    "print(get_unseen(pkfn_luframes, skfn_luframes))\n",
    "print(get_unseen(pkfn_luframes, pkfn_luframes))"
   ]
  },
  {
   "cell_type": "code",
   "execution_count": 136,
   "metadata": {},
   "outputs": [
    {
     "name": "stdout",
     "output_type": "stream",
     "text": [
      "unseen frame by E-KFN\n",
      "(0, '(0.0%)', 100.0)\n",
      "(31, '(3.1%)', 96.9)\n",
      "(82, '(8.2%)', 91.8)\n",
      "(52, '(5.2%)', 94.8)\n"
     ]
    }
   ],
   "source": [
    "print('unseen frame by E-KFN')\n",
    "print(get_unseen(ekfn_frames, ekfn_frames))\n",
    "print(get_unseen(ekfn_frames, jkfn_frames))\n",
    "print(get_unseen(ekfn_frames, skfn_frames))\n",
    "print(get_unseen(ekfn_frames, pkfn_frames))"
   ]
  },
  {
   "cell_type": "code",
   "execution_count": 116,
   "metadata": {},
   "outputs": [
    {
     "name": "stdout",
     "output_type": "stream",
     "text": [
      "unseen frame by EFN\n",
      "(21, '(0.2%)', 99.8)\n",
      "(17, '(1.7%)', 98.3)\n",
      "(55, '(5.5%)', 94.5)\n",
      "(39, '(3.9%)', 96.1)\n"
     ]
    }
   ],
   "source": [
    "print('unseen frame by EFN')\n",
    "print(get_unseen(efn_frames, ekfn_frames))\n",
    "print(get_unseen(efn_frames, jkfn_frames))\n",
    "print(get_unseen(efn_frames, skfn_frames))\n",
    "print(get_unseen(efn_frames, pkfn_frames))"
   ]
  },
  {
   "cell_type": "code",
   "execution_count": 20,
   "metadata": {},
   "outputs": [
    {
     "name": "stdout",
     "output_type": "stream",
     "text": [
      "이란이 발전하고 있는 세계에서 가장 진보된 생명 공학 산업 중의 하나를 가지고 있으며, 백신 연구와 생산 분야에서 서남 아시아에서 리더로서 오랫동안 인식되어 왔다.\n",
      "하지만 역시 다카시는 아내를 사랑하고 있었다.\n",
      "나는 회사를 사직하고 시골로 들어갔다.\n",
      "독일의 영국산 쇠고기 수입 금지 조치가 17 일 상원의 승인절차를 거쳐 해제될 전망이라고 바바리아주 출신의 라인홀트 보클네트 의원이 지난 15 일 밝혔다.\n"
     ]
    }
   ],
   "source": [
    "print(get_text(ekfn[0]))\n",
    "print(get_text(jkfn[3]))\n",
    "print(get_text(skfn[0]))\n",
    "print(get_text(pkfn[0]))"
   ]
  },
  {
   "cell_type": "code",
   "execution_count": 21,
   "metadata": {},
   "outputs": [
    {
     "name": "stdout",
     "output_type": "stream",
     "text": [
      "2288\n",
      "690\n",
      "1080\n",
      "880\n"
     ]
    }
   ],
   "source": [
    "\n",
    "\n",
    "print(len(ekfn_fes))\n",
    "print(len(jkfn_fes))\n",
    "print(len(skfn_fes))\n",
    "print(len(pkfn_fes))"
   ]
  },
  {
   "cell_type": "code",
   "execution_count": 135,
   "metadata": {},
   "outputs": [
    {
     "name": "stdout",
     "output_type": "stream",
     "text": [
      "unseen FEs by E-KFN\n",
      "(292, '(6.59%)', 93.41)\n",
      "(247, '(15.74%)', 84.26)\n",
      "(513, '(24.1%)', 75.9)\n",
      "(330, '(15.16%)', 84.84)\n"
     ]
    }
   ],
   "source": [
    "print('unseen FEs by E-KFN')\n",
    "print(get_unseen(ekfn_fes, ekfn_tst_fes))\n",
    "print(get_unseen(ekfn_fes, jkfn_fes))\n",
    "print(get_unseen(ekfn_fes, skfn_fes))\n",
    "print(get_unseen(ekfn_fes, pkfn_fes))"
   ]
  },
  {
   "cell_type": "code",
   "execution_count": 92,
   "metadata": {},
   "outputs": [
    {
     "name": "stdout",
     "output_type": "stream",
     "text": [
      "unseen FEs by J-KFN\n",
      "(1845, '(13.42%)', 86.58)\n",
      "(0, '(0.0%)', 100.0)\n",
      "(848, '(39.83%)', 60.17)\n",
      "(685, '(31.47%)', 68.53)\n"
     ]
    }
   ],
   "source": [
    "print('unseen FEs by J-KFN')\n",
    "print(get_unseen(jkfn_fes, ekfn_fes))\n",
    "print(get_unseen(jkfn_fes, jkfn_fes))\n",
    "print(get_unseen(jkfn_fes, skfn_fes))\n",
    "print(get_unseen(jkfn_fes, pkfn_fes))"
   ]
  },
  {
   "cell_type": "code",
   "execution_count": 93,
   "metadata": {},
   "outputs": [
    {
     "name": "stdout",
     "output_type": "stream",
     "text": [
      "unseen FEs by S-KFN\n",
      "(1721, '(12.52%)', 87.48)\n",
      "(458, '(29.19%)', 70.81)\n",
      "(0, '(0.0%)', 100.0)\n",
      "(443, '(20.35%)', 79.65)\n"
     ]
    }
   ],
   "source": [
    "print('unseen FEs by S-KFN')\n",
    "print(get_unseen(skfn_fes, ekfn_fes))\n",
    "print(get_unseen(skfn_fes, jkfn_fes))\n",
    "print(get_unseen(skfn_fes, skfn_fes))\n",
    "print(get_unseen(skfn_fes, pkfn_fes))"
   ]
  },
  {
   "cell_type": "code",
   "execution_count": 122,
   "metadata": {},
   "outputs": [
    {
     "name": "stdout",
     "output_type": "stream",
     "text": [
      "unseen FEs by P-KFN\n",
      "(357, '(61.66%)', 38.34)\n",
      "(140, '(52.24%)', 47.76)\n",
      "(123, '(39.94%)', 60.06)\n",
      "(0, '(0.0%)', 100.0)\n"
     ]
    }
   ],
   "source": [
    "print('unseen FEs by P-KFN')\n",
    "print(get_unseen(pkfn_fes, ekfn_fes))\n",
    "print(get_unseen(pkfn_fes, jkfn_fes))\n",
    "print(get_unseen(pkfn_fes, skfn_fes))\n",
    "print(get_unseen(pkfn_fes, pkfn_fes))"
   ]
  },
  {
   "cell_type": "code",
   "execution_count": 144,
   "metadata": {},
   "outputs": [
    {
     "name": "stdout",
     "output_type": "stream",
     "text": [
      "unseen FEs by EFN\n",
      "(257, '(1.87%)', 98.13)\n",
      "(143, '(9.11%)', 90.89)\n",
      "(387, '(18.18%)', 81.82)\n",
      "(250, '(11.48%)', 88.52)\n"
     ]
    }
   ],
   "source": [
    "print('unseen FEs by EFN')\n",
    "print(get_unseen(efn_fes, ekfn_fes))\n",
    "print(get_unseen(efn_fes, jkfn_fes))\n",
    "print(get_unseen(efn_fes, skfn_fes))\n",
    "print(get_unseen(efn_fes, pkfn_fes))"
   ]
  },
  {
   "cell_type": "code",
   "execution_count": 27,
   "metadata": {},
   "outputs": [
    {
     "name": "stdout",
     "output_type": "stream",
     "text": [
      "['Ride_vehicle-Vehicle', 'Justifying-Act', 'Prohibiting_or_licensing-State', 'Locale_by_use-Descriptor', 'Purpose-Domain', 'Perception_active-Perceiver_agentive', 'Change_event_duration-Cause', 'Sounds-Sound_source', 'Moving_in_place-Fixed_location', 'Ingest_substance-Delivery_device', 'Measure_duration-Landmark_event', 'Thriving-Circumstances', 'Bringing-Goal', 'Cognitive_connection-Concept_1', 'Memory-Cognizer', 'Fame-Role', 'Frequency-Interval', 'Simple_name-Entity', 'Suasion-Speaker', 'Performers_and_roles-Performer', 'State_continue-Entity', 'Judgment_direct_address-Reason', 'Locale_by_use-Locale', 'Breathing-Agent', 'Operate_vehicle-Time', 'Natural_features-Container_possessor', 'Process_end-Frequency', 'Cause_to_make_noise-Agent', 'Cardinal_numbers-Entity', 'First_experience-Experience', 'Discussion-Interlocutor_1', 'Network-Nodes', 'Text-Title', 'Electricity-Source', 'Desiring-Focal_participant', 'Evidence-Manner', 'Event-Place', 'Manufacturing-Time', 'Seeking-Means', 'Prevarication-Topic', 'Evaluative_comparison-Place', 'Activity_pause-Time', 'Process_stop-Process', 'Self_motion-Reason', 'Activity_ready_state-Activity', 'Separating-Instrument', 'Reporting-Purpose', 'Causation-Actor', 'Imposing_obligation-Duty', 'Judicial_body-Judicial_body', 'Process_continue-Concessive', 'First_rank-Contrast_set', 'Collaboration-Partners', 'Cause_motion-Time', 'Activity_start-Activity', 'Locale_by_use-Formational_cause', 'Employing-Employer', 'Reasoning-Arguer', 'Estimating-Value', 'Quantity-Individuals', 'Ingredients-Descriptor', 'Building_subparts-Use', 'Familiarity-Cognizer', 'Fairness_evaluation-Actor', 'Reliance-Intermediary', 'Similarity-Degree', 'Be_subset_of-Part', 'Committing_crime-Instrument', 'Locative_relation-Ground', 'Membership-Group', 'Artifact-Type', 'Being_necessary-Requirement', 'Exchange-Theme', 'Indigenous_origin-Entity', 'Complaining-Complaint', 'Assistance-Helper', 'Education_teaching-Institution', 'Relational_quantity-Reference_quantity', 'Shoot_projectiles-Depictive', 'Cotheme-Means', 'Personal_relationship-Partner_2', 'Travel-Frequency', 'Cotheme-Purpose', 'Resolve_problem-Agent', 'Infrastructure-Place', 'Cause_to_amalgamate-Part_1', 'Duration_description-Eventuality', 'Make_cognitive_connection-Concept_2', 'Fleeing-Goal', 'Referring_by_name-Speaker', 'Be_in_agreement_on_action-Obligation', 'Ordinal_numbers-Starting_point', 'Scrutiny-Degree', 'Stimulus_focus-Degree', 'Time_vector-Distance', 'Attack-Time', 'Operational_testing-Circumstances', 'Conduct-Manner', 'Locale-Related_event', 'Being_employed-Manner', 'Change_position_on_a_scale-Degree', 'Manufacturing-Product', 'Education_teaching-Depictive', 'Resolve_problem-Means', 'Releasing-Agent', 'Locale-Formational_cause', 'Cause_change_of_position_on_a_scale-Difference', 'Similarity-Entity_1', 'Partitive-Subset', 'Receiving-Purpose', 'Thwarting-Protagonist', 'Destroying-Patient', 'Change_of_leadership-Body', 'Part_whole-Part', 'Attributed_information-Text', 'Gathering_up-Aggregate', 'Bearing_arms-Weapon', 'Accomplishment-Particular_iteration', 'Emotion_directed-Manner', 'Natural_features-Locale', 'Military-Domain', 'Gathering_up-Agent', 'Imposing_obligation-Obligator', 'System-Function', 'Attempt_suasion-Degree', 'Categorization-Category', 'Coming_to_believe-Content', 'Be_in_agreement_on_action-Unconfirmed_content', 'Reliance-Degree', 'Arranging-Configuration', 'Cause_change_of_strength-Agent', 'Path_shape-Direction', 'Bringing-Period', 'Perception_experience-Body_part', 'Feeling-Emotional_state', 'Attention-Perceiver', 'Achieving_first-Cognizer', 'Obviousness-Degree', 'Thwarting-Action', 'Cause_change-Event_description', 'Alternatives-Agent', 'Locative_relation-Distance', 'Execute_plan-Plan', 'Immobilization-Patient', 'Activity_resume-Activity', 'Getting-Manner', 'Evoking-Stimulus', 'Arriving-Goal', 'Adjusting-Time', 'Size-Entity', 'Means-Descriptor', 'Path_traveled-Theme', 'Intentionally_create-Purpose', 'Prohibiting_or_licensing-Place', 'Theft-Perpetrator', 'Impact-Impactor', 'Artifact-Use', 'Point_of_dispute-Question', 'Capability-Entity', 'Presence-Location', 'Type-Type_property', 'Measure_mass-Count', 'Request-Addressee', 'Cause_expansion-Agent', 'Filling-Means', 'Containing-Container', 'Process_continue-Manner', 'Undergo_change-Degree', 'Rewards_and_punishments-Evaluee', 'Noise_makers-Name', 'Piracy-Vehicle', 'Businesses-Business', 'Capability-Event', 'Getting-Theme', 'Being_obligated-Time', 'Getting-Recipient', 'Halt-Manner', 'Delivery-Vehicle', 'Cotheme-Theme', 'Intentionally_affect-Patient', 'Quitting_a_place-Purpose', 'Destroying-Time', 'People_by_age-Descriptor', 'Sign-Indicated', 'Process_end-Degree', 'Accomplishment-Means', 'Touring-Means', 'Thwarting-Preventing_cause', 'Being_at_risk-Domain', 'Motion_directional-Place', 'Request-Focal_entity', 'Inspecting-Inspector', 'Departing-Event', 'Predicament-Cause', 'Usefulness-Purpose', 'Seeking-Time', 'Extradition-Purpose', 'Strictness-Agent', 'Process_resume-Process', 'Arriving-Source', 'Replacing-Old', 'Measure_area-Count', 'Becoming_dry-Manner', 'Performers_and_roles-Role', 'Locale_by_use-Constituent_parts', 'Sign_agreement-Signatory', 'Process_continue-Duration', 'Prevarication-Addressee', 'Activity_stop-Activity', 'Receiving-Place', 'Have_as_requirement-Degree', 'Needing-Cognizer', 'Activity_start-Manner', 'Estimated_value-Item', 'Roadways-Abundant_entities', 'Institutionalization-Patient', 'Hunting-Hunter', 'Terrorism-Purpose', 'Expectation-Cognizer', 'Operate_vehicle-Vehicle', 'Ratification-Time', 'Predicting-Time', 'Be_in_agreement_on_action-Parties', 'Operating_a_system-System', 'Accompaniment-Participant', 'Hearsay-Time', 'Sent_items-Sent_item', 'Position_on_a_scale-Variable', 'Cause_fluidic_motion-Fluid', 'Endangering-Cause', 'Substance-Type', 'Temporal_collocation-Landmark_period', 'Temporal_pattern-Descriptor', 'Operating_a_system-Purpose', 'Avoiding-Degree', 'Cause_to_continue-State', 'Apply_heat-Food', 'Importance-Factor', 'Kinship-Descriptor', 'Submitting_documents-Purpose_of_theme', 'Ingest_substance-Ingestor', 'Predicament-Place', 'Accomplishment-Goal', 'Suitability-Evaluee', 'Being_named-Type', 'Aggregate-Container_possessor', 'Relational_natural_features-Relative_location', 'Inhibit_movement-Agent', 'Emphasizing-Action', 'Manipulate_into_doing-Victim', 'Calendric_unit-Whole', 'Weapon-Use', 'Travel-Descriptor', 'Temporal_collocation-Trajector_period', 'Submitting_documents-Submittor', 'Earnings_and_losses-Place', 'Cause_change-Final_value', 'Beat_opponent-Loser', 'Earnings_and_losses-Earnings', 'Coming_up_with-Manner', 'Being_active-Agent', 'Bringing-Purpose', 'Activity_start-Purpose', 'Quantity-Mass', 'Change_position_on_a_scale-Initial_state', 'Position_on_a_scale-Item', 'Theft-Goods', 'Reading_perception-Text', 'Cause_change_of_position_on_a_scale-Manner', 'Control-Dependent_entity', 'Appointing-Degree', 'Scrutiny-Instrument', 'Deny_or_grant_permission-Authority', 'Craft-Descriptor', 'Sending-Time', 'Setting_fire-Kindler', 'Experiencer_obj-Stimulus', 'Information-Information', 'Dimension-Object', 'Cause_to_end-Time', 'Connecting_architecture-Whole', 'Purpose-Goal', 'Locative_relation-Figure', 'Judgment-Reason', 'Travel-Traveler', 'Type-Item_property', 'Predicting-Speaker', 'Transfer-Time', 'Transfer-Theme', 'Intentionally_act-Particular_iteration', 'Assessing-Depictive', 'Commerce_buy-Purpose', 'Quitting-Employer', 'Weapon-Creator', 'Hostile_encounter-Sides', 'Using-Role', 'Process_start-Event', 'Statement-Topic', 'Capability-Status', 'Accuracy-Instrument', 'Attack-Event_description', 'Gathering_up-Containing_event', 'Cure-Patient', 'Inhibit_movement-Duration', 'Suitability-User', 'Being_obligated-Responsible_party', 'Subjective_influence-Entity', 'Removing-Agent', 'Operational_testing-Product', 'Separating-Whole', 'Intentionally_affect-Agent', 'Cause_expansion-Item', 'Change_position_on_a_scale-Duration', 'Money-Time_of_creation', 'Commerce_pay-Seller', 'Exchange-Theme_1', 'Dispersal-Cause', 'Request-Medium', 'People_by_age-Age', 'Arriving-Depictive', 'Text_creation-Place', 'Fear-Experiencer', 'Morality_evaluation-Evaluee', 'Scouring-Ground', 'Placing-Speed', 'Departing-Time', 'Destroying-Place', 'Scouring-Searcher', 'Social_interaction_evaluation-Expressor', 'Attempt_suasion-Topic', 'Difficulty-Activity', 'Substance-Descriptor', 'Come_together-Party_1', 'People-Origin', 'Arriving-Place', 'Scrutiny-Phenomenon', 'Origin-Origin', 'Source_of_getting-Goal', 'Becoming_dry-Entity', 'Finish_competition-Competitor', 'Part_whole-Whole', 'Prominence-Entity', 'Change_tool-Agent', 'Robbery-Goods', 'Partitive-Group', 'Examination-Knowledge', 'Employing-Employee', 'Stimulus_focus-Experiencer', 'Change_position_on_a_scale-Final_value', 'Fluidic_motion-Place', 'Education_teaching-Student', 'Fleeing-Self_mover', 'Statement-Time', 'Guilt_or_innocence-Accused', 'Cause_to_fragment-Time', 'Trial-Defendant', 'Intentionally_act-Result', 'Dispersal-Means', 'Fairness_evaluation-Action', 'Adopt_selection-Attribute', 'Sensation-Descriptor', 'Military-Descriptor', 'Cause_change-Cause', 'Change_position_on_a_scale-Correlated_variable', 'Ratification-Reason', 'Cause_change_of_position_on_a_scale-Value_2', 'Supporting-Supporter', 'Attempt-Goal', 'Destroying-Means', 'Source_of_getting-Theme', 'Deny_or_grant_permission-Reason', 'Chatting-Depictive', 'Bungling-Degree', 'Project-Goal', 'Predicament-Situation', 'Imposing_obligation-Principle', 'Defending-Defender', 'Hostile_encounter-Place', 'Success_or_failure-Time', 'Cause_motion-Goal', 'Arriving-Purpose', 'Objective_influence-Time', 'Emotion_active-Experiencer', 'Going_back_on_a_commitment-Commitment', 'Being_employed-Place_of_employment', 'Hunting-Food', 'Wearing-Time', 'Thwarting-Time', 'Increment-Added_set', 'Containers-Type', 'Predicting-Eventuality', 'Statement-Speaker', 'Judgment-Result', 'Change_posture-Protagonist', 'Infrastructure-Resource', 'Giving-Recipient', 'Posture-Agent', 'Getting-Means', 'Biological_area-Relative_location', 'Cotheme-Path', 'Cause_motion-Agent', 'Questioning-Time', 'Execute_plan-Purpose', 'Goal-Landmark', 'Agree_or_refuse_to_act-Proposed_action', 'Being_obligated-Frequency', 'Becoming_aware-Manner', 'Reveal_secret-Speaker', 'Progression-Event_description', 'Regard-Judgment', 'Killing-Cause', 'Part_inner_outer-Part', 'Chemical-sense_description-Sensory_attribute', 'Fluidic_motion-Configuration', 'Redirecting-Means', 'Killing-Killer', 'Adopt_selection-Value', 'Progression-Duration', 'Adducing-Speaker', 'Mental_stimulus_stimulus_focus-Degree', 'Research-Researcher', 'Cognitive_connection-Concepts', 'Relation-Entities', 'Halt-Purpose', 'Scarcity-Collection', 'Kinship-Ego', 'Statement-Addressee', 'Make_agreement_on_action-Party_1', 'Locale-Descriptor', 'Change_of_leadership-Old_order', 'Manufacturing-Means', 'Process_start-Time', 'Communicate_categorization-Time', 'Objective_influence-Manner', 'Chatting-Interlocutor_2', 'Shapes-Substance', 'Expertise-Behavior_product', 'Being_employed-Employee', 'Receiving-Time', 'Reasoning-Time', 'Activity_resume-Agent', 'Activity_start-Agent', 'Shoot_projectiles-Projectile', 'Verification-Manner', 'Body_movement-Manner', 'Traversing-Time', 'Processing_materials-Result', 'Performers_and_roles-Performance', 'Come_together-Place', 'Arriving-Means', 'Relative_time-Focal_participant', 'Catastrophe-Time', 'Earnings_and_losses-Containing_event', 'Arriving-Event_description', 'Participation-Place', 'Receiving-Manner', 'Terms_of_agreement-Agreement', 'People_by_vocation-Place_of_employment', 'Military-Possessor', 'Cause_harm-Agent', 'Judicial_body-Task', 'Similarity-Differentiating_fact', 'Point_of_dispute-Status', 'Temporary_stay-Location', 'Being_named-Entity', 'Recovery-Means', 'Quitting_a_place-Self_mover', 'Being_in_control-Dependent_entity', 'Daring-Agent', 'Point_of_dispute-Domain', 'Cause_to_end-Agent', 'Thriving-Entity', 'Collaboration-Manner', 'Abounding_with-Location', 'Compliance-Manner', 'Progression-Post_state', 'Cotheme-Cotheme', 'Removing-Theme', 'Holding_off_on-Agent', 'Cause_to_start-Cause', 'Ingredients-Use', 'Motion_directional-Goal', 'Aiming-Purpose', 'Moving_in_place-Theme', 'Building-Created_entity', 'Installing-Agent', 'Manufacturing-Frequency', 'Temporal_subregion-Time', 'Discussion-Purpose', 'Building-Manner', 'Front_for-Illicit_activity', 'Delimitation_of_diversity-Item', 'Fluidic_motion-Goal', 'Quarreling-Issue', 'Willingness-Cognizer', 'Capability-Circumstances', 'Emotion_active-Topic', 'Bearing_arms-Protagonist', 'Placing-Degree', 'Justifying-State_of_affairs', 'Connecting_architecture-Goal', 'Activity_stop-Agent', 'Risky_situation-Situation', 'Render_nonfunctional-Artifact', 'Complaining-Complainer', 'Cause_to_make_progress-Duration', 'Existence-Entity', 'Research-Question', 'Commerce_buy-Imposed_purpose', 'Secrecy_status-Degree', 'Replacing-New', 'Coming_up_with-Time', 'Grasp-Completeness', 'Excreting-Means', 'Relative_time-Interval', 'Process_start-Depictive', 'Categorization-Circumstances', 'Operational_testing-Time', 'Certainty-Content', 'Cause_to_end-Cause', 'Processing_materials-Agent', 'Causation-Manner', 'Commerce_sell-Seller', 'Sentencing-Term_of_sentence', 'Travel-Duration', 'Containers-Relative_location', 'Communication-Message', 'Architectural_part-Whole', 'Physical_artworks-Represented', 'Rape-Perpetrator', 'Telling-Time', 'Scrutiny-Cognizer', 'Preventing_or_letting-State_of_affairs', 'Body_parts-Possessor', 'Have_as_requirement-Explanation', 'Avoiding-Undesirable_situation', 'Speed_description-Time', 'Dominate_situation-Time', 'Fame-Entity', 'Change_position_on_a_scale-Item', 'Aiming-Target_location', 'Collaboration-Place', 'Sounds-Location_of_sound_source', 'Temporal_collocation-Landmark_event', 'Undergo_change-Attribute', 'Hit_or_miss-Instrument', 'Supply-Circumstances', 'Natural_features-Relative_location', 'Expressing_publicly-Medium', 'Adducing-Specified_entity', 'Likelihood-Hypothetical_event', 'Activity_ready_state-Protagonist', 'Information-Topic', 'Cause_change-Time', 'Assessing-Assessor', 'Calendric_unit-Salient_event', 'Intentionally_act-Place', 'Recovery-Goal', 'Architectural_part-Orientation', 'Gizmo-Descriptor', 'Desirability-Circumstances', 'Building_subparts-Whole', 'Thriving-Duration', 'Going_back_on_a_commitment-Explanation', 'Text-Time_of_creation', 'Travel-Distance', 'Existence-Concessive', 'Attempt-Manner', 'Substance-Source', 'Seeking-Sought_entity', 'Deciding-Time', 'Buildings-Descriptor', 'Unattributed_information-Reported_fact', 'Vehicle-Possessor', 'Choosing-Reason', 'Expertise-Time', 'Cognitive_connection-Point_of_view', 'Medical_professionals-Professional', 'Sign_agreement-Agreement', 'Noise_makers-Use', 'Response-Trigger', 'Sending-Goal', 'Text-Containing_text', 'Revenge-Offender', 'Emotions_of_mental_activity-Stimulus', 'Dead_or_alive-Figure', 'Withdraw_from_participation-Participant', 'Revenge-Degree', 'Similarity-Entity_2', 'First_rank-Limits_of_consideration', 'Distributed_position-Location', 'Waiting-Expected_event', 'Subjective_influence-Situation', 'Coming_to_be-Entity', 'Reliance-Means', 'Reveal_secret-Containing_event', 'Importance-Degree', 'Attaching-Goal', 'Awareness-Explanation', 'Have_associated-Entity', 'Social_event-Style', 'Earnings_and_losses-Goods', 'Differentiation-Phenomena', 'People_by_vocation-Origin', 'Releasing-Time', 'Body_movement-Agent', 'Categorization-Manner', 'Make_noise-Place', 'Referring_by_name-Entity', 'Estimating-Time', 'Memory-Content', 'Waiting-Time', 'Locale-Name', 'Temporal_collocation-Landmark', 'Medical_conditions-Symptom', 'State_of_entity-Evaluation', 'Reporting-Authorities', 'Being_in_effect-Binding_principle', 'Moving_in_place-Place', 'Self_motion-Purpose', 'Openness-Barrier', 'Completeness-Whole', 'Cause_change_of_position_on_a_scale-Agent', 'Amassing-Recipient', 'Capability-Cause', 'Reasoning-Content', 'Communication-Medium', 'Text-Medium', 'Simultaneity-Events', 'Enforcing-Rule', 'Statement-Place', 'Aggregate-Name', 'Activity_finish-Purpose', 'Attempt-Duration', 'Instance-Instance_prop', 'Estimating-Cognizer', 'Communication-Time', 'Change_posture-Time', 'Means-Means', 'Kidnapping-Perpetrator', 'Locating-Sought_entity', 'Remainder-Resource', 'Expansion-Manner', 'Buildings-Function', 'People_by_vocation-Persistent_characteristic', 'Competition-Degree', 'Ratification-Proposal', 'Estimated_value-Cognizer', 'Aiming-Instrument', 'Event-Reason', 'Expansion-Item', 'Exchange-Place', 'Arriving-Theme', 'Damaging-Time', 'Activity_ready_state-Time', 'Undergo_change-Entity', 'Dispersal-Competitor', 'Accomplishment-Time', 'Assistance-Focal_entity', 'Toxic_substance-Toxic_substance', 'Path_shape-Path', 'Subversion-Counter_actor', 'Expressing_publicly-Content', 'Contrition-Expressor', 'Execute_plan-Degree', 'Halt-Theme', 'Importing-Exporting_area', 'Residence-Location', 'Compatibility-Items', 'Discussion-Place', 'Judgment_communication-Frequency', 'Notification_of_charges-Charges', 'Locale_by_use-Relative_location', 'Cause_change-Purpose', 'Seeking_to_achieve-Manner', 'Revenge-Time', 'Protecting-Protection', 'Be_in_agreement_on_assessment-Cognizers', 'Redirecting-Theme', 'Topic-Text', 'Partiality-Decision_maker', 'Death-Place', 'Terrorism-Organization', 'Traversing-Source', 'Direction-Landmark', 'Scrutiny-Manner', 'Locating-Perceiver', 'Political_locales-Relative_location', 'Weapon-Wielder', 'Endangering-Valued_entity', 'Win_prize-Competitor', 'Difficulty-Experiencer', 'Punctual_perception-Phenomenon', 'Supply-Purpose', 'Appeal-Phenomenon', 'Chemical-sense_description-Perceptual_source', 'People_by_residence-Known_resident', 'Institutions-Domain', 'Coming_to_be-Place', 'Personal_relationship-Depictive', 'Killing-Place', 'State_continue-State', 'Work-Manner', 'Residence-Circumstances', 'Revenge-Injury', 'Connecting_architecture-Connected_locations', 'Experiencer_focus-Degree', 'Process_start-Initial_subevent', 'Processing_materials-Alterant', 'Artifact-Creator', 'Becoming_aware-Means', 'Commercial_transaction-Goods', 'Ingestion-Ingestibles', 'Dimension-Location', 'Intentionally_act-Domain', 'Political_locales-Locale', 'Run_risk-Bad_outcome', 'Continued_state_of_affairs-State_of_affairs', 'Text_creation-Text', 'Expertise-Protagonist', 'Cause_to_continue-Cause', 'Feeling-Experiencer', 'Judgment_communication-Topic', 'Linguistic_meaning-Meaning', 'Deny_or_grant_permission-Action', 'Render_nonfunctional-Time', 'Event-Event', 'Besieging-Time', 'Importing-Importer', 'Institutionalization-Time', 'Sign_agreement-Purpose', 'Statement-Manner', 'Taking_sides-Issue', 'Motion-Time', 'Sole_instance-Item', 'Certainty-Explanation', 'Commerce_sell-Time', 'Cause_change-Means', 'History-Topic', 'Activity_prepare-Agent', 'Verification-Medium', 'Change_position_on_a_scale-Difference', 'Progression-Place', 'Change_event_time-Cause', 'Being_operational-Artifact', 'Categorization-Time', 'Telling-Topic', 'Becoming_aware-Phenomenon', 'Building-Place', 'Becoming-Final_state', 'Preventing_or_letting-Preventing_cause', 'Toxic_substance-Degree', 'Clothing-Wearer', 'Exchange-Themes', 'Adducing-Role', 'Medical_conditions-Place', 'Activity_start-Containing_event', 'Origin-Entity', 'Process_end-Reason', 'Hostile_encounter-Time', 'Response-Agent', 'Expectation-Phenomenon', 'Storing-Location', 'Offering-Offerer', 'Resolve_problem-Problem', 'Desirability-Affected_party', 'Perception_experience-State', 'Becoming-Entity', 'Manipulation-Agent', 'Prohibiting_or_licensing-Circumstances', 'Grasp-Category', 'Evaluative_comparison-Profiled_item', 'Import_export_scenario-Importing_area', 'Ammunition-Type', 'Visiting-Time', 'Renunciation-Speaker', 'Suasion-Content', 'Self_motion-Area', 'Eventive_affecting-Event', 'Wearing-Body_part', 'Commitment-Topic', 'Precipitation-Place', 'Being_obligated-Duty', 'Estimating-Estimation', 'Vehicle-Vehicle', 'Opinion-Topic', 'Commitment-Addressee', 'Theft-Source', 'Political_locales-Name', 'Legality-Action', 'Social_interaction_evaluation-Evaluee', 'Fear-Degree', 'Social_event-Refreshment', 'Delivery-Deliverer', 'Ratification-Ratifier', 'Sole_instance-Type', 'Communication_noise-Reason', 'Building-Purpose', 'Required_event-Time', 'Arrest-Suspect', 'Creating-Created_entity', 'Renunciation-Content', 'Direction-Degree', 'Activity_done_state-Activity', 'Activity_finish-Agent', 'Lively_place-Location', 'Fluidic_motion-Time', 'Degree_of_processing-Material', 'Offenses-Offense', 'Cause_change_of_strength-Patient', 'Frequency-Rate', 'Linguistic_meaning-Form', 'Terrorism-Descriptor', 'Beyond_compare-Variable', 'Travel-Goal', 'Roadways-Material', 'Individual_history-Events', 'Touring-Place', 'Manipulate_into_doing-Degree', 'Forming_relationships-Partner_1', 'Body_movement-Duration', 'Fullness-Container', 'Arranging-Location', 'Feeling-Emotion', 'People-Age', 'Causation-Effect', 'People_by_religion-Person', 'Temporal_collocation-Trajector_event', 'Undergo_change-Frequency', 'People_by_vocation-Type', 'Motion-Source', 'Commerce_scenario-Seller', 'Project-Field', 'Judicial_body-Jurisdiction', 'Possession-Owner', 'Gathering_up-Frequency', 'Getting-Source', 'Getting-Time', 'Judgment_direct_address-Addressee', 'Fields-Salient_entity', 'Expensiveness-Payer', 'Project-Manner', 'Buildings-Creator', 'Reveal_secret-Information', 'Distinctiveness-Entity', 'Undergo_change-Cause', 'Change_posture-Purpose', 'Change_of_leadership-Selector', 'Abusing-Victim', 'People_by_vocation-Person', 'Diversity-Dimension', 'Cause_to_amalgamate-Means', 'Rank-Item', 'Relational_political_locales-Relative_location', 'Take_place_of-New', 'Supply-Place', 'Locating-Ground', 'Catastrophe-Cause', 'Terms_of_agreement-Regulated_entity', 'Compliance-Degree', 'Attack-Assailant', 'Attack-Weapon', 'Cause_change_of_strength-Time', 'Hostile_encounter-Means', 'Existence-Inherent_purpose', 'Being_employed-Type', 'Desiring-Time', 'Attack-Manner', 'Name_conferral-Name', 'Reference_text-Information', 'Coming_to_be-Time', 'Scrutiny-Purpose', 'Being_employed-Duration', 'Coming_up_with-Cognizer', 'Labeling-Label', 'Delivery-Manner', 'Taking_time-Time_length', 'Participation-Purpose', 'Taking_time-Degree', 'Expressing_publicly-Place', 'Placing-Cause', 'Political_locales-Constituent_parts', 'Prohibiting_or_licensing-Principle', 'Excreting-Excreter', 'Taking-Source', 'Indigenous_origin-Origin', 'Import_export_scenario-Agent', 'Have_associated-Topical_entity', 'Progression-Manner', 'Desirability-Degree', 'Becoming_aware-Cognizer', 'Chatting-Topic', 'Commitment-Message', 'Taking-Agent', 'Foreign_or_domestic_country-Population', 'Duplication-Characterization', 'Hit_target-Place', 'Supporting-Supported', 'Progression-Time', 'Possession-Depictive', 'Piracy-Perpetrator', 'Intentionally_create-Manner', 'Practice-Occasion', 'Commerce_buy-Time', 'Ingredients-Type', 'Protecting-Means', 'Earnings_and_losses-Rate', 'Amassing-Place', 'Self_motion-Self_mover', 'Taking-Place', 'Activity_prepare-Means', 'Being_obligated-Condition', 'Explaining_the_facts-State_of_affairs', 'Shoot_projectiles-Source', 'Motion-Depictive', 'Telling-Message', 'Color-Entity', 'Perception_experience-Location_of_protagonist', 'Using-Degree', 'Motion_directional-Source', 'Thriving-Time', 'Damaging-Patient', 'Part_orientational-Part_prop', 'Trial-Manner', 'Activity_ready_state-Salient_entity', 'Exporting-Importing_area', 'Opinion-Circumstances', 'Successful_action-Goal', 'Education_teaching-Course', 'Terrorism-Instrument', 'Protecting-Degree', 'Activity_pause-Duration', 'Occupy_rank-Item', 'Theft-Means', 'Assessing-Phenomenon', 'Operate_vehicle-Driver', 'Locale_by_use-Container_possessor', 'Prohibiting_or_licensing-State_of_affairs', 'Change_of_leadership-Time', 'Sign-Indicator', 'Be_subset_of-Time', 'Project-Name', 'Judgment_communication-Reason', 'Alternatives-Event', 'Conduct-Agent', 'Trust-Information', 'Subordinates_and_superiors-Superior', 'People-Context_of_acquaintance', 'Activity_ongoing-Time', 'Point_of_dispute-Group', 'Cause_expansion-Purpose', 'Partiality-Dispute', 'Containing-Contents', 'Entity-Type', 'Front_for-Front', 'Make_agreement_on_action-Parties', 'Capability-Degree', 'Sufficiency-Enabled_situation', 'Bringing-Path', 'Objective_influence-Degree', 'Statement-Occasion', 'Intentionally_create-Co_participant', 'Firing-Employer', 'Arrest-Offense', 'Medical_conditions-Body_part', 'Quitting-Reason', 'Economy-Economy', 'Judgment_communication-Communicator', 'Store-Resource', 'Manufacturing-Instrument', 'Confronting_problem-Agent', 'Using-Agent', 'Avoiding-Means', 'Indicating-Unresolved_referent', 'Moving_in_place-Time', 'Legality-Object', 'Seeking-Ground', 'Identicality-Current_instance', 'Part_inner_outer-Whole', 'Cause_to_amalgamate-Part_2', 'Time_vector-Event', 'Locative_relation-Time', 'Activity_pause-Agent', 'Piracy-Time', 'Offering-Theme', 'Visiting-Agent', 'Self_motion-Distance', 'Amounting_to-Attribute', 'Being_located-Place', 'Being_born-Child', 'Inspecting-Ground', 'Biological_area-Descriptor', 'People_by_jurisdiction-Descriptor', 'Commerce_pay-Buyer', 'Reforming_a_system-Entity', 'Placing-Agent', 'Being_born-Time', 'Commerce_sell-Buyer', 'Inspecting-Time', 'Active_substance-Name', 'Expertise-Skill', 'Manipulation-Reason', 'Dispersal-Time', 'Custom-Domain', 'Preserving-Manner', 'Summarizing-Medium', 'Predicting-Accuracy', 'Typicality-Entity', 'Ride_vehicle-Theme', 'Craft-Activity', 'Purpose-Attribute', 'Rite-Type', 'Cause_to_amalgamate-Parts', 'Expansion-Time', 'Emotion_directed-Experiencer', 'Exporting-Vehicle', 'Ingestion-Ingestor', 'Usefulness-Entity', 'Sensation-Percept', 'Leadership-Depictive', 'Make_noise-Particular_iteration', 'Processing_materials-Place', 'Come_together-Purpose', 'Death-Time', 'Suspicion-Suspect', 'Importing-Goods', 'Biological_urge-Reason', 'Needing-Time', 'Delivery-Reason', 'Process_stop-Time', 'Abounding_with-Theme', 'Practice-Manner', 'Cognitive_connection-Concept_2', 'Social_connection-Individual_2', 'Make_agreement_on_action-Party_2', 'Encoding-Message', 'Filling-Goal', 'Coming_up_with-Purpose', 'Food-Type', 'Activity_start-Time', 'Objective_influence-Dependent_entity', 'Attributed_information-Speaker', 'Receiving-Recipient', 'Resolve_problem-Manner', 'Receiving-Donor', 'Becoming_aware-Purpose', 'Besieging-Victim', 'Giving-Donor', 'Relational_quantity-Mass', 'Social_interaction_evaluation-Behavior', 'Perception_experience-Perceiver_passive', 'Evaluative_comparison-Attribute', 'Placing-Place', 'Commerce_sell-Goods', 'Visiting-Frequency', 'Predicament-Experiencer', 'Shoot_projectiles-Goal', 'Process_continue-Event', 'Taking_time-Activity', 'Natural_features-Descriptor', 'Certainty-Cognizer', 'Performing_arts-Type', 'Regard-Cognizer', 'Cause_to_fragment-Cause', 'Becoming_aware-Instrument', 'Needing-Requirement', 'Social_event-Attendee', 'Subversion-Agent', 'Part_whole-Orientation', 'Distributed_position-Theme', 'Sign-Degree', 'Supply-Supplier', 'Mental_stimulus_stimulus_focus-Stimulus', 'Emphasizing-Agent', 'Buildings-Time_of_creation', 'Existence-State', 'Law-Use', 'Existence-Duration', 'Age-Age', 'Commerce_scenario-Goods', 'Removing-Source', 'Research-Time', 'Cotheme-Road', 'Source_of_getting-Descriptor', 'Subjective_influence-Cognizer', 'Becoming_aware-Topic', 'Discussion-Duration', 'Discussion-Depictive', 'Version_sequence-Item', 'Candidness-Topic', 'Execution-Executed', 'Cogitation-Topic', 'Source_of_getting-Source', 'Temporal_pattern-Process', 'Convey_importance-Message', 'Contingency-Determinant', 'Competition-Participant_1', 'Roadways-Characteristic', 'Seeking_to_achieve-State_of_affairs', 'Response-Time', 'Emotion_directed-Stimulus', 'Telling-Manner', 'Diversity-Degree', 'Surrendering_possession-Surrenderer', 'Economy-Descriptor', 'Taking-Containing_event', 'Delimitation_of_diversity-Variable', 'Time_vector-Landmark', 'Reason-Action', 'Communicate_categorization-Category', 'Omen-Phenomenon_2', 'Hostile_encounter-Manner', 'Participation-Duration', 'Businesses-Service_provider', 'Arriving-Cotheme', 'Placing-Manner', 'Hearsay-Hearer', 'Suitability-Degree', 'Departing-Depictive', 'Craft-Culture', 'Weapon-Name', 'Change_position_on_a_scale-Attribute', 'Evaluative_comparison-Standard_attribute', 'Architectural_part-Descriptor', 'Range-Distance', 'Questioning-Speaker', 'Attack-Means', 'Kinship-Alter', 'Halt-Place', 'Clothing-Style', 'Change_position_on_a_scale-Manner', 'Buildings-Building', 'Education_teaching-Teacher', 'Killing-Means', 'Death-Protagonist', 'Leadership-Leader', 'Commitment-Purpose', 'Attack-Victim', 'Measure_linear_extent-Count', 'Expertise-Role', 'Cause_to_end-State', 'Weapon-Material', 'Trust-Source', 'Chatting-Place', 'Desirable_event-State', 'Possession-Possession', 'Judgment_communication-Time', 'Cause_to_make_progress-Post_state', 'Relational_natural_features-Landmark_feature', 'Estimating-Item', 'Cause_to_make_progress-Manner', 'Cause_to_amalgamate-Time', 'Compliance-Norm', 'Contingency-Circumstances', 'Substance-Substance', 'Catastrophe-Degree', 'Residence-Frequency', 'Becoming-Final_category', 'Dimension-Domain', 'Expectation-Topic', 'Bearing_arms-Degree', 'People_by_age-Ethnicity', 'Reading_perception-Reader', 'Visiting-Entity', 'Ineffability-Stimulus', 'Evidence-Depictive', 'Research-Topic', 'Differentiation-Cognizer', 'Aiming-Targeted', 'Reveal_secret-Manner', 'Self_motion-Goal', 'Work-Goal', 'Cause_harm-Containing_event', 'Attack-Path', 'Medical_conditions-Name', 'Natural_features-Type', 'Education_teaching-Skill', 'Claim_ownership-Property', 'Temporal_collocation-Trajector', 'Success_or_failure-Agent', 'Dominate_situation-Situation', 'Being_at_risk-Degree', 'Being_at_risk-Asset', 'Stinginess-Resource', 'Money-Possessor', 'Grinding-Patient', 'Vehicle-Descriptor', 'Purpose-Time', 'Activity_finish-Activity', 'Choosing-Chosen', 'Process_end-Time', 'Rest-Rest', 'Likelihood-Degree', 'Manipulation-Bodypart_of_agent', 'Surrendering_possession-Recipient', 'Purpose-Agent', 'Businesses-Business_name', 'Diversity-Depictive', 'Reason-State_of_affairs', 'Discussion-Manner', 'Response-Response', 'Have_associated-Circumstances', 'Revenge-Manner', 'Political_locales-Population', 'Taking_sides-Action', 'Appeal-Degree', 'Topic-Topic', 'Renunciation-Time', 'Chatting-Interlocutors', 'Render_nonfunctional-Place', 'Activity_stop-Time', 'Religious_belief-Element', 'Attack-Depictive', 'Frequency-Time_span', 'State_continue-Place', 'Becoming-Cause', 'People_by_jurisdiction-Jurisdiction', 'Change_of_leadership-Degree', 'Stage_of_progress-Degree', 'Having_or_lacking_access-Useful_location', 'Practice-Purpose', 'Social_event-Name', 'Leadership-Role', 'Gizmo-User', 'Being_located-Cotheme', 'Motion_directional-Manner', 'Rewards_and_punishments-Agent', 'Operational_testing-Result', 'Causation-Affected', 'Eclipse-Eclipsed', 'Convey_importance-Medium', 'Communication_noise-Speaker', 'Supporting-Time', 'Reporting-Behavior', 'Travel-Mode_of_transportation', 'Cause_to_make_progress-Place', 'Come_together-Manner', 'Competition-Competition', 'Cause_to_start-Effect', 'Expansion-Result_size', 'Make_noise-Sound', 'Catastrophe-Place', 'Activity_ongoing-Subevent', 'Placing-Theme', 'Text-Beneficiary', 'Attention-Figure', 'Rank-Rank', 'Cause_change-Attribute', 'Becoming_aware-Circumstances', 'Besieging-Assailant', 'Arriving-Mode_of_transportation', 'Preventing_or_letting-Protagonist', 'Desirability-Evaluee', 'Idiosyncrasy-Idiosyncrasy', 'Waiting-Salient_entity', 'Cause_expansion-Place', 'Appeal-Appraisal', 'Being_at_risk-Harmful_event', 'Artifact-Name', 'Manufacturing-Depictive', 'Omen-Outcome', 'Fields-Practitioner', 'Intentionally_create-Time', 'Buildings-Relative_location', 'Touring-Tourist', 'Posture-Manner', 'Create_physical_artwork-Descriptor', 'Collaboration-Partner_2', 'Attention-Degree', 'Exchange-Exchanger_1', 'Occupy_rank-Rank', 'Be_in_agreement_on_action-Created_entity', 'Rest-Part', 'Locale_by_use-Circumstances', 'Supply-Imposed_purpose', 'Participation-Participant_1', 'Actually_occurring_entity-Type', 'Assessing-Method', 'Intercepting-Theme', 'Cotheme-Event', 'Level_of_force_exertion-Entity', 'Deny_or_grant_permission-Time', 'Deserving-State', 'Attaching-Manner', 'Abundance-Collection', 'Cause_change_of_position_on_a_scale-Item', 'Awareness-Content', 'Businesses-Descriptor', 'Progression-Rate', 'Travel-Purpose', 'Arranging-Theme', 'Attempt_suasion-Depictive', 'Expensiveness-Goods', 'Economy-Political_region', 'Change_position_on_a_scale-Time', 'Difficulty-Degree', 'Ingredients-Product', 'Scrutiny-Medium', 'Substance-Constituents', 'Change_event_time-Agent', 'Discussion-Time', 'Change_of_leadership-New_leader', 'Exporting-Type', 'Manufacturing-Producer', 'Cause_to_fragment-Agent', 'Being_in_control-Time', 'Achieving_first-Time', 'Reporting-Informer', 'Increment-Increment', 'Process_start-Reason', 'Practice-Means', 'Cause_change_of_position_on_a_scale-Speed', 'Cognitive_connection-Degree', 'Experiencer_focus-Event', 'Vocalizations-Sound_source', 'Awareness-Topic', 'Text-Author', 'Emotion_active-Degree', 'Dominate_competitor-Agent', 'Make_agreement_on_action-Manner', 'Importance-Undertaking', 'Evaluative_comparison-Profiled_attribute', 'Attaching-Agent', 'Type-Subtype', 'Substance-Use', 'Shoot_projectiles-Purpose', 'Desirable_event-State_of_affairs', 'Assessing-Standard', 'Communication_response-Speaker', 'Experiencer_focus-Topic', 'Sensation-Source', 'Hiring-Purpose', 'Confronting_problem-Frequency', 'Speed_description-Entity', 'Text-Text', 'Run_risk-Asset', 'Suasion-Addressee', 'Shapes-Shape_prop', 'Adopt_selection-Agent', 'Taking_sides-Degree', 'Level_of_force_exertion-Action', 'People-Descriptor', 'Create_physical_artwork-Place', 'Judgment_communication-Evaluee', 'Activity_pause-Activity', 'Manufacturing-Manner', 'Enforcing-Agent', 'Creating-Creator', 'Judgment_communication-Depictive', 'Cause_to_fragment-Place', 'Chatting-Manner', 'Biological_urge-Experiencer', 'Undergo_change-Manner', 'First_experience-Context', 'Operational_testing-Duration', 'Wearing-Clothing', 'Perception_active-Phenomenon', 'Setting_fire-Time', 'Emphasizing-Manner', 'Risky_situation-Dangerous_entity', 'Operate_vehicle-Goal', 'Holding_off_on-End_point', 'Verdict-Finding', 'Emphasizing-Consideration', 'Giving-Purpose', 'Intercepting-Time', 'Attack-Source', 'Being_at_risk-Situation', 'Hiring-Employee', 'Aggregate-Aggregate', 'Estimated_value-Time', 'Substance-Instrument', 'Body_parts-Descriptor', 'Being_employed-Circumstances', 'Intentionally_act-Manner', 'Part_piece-Substance', 'Response-Manner', 'Expensiveness-Rate', 'Change_position_on_a_scale-Place', 'Traversing-Manner', 'Sign_agreement-Time', 'Businesses-Product', 'Being_in_control-Controlling_entity', 'Importance-Frequency', 'Scope-Event', 'Change_of_phase-Patient', 'Storing-Theme', 'Coming_up_with-Place', 'Shoot_projectiles-Time', 'Attack-Particular_iteration', 'Stage_of_progress-Entity', 'Causation-Place', 'Bringing-Agent', 'Self_motion-Time', 'System-Possessor', 'Type-Category', 'Justifying-Agent', 'Statement-Particular_iteration', 'Departing-Event_description', 'Adducing-Time', 'Sentencing-Convict', 'Import_export_scenario-Goods', 'Residence-Manner', 'Amassing-Duration', 'Getting-Purpose', 'Activity_start-Depictive', 'Suspicion-Behavior', 'Duplication-Original', 'Process_completed_state-Process', 'Clothing-Use', 'Installing-Place', 'Frequency-Event', 'Make_noise-Time', 'Opinion-Opinion', 'Being_born-Place', 'Conquering-Theme', 'Employing-Descriptor', 'Cause_to_make_noise-Sound_maker', 'Expensiveness-Intended_event', 'Vehicle-Itinerary', 'Taking-Time', 'Beyond_compare-Standard', 'First_rank-Item', 'Custom-Society', 'Deserving-State_of_affairs', 'Temporary_stay-Duration', 'Store-Descriptor', 'Natural_features-Name', 'Request-Time', 'Destroying-Reason', 'Moving_in_place-Direction', 'Surrendering_possession-Theme', 'Quarreling-Arguers', 'Discussion-Interlocutors', 'Chatting-Interlocutor_1', 'Evidence-Proposition', 'Transfer-Purpose', 'Defending-Victim', 'Leadership-Descriptor', 'Commerce_buy-Goods', 'Topic-Communicator', 'Ordinal_numbers-Basis_of_order', 'Arranging-Agent', 'Possession-Duration', 'Categorization-Item', 'Exchange-Exchanger_2', 'Process_resume-Time', 'Locale-Container_possessor', 'Change_of_leadership-Place', 'Certainty-Concessive', 'Withdraw_from_participation-Activity', 'Dispersal-Goal_area', 'Submitting_documents-Documents', 'Commerce_pay-Time', 'Cause_motion-Area', 'Moving_in_place-Angle', 'Make_cognitive_connection-Concept_1', 'Motion-Purpose', 'Aggregate-Aggregate_property', 'Omen-Phenomenon_1', 'Telling-Addressee', 'Roadways-Name', 'Communicate_categorization-Item', 'Employing-Field', 'Alternatives-Salient_entity', 'Becoming-Time', 'Cause_expansion-Result_size', 'Leadership-Governed', 'Measure_volume-Count', 'Causation-Cause', 'Substance-Purpose', 'Capability-Relevant_feature', 'Evidence-Support', 'Measure_volume-Stuff', 'Change_position_on_a_scale-Circumstances', 'Attempt-Time', 'Name_conferral-Time', 'Separating-Parts', 'Travel-Time', 'Using-Purpose', 'Arranging-Time', 'Posture-Depictive', 'Bringing-Constant_location', 'Change_position_on_a_scale-Final_state', 'Redirecting-Agent', 'Operational_testing-Tester', 'Domain-Predicate', 'Locative_relation-Figures', 'Labeling-Entity', 'Predicting-Time_of_eventuality', 'Speed_description-Speed', 'Judgment_communication-Extent_of_acclaim', 'Choosing-Time', 'Come_together-Individuals', 'Cause_to_make_progress-Project', 'Be_in_agreement_on_action-Protagonist', 'Telling-Speaker', 'Text_creation-Author', 'Categorization-Criteria', 'Self_motion-Source', 'Commerce_buy-Buyer', 'Seeking_to_achieve-Agent', 'Motion_directional-Time', 'Collaboration-Undertaking', 'Exporting-Exporter', 'Cause_to_resume-Process', 'Cause_harm-Cause', 'Appeal-State', 'Connecting_architecture-Descriptor', 'Cause_to_make_progress-Time', 'Building-Result', 'Undergoing-Event', 'Participation-Degree_of_involvement', 'Waiting-Purpose', 'Seeking_to_achieve-Source', 'Hostile_encounter-Issue', 'Distinctiveness-Feature', 'Idiosyncrasy-Entity', 'Make_agreement_on_action-Party', 'Manufacturing-Purpose', 'Relational_natural_features-Descriptor', 'Unattributed_information-Explanation', 'Hostile_encounter-Side_2', 'Measure_duration-Topic', 'Being_necessary-Dependent', 'Ordinal_numbers-Comparison_set', 'Inclusion-Part', 'Relational_political_locales-Container_possessor', 'Attempt_suasion-Manner', 'Giving-Depictive', 'Amounting_to-Value', 'Cause_change_of_position_on_a_scale-Time', 'Dispersal-Agent', 'Death-Cause', 'Delivery-Time', 'Motion-Path', 'Beat_opponent-Competition', 'Halt-Depictive', 'Imposing_obligation-Responsible_party', 'Gizmo-Use', 'Intentionally_act-Agent', 'Fluidic_motion-Area', 'Experiencer_focus-Experiencer', 'Appeal-Characterization', 'Building-Agent', 'Importance-Reason', 'Sending-Reason', 'Awareness-Cognizer', 'Dimension-Measurement', 'Relational_quantity-Individuals', 'Receiving-Purpose_of_theme', 'Willingness-Activity', 'Perception_active-Depictive', 'Text-Genre', 'Delivery-Theme', 'Choosing-Cognizer', 'Containers-Owner', 'Evoking-Cognizer', 'Calendric_unit-Relative_time', 'Being_employed-Field', 'Similarity-Dimension', 'Process_end-Result', 'Being_named-Name_source', 'Rewards_and_punishments-Reason', 'Cause_change_of_position_on_a_scale-Attribute', 'Cause_change-Degree', 'Motion-Direction', 'Locale_by_use-Name', 'Using-Manner', 'Adopt_selection-Purpose', 'Attack-Place', 'Avoiding-Agent', 'Make_cognitive_connection-Concepts', 'Inclusion-Total', 'Being_at_risk-Place', 'Process_end-Process', 'Execute_plan-Agent', 'Creating-Purpose', 'Request-Topic', 'Locale_by_use-Use', 'Verdict-Charges', 'Connectors-Connected_item', 'Filling-Agent', 'Redirecting-Goal', 'Being_at_risk-Dangerous_entity', 'Building-Components', 'Inspecting-Manner', 'Choosing-Inherent_purpose', 'Categorization-Cognizer', 'Deciding-Decision', 'Communicate_categorization-Speaker', 'Partiality-Side_1', 'Withdraw_from_participation-Explanation', 'Undergoing-Entity', 'People_by_religion-Ethnicity', 'Domain-Explanation', 'Leadership-Duration', 'Assistance-Manner', 'Differentiation-Phenomenon_1', 'Fluidic_motion-Fluid', 'Forgoing-Desirable', 'Project-Agent', 'Information-Cognizer', 'Beat_opponent-Winner', 'Expertise-Degree', 'Using-Duration', 'Verification-Time', 'Coming_to_believe-Cognizer', 'Self_motion-Depictive', 'Clothing-Descriptor', 'People-Ethnicity', 'Measure_duration-Unit', 'Cause_to_make_progress-Purpose', 'Destroying-Cause', 'Excreting-Excreta', 'Age-Degree', 'Hostile_encounter-Side_1', 'Process_continue-Depictive', 'Means-Purpose', 'Communicate_categorization-Manner', 'Activity_prepare-Activity', 'Locale-Relative_location', 'Deciding-Cognizer', 'Firing-Employee', 'Direction-Path', 'Competition-Participants', 'Difficulty-Circumstances', 'Text_creation-Instrument', 'Age-Attribute', 'Education_teaching-Purpose', 'Adjusting-Agent', 'Occupy_rank-Dimension', 'Progression-Entity', 'Work-Salient_entity', 'System-Descriptor', 'Abandonment-Theme', 'Death-Depictive', 'Correctness-Information', 'Ordinal_numbers-Item', 'Intentionally_create-Created_entity', 'Leadership-Type', 'Achieving_first-New_idea', 'Forming_relationships-Partner_2', 'Hostile_encounter-Duration', 'Catastrophe-Undesirable_event', 'Catastrophe-Patient', 'Rite-Guardian', 'Activity_finish-Time', 'Desiring-Experiencer', 'Change_position_on_a_scale-Initial_value', 'Dead_or_alive-Protagonist', 'Sign_agreement-Manner', 'Needing-Dependent', 'Work-Agent', 'Giving_birth-Parents', 'Required_event-Purpose', 'Practice-Agent', 'Prominence-Degree', 'Releasing-Place', 'Infrastructure-Activity', 'Cause_motion-Cause', 'Dimension-Dimension', 'Hearsay-Topic', 'Verification-Degree', 'Defending-Instrument', 'Arriving-Time', 'Request-Projectile', 'Judgment_direct_address-Communicator', 'Cause_to_amalgamate-Agent', 'Supporting-Means', 'Travel-Baggage', 'Bringing-Time', 'Grasp-Phenomenon', 'Activity_ongoing-Duration', 'Judgment_communication-Grounds', 'Statement-Means', 'Change_event_duration-Event', 'Using-Instrument', 'Hindering-Hindrance', 'Successful_action-Means', 'Part_ordered_segments-Ordinality', 'Increment-Class', 'Objective_influence-Dependent_variable', 'Manufacturing-Resource', 'Purpose-Means', 'Attending-Agent', 'Eventive_affecting-Entity', 'Similarity-Entities', 'Seeking-Cognizer_agent', 'Attempt-Agent', 'Agree_or_refuse_to_act-Purpose', 'Perception_experience-Time', 'Reveal_secret-Topic', 'Documents-Specification', 'Public_services-Service_action', 'Importance-Interested_party', 'Storing-Manner', 'Be_in_agreement_on_action-Agent', 'Statement-Message', 'Perception_experience-Phenomenon', 'Intentionally_act-Act', 'Waiting-Duration', 'Attending-Event', 'Businesses-Place', 'Buildings-Type', 'Desiring-Cause', 'Change_event_duration-Agent', 'Participation-Participants', 'Existence-Time', 'Work-Purpose', 'State_continue-Duration', 'Money-Type', 'Choosing-Possibilities', 'Posture-Purpose', 'Quitting-Employee', 'Research-Place', 'Remembering_experience-Impression', 'Judgment_communication-Manner', 'Process-Process', 'Intercepting-Interceptor', 'Remembering_experience-Cognizer', 'Project-Activity', 'Supply-Time', 'Assistance-Domain', 'Pattern-Descriptor', 'Participation-Institution', 'Emphasizing-Degree', 'Create_physical_artwork-Representation', 'Membership-Standing', 'Processing_materials-Purpose', 'Traversing-Path', 'Request-Speaker', 'Expertise-Knowledge', 'Remembering_experience-Salient_entity', 'Abounding_with-Time', 'Make_agreement_on_action-Topic', 'Law-Type', 'Have_as_requirement-Dependent', 'Operational_testing-Means', 'Statement-Medium', 'Evidence-Cognizer', 'Being_employed-Position', 'Placing-Time', 'Creating-Means', 'Commerce_pay-Money', 'Make_agreement_on_action-Descriptor', 'Residence-Time', 'Reference_text-Source_of_information', 'Cause_change-Entity', 'Presence-Entity', 'Age-Entity', 'Attack-Explanation', 'Escaping-Escapee', 'Motion-Duration', 'Delivery-Recipient', 'Text_creation-Form', 'Questioning-Addressee', 'Sufficiency-Scale', 'Rejuvenation-Entity', 'Dominate_situation-Agent', 'Sufficiency-Item', 'Cause_to_resume-Agent', 'Building_subparts-Building_part', 'Fluidic_motion-Source', 'Store-Possessor', 'Change_event_time-Event', 'Self_motion-Manner', 'Openness-Theme', 'Organization-Name', 'Ambient_temperature-Time', 'Cause_change-Initial_category', 'Destroying-Destroyer', 'Evidence-Domain_of_relevance', 'Intentionally_create-Place', 'People_by_age-Persistent_characteristic', 'Catastrophe-Manner', 'Assistance-Time', 'Colonization-New_area', 'Cure-Treatment', 'Choosing-Contrast', 'Social_connection-Individual_1', 'Military-Members', 'Residence-Resident', 'Project-Project', 'Forming_relationships-Time', 'Collaboration-Partner_1', 'Expressing_publicly-Communicator', 'Misdeed-Wrongdoer', 'Stimulus_focus-Circumstances', 'Cause_harm-Victim', 'Speak_on_topic-Topic', 'Grasp-Cognizer', 'Evaluative_comparison-Standard_item', 'Using-Circumstances', 'Change_position_on_a_scale-Speed', 'Fleeing-Source', 'Labeling-Speaker', 'Relational_natural_features-Container_possessor', 'Supply-Theme', 'Reliance-Protagonist', 'Killing-Period', 'Obscurity-Entity', 'Taking_sides-Cognizer', 'Active_substance-Descriptor', 'Reveal_secret-Time', 'Setting_fire-Flammables', 'Explaining_the_facts-Fact', 'Possession-Time', 'Assistance-Goal', 'Religious_belief-Believer', 'Familiarity-Entity', 'Accomplishment-Domain', 'Weapon-Type', 'Placing-Purpose', 'Going_back_on_a_commitment-Protagonist', 'Claim_ownership-Claimant', 'Protecting-Asset', 'Travel-Area', 'Mental_property-Protagonist', 'Defending-Assailant', 'Aesthetics-Entity', 'Leadership-Activity', 'Hearsay-Period_of_iterations', 'Motion-Goal', 'Quitting_a_place-Intended_goal', 'Killing-Time', 'Execute_plan-Means', 'Natural_features-Constituent_parts', 'Conduct-Place', 'Commitment-Speaker', 'Taking_sides-Side', 'Communication-Communicator', 'Path_shape-Road', 'Contacting-Communicator', 'Cause_to_fragment-Whole_patient', 'Seeking-Cognizer', 'Medical_professionals-Type', 'Judgment-Cognizer', 'Measure_linear_extent-Dimension', 'Activity_ongoing-Activity', 'Ride_vehicle-Time', 'People_by_vocation-Employer', 'Creating-Cause', 'Change_of_leadership-Depictive', 'Partiality-Degree', 'Getting-Place', 'Rewards_and_punishments-Manner', 'Appeal-Inference', 'Amounting_to-Time_span', 'Attempt-Place', 'Differentiation-Phenomenon_2', 'Killing-Victim', 'Receiving-Theme', 'Locative_relation-Direction', 'Relational_political_locales-Container', 'Verdict-Defendant', 'Ground_up-Patient', 'Make_noise-Sound_source', 'Death-Containing_event', 'Building-Time', 'Compliance-Protagonist', 'Change_of_leadership-Old_leader', 'Communication-Addressee', 'Strictness-Degree', 'Touring-Attraction', 'Intentionally_act-Time', 'Hostile_encounter-Purpose', 'Filling-Source', 'Level_of_force_exertion-Degree', 'Relative_time-Focal_occasion', 'Education_teaching-Subject', 'Competition-Manner', 'Impact-Impactee', 'Participation-Event', 'Attempt_suasion-Content', 'Estimated_value-Question', 'People_by_vocation-Ethnicity', 'Using-Explanation', 'Linguistic_meaning-Context', 'Using-Frequency', 'Goal-Trajector', 'Opinion-Cognizer', 'Part_orientational-Part', 'Waiting-Protagonist', 'Bungling-Patient', 'Coming_to_believe-Evidence', 'Coming_up_with-Idea', 'People-Persistent_characteristic', 'State_of_entity-Entity', 'Telling-Place', 'Robbery-Victim', 'Verdict-Time', 'Cause_change-Agent', 'Part_ordered_segments-Part_prop', 'Documents-Bearer', 'Openness-Useful_location', 'Political_locales-Descriptor', 'Emotion_directed-Degree', 'Attack-Result', 'Emphasizing-Artifact', 'Certainty-Topic', 'Quantity-Quantity', 'Social_event-Occasion', 'Statement-Depictive', 'Custom-Behavior', 'Having_or_lacking_access-Circumstances', 'Awareness-Time', 'Contacting-Addressee', 'Protecting-Time', 'Project-Descriptor', 'Likelihood-Circumstances', 'Attaching-Connector', 'Motion-Theme', 'Create_physical_artwork-Location_of_representation', 'Leadership-Domain', 'Forgoing-Forgoer', 'Agree_or_refuse_to_act-Speaker', 'Subjective_influence-Behavior', 'Change_position_on_a_scale-Particular_iteration', 'Have_as_requirement-Required_entity', 'Damaging-Agent', 'Sign_agreement-Place', 'Be_in_agreement_on_assessment-Opinion', 'Employing-Place', 'Activity_prepare-Time', 'Required_event-Required_situation', 'Unemployment_rate-Place', 'Locale_by_use-Container', 'Duplication-Depictive', 'Arrest-Authorities', 'Regard-Evaluee', 'System-Salient_entity', 'Weather-Place', 'Being_in_effect-Time', 'Come_together-Configuration', 'Existence-Place', 'Project-Salient_entity', 'Objective_influence-Influencing_entity', 'Appointing-Official', 'Verification-Means', 'Public_services-Target_group', 'Travel-Means', 'Motion_directional-Carrier', 'Aggregate-Individuals', 'Notification_of_charges-Place', 'Desiring-Place', 'Sending-Theme', 'Creating-Place', 'Have_as_requirement-Requirement', 'Shoot_projectiles-Area', 'Finish_competition-Competition', 'Aggregate-Domain', 'Conquering-Conqueror', 'Activity_ongoing-Agent', 'Manipulation-Entity', 'Travel-Path', 'Cause_motion-Depictive', 'Conquering-Time', 'Inhibit_movement-Theme', 'Unemployment_rate-Value', 'Taking-Theme', 'Being_employed-Time', 'Measure_duration-Count', 'Desiring-Event', 'Verification-Unconfirmed_content', 'Hostile_encounter-Depictive', 'Cogitation-Time', 'Releasing-Theme', 'Traversing-Goal', 'Awareness-Degree', 'Part_whole-Part_prop', 'Immobilization-Place', 'Hindering-Action', 'Request-Obligation', 'Processing_materials-Material', 'Cause_to_end-Process', 'Cause_to_make_progress-Agent', 'Activity_done_state-Time', 'Theft-Manner', 'Using-Time', 'Custom-Protagonist', 'Intentionally_act-Purpose', 'Manufacturing-Factory', 'Avoiding-Time', 'Transfer-Place', 'Expensiveness-Asset', 'Departing-Theme', 'Becoming_a_member-Group', 'Evoking-Phenomenon', 'Protecting-Danger', 'Being_employed-Particular_iteration', 'Temporal_subregion-Time_period', 'Possession-Explanation', 'Commerce_buy-Seller', 'Verdict-Judge', 'Undergo_change-Time', 'Arriving-Path', 'Buildings-Place', 'Expertise-Focal_participant', 'Sounds-Component_sound', 'Colonization-Purpose', 'Objective_influence-Influencing_situation', 'Work-Domain', 'Getting-Reason', 'Law-Jurisdiction', 'Appointing-Role', 'Process_continue-Circumstances', 'Accomplishment-Agent', 'Education_teaching-Level', 'Come_together-Time', 'Becoming-Manner', 'Destiny-Protagonist', 'Education_teaching-Place', 'Giving-Time', 'Opinion-Domain', 'Sending-Recipient', 'Suspicion-Incident', 'Network-Descriptor', 'Instance-Instance', 'Extradition-Suspect', 'Temperature-Entity', 'Request-Manner', 'Mental_stimulus_stimulus_focus-Reason', 'Duplication-Degree', 'Make_agreement_on_action-Obligation', 'Be_in_agreement_on_action-Descriptor', 'Being_employed-Task', 'Motion_noise-Goal', 'Process_continue-Place', 'Temporary_stay-Guest', 'Operating_a_system-Operator', 'Education_teaching-Role', 'Intentionally_act-Period_of_iterations', 'Giving-Theme', 'Identicality-Type', 'Being_in_operation-Device', 'Bringing-Carrier', 'Experiencer_focus-Content', 'Daring-Action', 'Creating-Time', 'People_by_religion-Persistent_characteristic', 'Hindering-Degree', 'Judgment-Evaluee', 'Intentionally_create-Creator', 'Name_conferral-Entity', 'Commitment-Medium', 'Political_locales-Container_possessor', 'Reliance-Instrument', 'Attempt_suasion-Addressee', 'Cause_motion-Theme', 'Amassing-Mass_theme', 'Moving_in_place-Manner', 'Causation-Time', 'Organization-Members', 'Manipulate_into_doing-Resulting_action', 'Containers-Use', 'Rest-Whole', 'Extradition-Crime_jurisdiction', 'Activity_ongoing-Manner', 'Event-Time', 'Time_vector-Direction', 'Render_nonfunctional-Agent', 'Time_vector-Landmark_event', 'Relation-Relation_type', 'Apply_heat-Co_participant', 'Bringing-Place', 'Posture-Location', 'Assessing-Feature', 'Dispersal-Individuals', 'Speak_on_topic-Occasion', 'Being_located-Location', 'System-Component_entities', 'Accompaniment-Co_participant', 'Hearsay-Speaker', 'Verification-Inspector', 'Intentionally_act-Means', 'Attempt-Degree', 'Exporting-Goods', 'Organization-Container_possessor', 'Medical_conditions-Patient', 'Operating_a_system-Duration', 'Come_together-Party_2', 'Exchange-Theme_2', 'Commerce_pay-Goods', 'Emotion_directed-Topic', 'Killing-Depictive', 'Ranked_expectation-Entity', 'Supporting-Manner', 'Becoming_silent-Speaker', 'People_by_vocation-Descriptor', 'Exchange-Exchangers', 'Attributed_information-Proposition', 'Cause_change-Final_category', 'Leadership-Time', 'Response-Responding_entity', 'Cause_change-Manner', 'Dominate_competitor-Time', 'Possibility-Possible_event', 'Killing-Degree', 'Getting-Concessive', 'Custom-Descriptor', 'Predicament-Domain', 'Compliance-Time', 'Becoming_a_member-Time', 'Quantity-Q_prop', 'Stimulus_focus-Stimulus', 'Request-Message', 'Suitability-Purpose', 'Supply-Recipient', 'Buildings-Name', 'Measure_mass-Stuff', 'Being_employed-Contract_basis', 'Supply-Means', 'Filling-Theme', 'Transfer-Donor', 'Remainder-Remainder', 'Filling-Place', 'Response-Dimension', 'Importance-Field', 'Assistance-Benefited_party', 'Deny_or_grant_permission-Protagonist', 'Resolve_problem-Cause', 'Cure-Affliction', 'Destroying-Manner', 'Gesture-Body_part', 'Secrecy_status-Phenomenon', 'Substance-Inherent_purpose', 'Point_of_dispute-Descriptor', 'Public_services-Domain', 'Discussion-Topic', 'Withdraw_from_participation-Organization', 'Revenge-Avenger', 'Arrest-Time', 'Earnings_and_losses-Time', 'Remainder-Location', 'Vehicle-Use', 'Inclination-Behavior', 'Bringing-Theme', 'Damaging-Degree', 'Precipitation-Frequency', 'Communication_response-Trigger', 'Kidnapping-Victim', 'Creating-Beneficiary', 'Fields-Activity', 'State_continue-Time', 'Cogitation-Cognizer', 'Expensiveness-Origin', 'Cause_motion-Source', 'Emotion_directed-Event', 'Degree_of_processing-Degree', 'Protecting-Descriptor', 'Frequency-Salient_entity', 'Earnings_and_losses-Earner', 'Used_up-Resource', 'Self_motion-Path', 'Measure_duration-Process', 'Questioning-Topic', 'Ingredients-Material', 'Cause_to_make_progress-Degree', 'Being_named-Name', 'Cardinal_numbers-Multiplier', 'Discussion-Interlocutor_2', 'Installing-Component', 'Being_located-Theme', 'Going_back_on_a_commitment-Time', 'Calendric_unit-Count', 'Ceasing_to_be-Entity', 'Prevarication-Speaker', 'Means-Agent', 'Aesthetics-Degree', 'Social_connection-Type', 'Documents-Obligation', 'Businesses-Proprietor', 'Becoming_aware-Time', 'Weapon-Descriptor', 'Instance-Type', 'Temporal_collocation-Trajector_entity', 'Commitment-Manner', 'Contacting-Reason', 'Using-Place', 'Be_in_agreement_on_action-Place', 'Research-Field', 'Roadways-Use', 'Electricity-Use', 'Cause_change_of_position_on_a_scale-Cause', 'Preventing_or_letting-Event', 'Confronting_problem-Issue', 'Being_employed-Event_description', 'Process_end-Final_subevent', 'Sending-Place', 'Organization-Purpose', 'Trust-Cognizer', 'Appeal-Perceiver_passive', 'Successful_action-Time', 'Cause_change_of_position_on_a_scale-Means', 'Measure_area-Area', 'Rejuvenation-Time', 'Transfer-Recipient', 'Storing-Agent', 'Contingency-Outcome', 'Part_orientational-Whole', 'Sending-Purpose', 'Manipulate_into_doing-Manipulator', 'Active_substance-Type', 'Speed_description-Degree', 'Using-Containing_event', 'Active_substance-Effect', 'Removing-Time', 'Hostile_encounter-Instrument', 'Self_motion-Direction', 'Motion_directional-Theme', 'Ride_vehicle-Source', 'Communication-Manner', 'Take_place_of-Old', 'Manufacturing-Place', 'Rite-Object', 'Distinctiveness-Duration', 'Duplication-Time', 'Needing-Frequency', 'Change_tool-New_tool', 'Proliferating_in_number-Set', 'Calendric_unit-Name', 'Strictness-Medium', 'Communicate_categorization-Medium', 'Ordinal_numbers-Type', 'Traversing-Theme', 'Law-Creator', 'Halt-Time', 'Bringing-Source', 'Sending-Sender', 'Locating-Location', 'Change_of_leadership-Role', 'Cause_harm-Time', 'Deserving-Action', 'Commitment-Time', 'Text-Topic', 'Roadways-Relative_location', 'Hiring-Employer', 'Be_in_agreement_on_action-Topic', 'Memory-Experience', 'Win_prize-Prize', 'Hearsay-Message', 'Accuracy-Degree', 'Membership-Member', 'Try_defendant-Defendant', 'Departing-Source', 'Attempt_suasion-Speaker', 'Diversity-Group', 'Encoding-Manner', 'Arriving-Frequency', 'Perception_experience-Duration', 'Evidence-Degree', 'Speed_description-Circumstances', 'Scrutiny-Ground', 'Documents-Descriptor', 'Required_event-Required', 'Personal_relationship-Partner_1', 'Quantity-Degree', 'Ride_vehicle-Goal', 'Placing-Goal', 'Storing-Place', 'Success_or_failure-Goal', 'Obviousness-Phenomenon', 'Extradition-Legal_basis', 'Weapon-Weapon', 'Be_subset_of-Total', 'Wearing-Wearer', 'Commerce_sell-Place', 'Buildings-Material', 'Inclination-Entity', 'Finish_competition-Prize', 'Attaching-Items', 'Becoming_a_member-New_member', 'Referring_by_name-Name', 'Reason-Agent', 'Questioning-Message', 'Desiring-Purpose_of_event', 'Operational_testing-Tested_property', 'Fluidic_motion-Path', 'Relational_political_locales-Locale', 'Participation-Participant_2', 'Shoot_projectiles-Agent', 'Measure_linear_extent-Stuff', 'Seeking_to_achieve-Sought_entity', 'Relative_time-Landmark_occasion', 'Natural_features-Container', 'Activity_start-Place', 'Becoming_aware-Ground']\n"
     ]
    }
   ],
   "source": [
    "print(ekfn_fes)"
   ]
  }
 ],
 "metadata": {
  "kernelspec": {
   "display_name": "Python 3",
   "language": "python",
   "name": "python3"
  },
  "language_info": {
   "codemirror_mode": {
    "name": "ipython",
    "version": 3
   },
   "file_extension": ".py",
   "mimetype": "text/x-python",
   "name": "python",
   "nbconvert_exporter": "python",
   "pygments_lexer": "ipython3",
   "version": "3.6.5"
  }
 },
 "nbformat": 4,
 "nbformat_minor": 2
}
