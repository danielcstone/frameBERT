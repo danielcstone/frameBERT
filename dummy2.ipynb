{
 "cells": [
  {
   "cell_type": "code",
   "execution_count": 1,
   "metadata": {},
   "outputs": [
    {
     "name": "stderr",
     "output_type": "stream",
     "text": [
      "Using TensorFlow backend.\n"
     ]
    },
    {
     "name": "stdout",
     "output_type": "stream",
     "text": [
      "# of instances in trn: 16621\n",
      "# of instances in dev: 2284\n",
      "# of instances in tst: 4428\n",
      "data example: [['12-year-old', 'boy', 'reports', 'seeing', 'man', 'launch', 'rubber', 'boat', 'from', 'car', 'parked', 'the', '<tgt>', 'harbor', '</tgt>', '.'], ['_', '_', '_', '_', '_', '_', '_', '_', '_', '_', '_', '_', '_', 'harbor.n', '_', '_'], ['_', '_', '_', '_', '_', '_', '_', '_', '_', '_', '_', '_', '_', 'Locale_by_use', '_', '_'], ['O', 'O', 'O', 'O', 'O', 'O', 'O', 'O', 'O', 'O', 'O', 'O', 'X', 'B-Locale', 'X', 'O']]\n",
      "[['12-year-old', 'boy', 'reports', 'seeing', 'man', 'launch', 'rubber', 'boat', 'from', 'car', 'parked', 'the', '<tgt>', 'harbor', '</tgt>', '.'], ['_', '_', '_', '_', '_', '_', '_', '_', '_', '_', '_', '_', '_', 'harbor.n', '_', '_'], ['_', '_', '_', '_', '_', '_', '_', '_', '_', '_', '_', '_', '_', 'Locale_by_use', '_', '_'], ['O', 'O', 'O', 'O', 'O', 'O', 'O', 'O', 'O', 'O', 'O', 'O', 'X', 'B-Locale', 'X', 'O']]\n"
     ]
    }
   ],
   "source": [
    "import json\n",
    "import sys\n",
    "import glob\n",
    "import torch\n",
    "sys.path.append('../')\n",
    "from frameBERT.src import dataio\n",
    "\n",
    "def get_lu_frame(conll):\n",
    "    lus = conll[1]\n",
    "    frames = conll[2]\n",
    "    for i in range(len(lus)):\n",
    "        lu_i = lus[i]\n",
    "        frame_i = frames[i]\n",
    "        \n",
    "        if lu_i != '_':\n",
    "            lu = lu_i\n",
    "            frame = frame_i\n",
    "    return lu, frame\n",
    "\n",
    "def get_fes(conll):\n",
    "    bio_fes = list(set(conll[-1]))\n",
    "    fes = []\n",
    "    for i in bio_fes:\n",
    "        if i == 'O':\n",
    "            fe = i\n",
    "        elif i == 'X':\n",
    "            fe = i\n",
    "        else:\n",
    "            fe = i[2:]\n",
    "        fes.append(fe)\n",
    "\n",
    "    return fes, bio_fes \n",
    "\n",
    "\n",
    "srl = 'framenet'\n",
    "language = 'en'\n",
    "fnversion = '1.5'\n",
    "trn, dev, tst = dataio.load_data(language=language, fnversion=fnversion)\n",
    "print(trn[0])\n",
    "d = trn+dev+tst\n",
    "\n",
    "with open('./data/frame_coreFE_list_v1.5.json','r') as f:\n",
    "    fc = json.load(f)\n",
    "    \n",
    "# n = 0\n",
    "# for i in d:\n",
    "#     lu, frame = get_lu_frame(i)\n",
    "#     fes, bio_fes = get_fes(i)\n",
    "    \n",
    "#     corefe = fc[frame]\n",
    "#     for fe in fes:\n",
    "#         if fe in corefe:\n",
    "#             n +=1\n",
    "# print(n)"
   ]
  },
  {
   "cell_type": "code",
   "execution_count": 2,
   "metadata": {},
   "outputs": [
    {
     "name": "stdout",
     "output_type": "stream",
     "text": [
      "\n",
      "###DEVICE: cuda\n"
     ]
    }
   ],
   "source": [
    "from frameBERT.src import eval_fn"
   ]
  },
  {
   "cell_type": "code",
   "execution_count": 5,
   "metadata": {},
   "outputs": [
    {
     "name": "stdout",
     "output_type": "stream",
     "text": [
      "[['Your', 'contribution', '<tgt>', 'to', '</tgt>', 'Goodwill', 'will', 'mean', 'more', 'than', 'you', 'may', 'know', '.'], ['_', '_', '_', 'to.prep', '_', '_', '_', '_', '_', '_', '_', '_', '_', '_'], ['_', '_', '_', 'Goal', '_', '_', '_', '_', '_', '_', '_', '_', '_', '_'], ['B-Trajector', 'I-Trajector', 'X', 'O', 'X', 'B-Landmark', 'O', 'O', 'O', 'O', 'O', 'O', 'O', 'O']]\n"
     ]
    }
   ],
   "source": [
    "print(tst[0])"
   ]
  },
  {
   "cell_type": "code",
   "execution_count": 4,
   "metadata": {},
   "outputs": [
    {
     "name": "stdout",
     "output_type": "stream",
     "text": [
      "evaluation is complete: 0hour:0min:5sec\n"
     ]
    },
    {
     "data": {
      "text/plain": [
       "(1.0,\n",
       " 0.00017305529116552737,\n",
       " 0.0003063490847821092,\n",
       " 0.0002211716568521744,\n",
       " 0.0005004691898654989,\n",
       " 0.0007301601788892438,\n",
       " 0.0005938793311434033)"
      ]
     },
     "execution_count": 4,
     "metadata": {},
     "output_type": "execute_result"
    }
   ],
   "source": [
    "eval_fn.evaluate(tst, tst, fnversion=1.5)"
   ]
  }
 ],
 "metadata": {
  "kernelspec": {
   "display_name": "Python 3",
   "language": "python",
   "name": "python3"
  },
  "language_info": {
   "codemirror_mode": {
    "name": "ipython",
    "version": 3
   },
   "file_extension": ".py",
   "mimetype": "text/x-python",
   "name": "python",
   "nbconvert_exporter": "python",
   "pygments_lexer": "ipython3",
   "version": "3.6.5"
  }
 },
 "nbformat": 4,
 "nbformat_minor": 2
}
