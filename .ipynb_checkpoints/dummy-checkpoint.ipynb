{
 "cells": [
  {
   "cell_type": "code",
   "execution_count": 58,
   "metadata": {},
   "outputs": [],
   "source": [
    "import json\n",
    "import sys\n",
    "import glob\n",
    "import torch\n",
    "sys.path.append('../')\n",
    "import os\n",
    "from transformers import *\n",
    "from frameBERT.src import utils\n",
    "from frameBERT.src import dataio\n",
    "from frameBERT.src import eval_fn\n",
    "from frameBERT import frame_parser\n",
    "from frameBERT.src.modeling import BertForJointShallowSemanticParsing\n",
    "from torch.utils.data import TensorDataset, DataLoader, RandomSampler, SequentialSampler\n",
    "import torch\n",
    "from torch import nn\n",
    "from torch.optim import Adam\n",
    "from tqdm import tqdm, trange\n",
    "\n",
    "from pprint import pprint\n",
    "\n",
    "device = torch.device(\"cuda:0\" if torch.cuda.is_available() else \"cpu\")\n",
    "n_gpu = torch.cuda.device_count()\n",
    "if device != \"cpu\":\n",
    "    torch.cuda.set_device(0)\n",
    "import pickle\n",
    "\n",
    "import numpy as np\n",
    "import random\n",
    "np.random.seed(0)   \n",
    "random.seed(0)\n",
    "\n",
    "from torch import autograd\n",
    "torch.cuda.empty_cache()"
   ]
  },
  {
   "cell_type": "code",
   "execution_count": 59,
   "metadata": {},
   "outputs": [],
   "source": [
    "# from frameBERT.src import dataio\n",
    "# srl = 'framenet'\n",
    "# language = 'en'\n",
    "# fnversion = '1.5'\n",
    "# trn, dev, tst = dataio.load_data(language=language, fnversion=fnversion)\n",
    "# print(trn[0])\n",
    "# d = trn+dev+tst\n",
    "\n",
    "# with open('./data/frame_coreFE_list_v1.5.json','r') as f:\n",
    "#     fc = json.load(f)\n",
    "    \n",
    "# n = 0\n",
    "# for i in d:\n",
    "#     lu, frame = get_lu_frame(i)\n",
    "#     luidx = lu2idx[lu]\n",
    "#     frameidx = frame2idx[frame]\n",
    "#     fes, bio_fes = get_fes(i)\n",
    "    \n",
    "#     corefe = fc[frame]\n",
    "#     for fe in fes:\n",
    "#         if fe in corefe:\n",
    "#             n +=1\n",
    "# print(n)"
   ]
  },
  {
   "cell_type": "code",
   "execution_count": 60,
   "metadata": {},
   "outputs": [],
   "source": [
    "# from frameBERT.src import eval_fn\n",
    "# eval_fn.weighting()"
   ]
  },
  {
   "cell_type": "code",
   "execution_count": 61,
   "metadata": {},
   "outputs": [],
   "source": [
    "srl = 'framenet'\n",
    "language = 'en'\n",
    "fnversion = '1.5'"
   ]
  },
  {
   "cell_type": "code",
   "execution_count": 62,
   "metadata": {},
   "outputs": [
    {
     "name": "stdout",
     "output_type": "stream",
     "text": [
      "[['12-year-old', 'boy', 'reports', 'seeing', 'man', 'launch', 'rubber', 'boat', 'from', 'car', 'parked', 'the', '<tgt>', 'harbor', '</tgt>', '.'], ['_', '_', '_', '_', '_', '_', '_', '_', '_', '_', '_', '_', '_', 'harbor.n', '_', '_'], ['_', '_', '_', '_', '_', '_', '_', '_', '_', '_', '_', '_', '_', 'Locale_by_use', '_', '_'], ['O', 'O', 'O', 'O', 'O', 'O', 'O', 'O', 'O', 'O', 'O', 'O', 'X', 'B-Locale', 'X', 'O']]\n"
     ]
    }
   ],
   "source": [
    "# bert_io = utils.for_BERT(mode='train', language=language, masking=True, fnversion=fnversion)\n",
    "trn, dev, tst = dataio.load_data(language=language, exem=True, fnversion=fnversion, info=True)\n",
    "print(trn[0])"
   ]
  },
  {
   "cell_type": "code",
   "execution_count": 63,
   "metadata": {},
   "outputs": [],
   "source": [
    "d = trn+dev+tst"
   ]
  },
  {
   "cell_type": "code",
   "execution_count": 65,
   "metadata": {},
   "outputs": [
    {
     "name": "stdout",
     "output_type": "stream",
     "text": [
      "[['12-year-old', 'boy', 'reports', 'seeing', 'man', 'launch', 'rubber', 'boat', 'from', 'car', 'parked', 'the', '<tgt>', 'harbor', '</tgt>', '.'], ['_', '_', '_', '_', '_', '_', '_', '_', '_', '_', '_', '_', '_', 'harbor.n', '_', '_'], ['_', '_', '_', '_', '_', '_', '_', '_', '_', '_', '_', '_', '_', 'Locale_by_use', '_', '_'], ['O', 'O', 'O', 'O', 'O', 'O', 'O', 'O', 'O', 'O', 'O', 'O', 'X', 'B-Locale', 'X', 'O']]\n",
      "177269\n"
     ]
    }
   ],
   "source": [
    "for i in d:\n",
    "    print(i)\n",
    "    break\n",
    "print(len(d))"
   ]
  },
  {
   "cell_type": "code",
   "execution_count": 69,
   "metadata": {},
   "outputs": [
    {
     "name": "stdout",
     "output_type": "stream",
     "text": [
      "2825\n",
      "['Abundant_entities', 'Accoutrement', 'Accuracy', 'Accused', 'Act', 'Action', 'Activity', 'Actor', 'Added_set', 'Addict', 'Addressee', 'Affected', 'Affected_party', 'Affliction', 'Age', 'Agent', 'Aggregate', 'AggregateProperty', 'Agreement', 'Agriculturist', 'Ailment', 'Alliance', 'Alter', 'Alterant', 'Ammunition', 'Amount_of_discussion', 'Amount_of_work', 'Angle', 'Appraisal', 'Area', 'Arguer', 'Arguer2', 'Arguers', 'Artifact', 'Artist', 'Assailant', 'Assessor', 'Asset', 'Attendee', 'Attraction', 'Attribute', 'Author', 'Authorities', 'Authority', 'Avenger', 'B-Abundant_entities', 'B-Abuser', 'B-Accessory', 'B-Accoutrement', 'B-Accuracy', 'B-Accused', 'B-Act', 'B-Action', 'B-Activity', 'B-Actor', 'B-Added_set', 'B-Addict', 'B-Addictant', 'B-Address', 'B-Address_term', 'B-Addressee', 'B-Affected', 'B-Affected_Party', 'B-Affected_party', 'B-Affliction', 'B-Age', 'B-Agent', 'B-Aggregate', 'B-AggregateProperty', 'B-Agreement', 'B-Agriculturist', 'B-Ailment', 'B-Air', 'B-Alliance', 'B-Alter', 'B-Alterant', 'B-Amends', 'B-Ammunition', 'B-Amount_of_discussion', 'B-Amount_of_information', 'B-Amount_of_progress', 'B-Amount_of_work', 'B-Anchor', 'B-Angle', 'B-Appraisal', 'B-Area', 'B-Arguer', 'B-Arguer1', 'B-Arguer2', 'B-Arguers', 'B-Arraign_authority', 'B-Artifact', 'B-Artist', 'B-Assailant', 'B-Assessor', 'B-Asset', 'B-Assets', 'B-Astronomical_entity', 'B-Attachment', 'B-Attack', 'B-Attendee', 'B-Attendees', 'B-Attraction', 'B-Attribute', 'B-Audience', 'B-Authenticity', 'B-Author', 'B-Authorities', 'B-Authority', 'B-Avenger', 'B-Bad_entity', 'B-Bad_outcome', 'B-Baggage', 'B-Barrier', 'B-Base_position', 'B-Basis', 'B-Basis_of_order', 'B-Beam', 'B-Bearer', 'B-Behavior', 'B-Behavior_product', 'B-Believer', 'B-Beneficiary', 'B-Benefit', 'B-Benefited_party', 'B-Benefiting_action', 'B-Binding_principle', 'B-Body', 'B-Body_Part', 'B-Body_location', 'B-Body_mark', 'B-Body_part', 'B-Bodypart_of_agent', 'B-Boundary', 'B-Builder', 'B-Building', 'B-Building_part', 'B-Business', 'B-Business_Name', 'B-Buyer', 'B-Capitulator', 'B-Capture', 'B-Carrier', 'B-Case', 'B-Category', 'B-Cause', 'B-Cause_of_shine', 'B-Change_agent', 'B-Character_of_end_state', 'B-Characteristic', 'B-Characterization', 'B-Charges', 'B-Child', 'B-Chosen', 'B-Circumstance', 'B-Circumstances', 'B-Circumstnaces', 'B-Claimant', 'B-Class', 'B-Clothing', 'B-Co-Participant', 'B-Co-guest', 'B-Co_Variable', 'B-Co_abductee', 'B-Co_participant', 'B-Co_resident', 'B-Co_theme', 'B-Code', 'B-Cognate_event', 'B-Cognizer', 'B-Cognizer_1', 'B-Cognizer_2', 'B-Cognizer_agent', 'B-Cognizers', 'B-Collection', 'B-Colonists', 'B-Color', 'B-Color_qualifier', 'B-Combatants', 'B-Commitment', 'B-Communication', 'B-Communicative_act', 'B-Communicator', 'B-Company', 'B-Comparand', 'B-Comparison_set', 'B-Compeller', 'B-Compensation', 'B-Competing_consideration', 'B-Competition', 'B-Competitor', 'B-Competitors', 'B-Complainer', 'B-Complaint', 'B-Completeness', 'B-Complex', 'B-Component', 'B-Component_entities', 'B-Component_sound', 'B-Components', 'B-Concept_1', 'B-Concept_2', 'B-Concepts', 'B-Concessive', 'B-Condition', 'B-Configuration', 'B-Connected_item', 'B-Connected_locations', 'B-Connection', 'B-Connections', 'B-Connector', 'B-Conqueror', 'B-Consecutive', 'B-Consequences', 'B-Consideration', 'B-Constancy', 'B-Constant_location', 'B-Constituent_parts', 'B-Constituents', 'B-Construction', 'B-Consumer', 'B-Container', 'B-Container_portal', 'B-Container_possessor', 'B-Containing_Event', 'B-Containing_event', 'B-Containing_object', 'B-Containing_text', 'B-Content', 'B-Contents', 'B-Context', 'B-Context_of_acquaintance', 'B-Contract_basis', 'B-Contrast', 'B-Contrast_set', 'B-Controllee', 'B-Controlling_act', 'B-Controlling_entity', 'B-Conveyed_emotion', 'B-Convict', 'B-Conviction', 'B-Cook', 'B-Coordinated_event', 'B-Coparticipant', 'B-Copy', 'B-Correlate', 'B-Cotheme', 'B-Count', 'B-Counter_actor', 'B-Countertransfer', 'B-Country_of_origin', 'B-Course', 'B-Court', 'B-Created_entity', 'B-Creator', 'B-Crime', 'B-Crime_jurisdiction', 'B-Criteria', 'B-Criterion', 'B-Crop', 'B-Culture', 'B-Current_country', 'B-Current_instance', 'B-Current_jurisdiction', 'B-Danger', 'B-Dangerous_entity', 'B-Dangerous_situation', 'B-Deceased', 'B-Decision', 'B-Decision_maker', 'B-Decorated_individual', 'B-Decoration', 'B-Decoration_desriptor', 'B-Dedicated_entity', 'B-Defendant', 'B-Defender', 'B-Defense', 'B-Defining_event', 'B-Deformer', 'B-Degree', 'B-Degree_of_involvement', 'B-Deliverer', 'B-Delivery_device', 'B-Denoted_quantity', 'B-Dependent', 'B-Dependent_entity', 'B-Dependent_individual', 'B-Dependent_situation', 'B-Dependent_state', 'B-Dependent_variable', 'B-Depicitve', 'B-Depictive', 'B-Depictive_of_represented', 'B-Described_entity', 'B-Descriptor', 'B-Desirable', 'B-Desirable_action', 'B-Desirable_situation', 'B-Desired_goal', 'B-Desired_state', 'B-Desired_state_of_affairs', 'B-Destination_event', 'B-Destination_time', 'B-Destroyer', 'B-Determinant', 'B-Deviation', 'B-Device', 'B-Difference', 'B-Differentiating_fact', 'B-Dimension', 'B-Direction', 'B-Discourse_salient_country', 'B-Dispute', 'B-Distance', 'B-Distributor', 'B-Document', 'B-Documents', 'B-Dodger', 'B-Domain', 'B-Domain_of_Relevance', 'B-Domain_of_relevance', 'B-Donor', 'B-Driver', 'B-Dryee', 'B-Duration', 'B-Duration_Of_Final_State', 'B-Duration_of_end_state', 'B-Duration_of_endstate', 'B-Duration_of_final_state', 'B-Duty', 'B-Earner', 'B-Earnings', 'B-Eclipsed', 'B-Economy', 'B-Effect', 'B-Egg', 'B-Ego', 'B-Elapsed_time', 'B-Electricity', 'B-Element', 'B-Emission', 'B-Emitter', 'B-Emotion', 'B-Emotional_state', 'B-Empathy_target', 'B-Employee', 'B-Employer', 'B-Employment', 'B-Enabled_action', 'B-Enabled_situation', 'B-Enablement', 'B-Enclosed_region', 'B-End_point', 'B-End_time', 'B-Endangering_act', 'B-Endpoints', 'B-Enemy', 'B-Entities', 'B-Entity', 'B-Entity1', 'B-Entity2', 'B-Entity_1', 'B-Entity_2', 'B-Entry_path', 'B-Epistemic_stance', 'B-Escapee', 'B-Estimation', 'B-Ethnicity', 'B-Evader', 'B-Evaluation', 'B-Evaluator', 'B-Evaluee', 'B-Event', 'B-Event_description', 'B-Event_dscription', 'B-Events', 'B-Eventuality', 'B-Evidence', 'B-Examination', 'B-Examinee', 'B-Examiner', 'B-Excess', 'B-Exchange_rate', 'B-Exchange_service', 'B-Exchanger_1', 'B-Exchanger_2', 'B-Exchangers', 'B-Excreta', 'B-Excreter', 'B-Executed', 'B-Execution', 'B-Executioner', 'B-Executive_authority', 'B-Existing_member', 'B-Expectation', 'B-Expected_entity', 'B-Expected_event', 'B-Experience', 'B-Experiencer', 'B-Explanation', 'B-Exporter', 'B-Exporting_area', 'B-Expression', 'B-Expressor', 'B-Extent', 'B-Extent_of_acclaim', 'B-External_cause', 'B-Facility', 'B-Fact', 'B-Factor', 'B-Factory', 'B-Faculty', 'B-Fastener', 'B-Father', 'B-Feature', 'B-Fidelity', 'B-Field', 'B-Fight', 'B-Figure', 'B-Figures', 'B-Final_category', 'B-Final_correlate', 'B-Final_element', 'B-Final_number', 'B-Final_state', 'B-Final_temperature', 'B-Final_value', 'B-Financial_instrument', 'B-Finding', 'B-Fine', 'B-Firearm', 'B-Fixed_location', 'B-Flame', 'B-Flammables', 'B-Fluid', 'B-Focal_entity', 'B-Focal_feature', 'B-Focal_occasion', 'B-Focal_participant', 'B-Following_distance', 'B-Food', 'B-Forbidden', 'B-Force', 'B-Forgery', 'B-Forgoer', 'B-Form', 'B-Formal_realization', 'B-Formational_cause', 'B-Frequency', 'B-Frequency_of_use', 'B-Front', 'B-Fugitive', 'B-Function', 'B-Gambler', 'B-Game', 'B-Garment', 'B-Gatherer', 'B-Genre', 'B-Gift', 'B-Gizmo', 'B-Goal', 'B-Goal_area', 'B-Goal_conditions', 'B-Goods', 'B-Governed', 'B-Governing_authority', 'B-Gradable_attribute', 'B-Grantee', 'B-Grantor', 'B-Grinder', 'B-Grinding_cause', 'B-Ground', 'B-Grounds', 'B-Group', 'B-Grower', 'B-Guardian', 'B-Guest', 'B-Hair', 'B-Hair_Property', 'B-Handle', 'B-Harmful_event', 'B-Healer', 'B-Hearer', 'B-Heat_source', 'B-Heating_instrument', 'B-Helper', 'B-Hiatus', 'B-Hidden_object', 'B-Hiding_place', 'B-Hindrance', 'B-Holding_Location', 'B-Holding_location', 'B-Homeland', 'B-Honoree', 'B-Host', 'B-Host_location', 'B-Hot/Cold_source', 'B-Hot_Cold_source', 'B-Hunter', 'B-Hypothetical_event', 'B-Idea', 'B-Idiosyncrasy', 'B-Illicit_activity', 'B-Illicit_organization', 'B-Impactee', 'B-Impactor', 'B-Impactors', 'B-Importer', 'B-Importing_area', 'B-Imposed_purpose', 'B-Impression', 'B-Incident', 'B-Increment', 'B-Independent_variable', 'B-Indicated', 'B-Indicated_entity', 'B-Indicated_resident', 'B-Indicator', 'B-Individual', 'B-Individual1', 'B-Individual2', 'B-Individual_1', 'B-Individual_2', 'B-Individuals', 'B-Inference', 'B-Influencing_entity', 'B-Influencing_situation', 'B-Influencing_variable', 'B-Information', 'B-Informer', 'B-Infrastructure', 'B-Ingestibles', 'B-Ingestor', 'B-Ingredients', 'B-Inherent_purpose', 'B-Initial_State', 'B-Initial_category', 'B-Initial_correlate', 'B-Initial_duration', 'B-Initial_number', 'B-Initial_set', 'B-Initial_size', 'B-Initial_state', 'B-Initial_subevent', 'B-Initial_value', 'B-Injured_Party', 'B-Injured_party', 'B-Injuring_entity', 'B-Injury', 'B-Inmates', 'B-Inspector', 'B-Instance', 'B-Instance_Prop', 'B-Institution', 'B-Instrument', 'B-Insulator', 'B-Intended_event', 'B-Intended_goal', 'B-Intended_perceiver', 'B-Intended_purpose', 'B-Interceptor', 'B-Interested_party', 'B-Interlocutor', 'B-Interlocutor_1', 'B-Interlocutor_2', 'B-Interlocutors', 'B-Intermediary', 'B-Internal_cause', 'B-Interval', 'B-Intoxicant', 'B-Invader', 'B-Invasion_act', 'B-Investigator', 'B-Issue', 'B-Issuer', 'B-Item', 'B-Item_1', 'B-Item_2', 'B-Item_Property', 'B-Items', 'B-Iteration', 'B-Iterations', 'B-Itinerary', 'B-Journey', 'B-Judge', 'B-Judges', 'B-Judgment', 'B-Judicial_body', 'B-Jurisdiction', 'B-Jury', 'B-Killer', 'B-Kindler', 'B-Knot', 'B-Knowledge', 'B-Known_resident', 'B-Label', 'B-Land', 'B-Landmark', 'B-Landmark_entity', 'B-Landmark_event', 'B-Landmark_feature', 'B-Landmark_occasion', 'B-Landmark_period', 'B-Landmark_time', 'B-Language', 'B-Last_subevent', 'B-Law', 'B-Leader', 'B-Legal_Basis', 'B-Legal_basis', 'B-Lender', 'B-Length', 'B-Lessee', 'B-Lessor', 'B-Level', 'B-Light', 'B-Limit1', 'B-Limit2', 'B-Limits', 'B-Limits_of_consideration', 'B-Liquid', 'B-Locale', 'B-Location', 'B-Location_of_Event', 'B-Location_of_appearance', 'B-Location_of_communicator', 'B-Location_of_confinement', 'B-Location_of_expressor', 'B-Location_of_inspector', 'B-Location_of_perceiver', 'B-Location_of_protagonist', 'B-Location_of_representation', 'B-Location_of_sound_source', 'B-Location_of_source', 'B-Locus', 'B-Loser', 'B-Magnitude', 'B-Main_statement', 'B-Manifestation_of_bias', 'B-Manipulator', 'B-Manner', 'B-Manufacturer', 'B-Margin', 'B-Marker', 'B-Market_type', 'B-Mass', 'B-Mass_theme', 'B-Material', 'B-Meaning', 'B-Means', 'B-Means_of_Gathering', 'B-Means_of_communication', 'B-Measurement', 'B-Medication', 'B-Medium', 'B-Member', 'B-Member_1', 'B-Member_2', 'B-Members', 'B-Mental_content', 'B-Message', 'B-Method', 'B-Misdeed', 'B-Mode_of_transfer', 'B-Mode_of_transportation', 'B-Money', 'B-Money_owner', 'B-Mother', 'B-Motivation', 'B-Multiplier', 'B-Name', 'B-Name_source', 'B-Namesake', 'B-Nationality', 'B-Negative_consequences', 'B-Network', 'B-New', 'B-New_Status', 'B-New_area', 'B-New_duration', 'B-New_idea', 'B-New_leader', 'B-New_member', 'B-New_punishment', 'B-New_tool', 'B-Nodes', 'B-Noise_maker', 'B-Noisy_event', 'B-Norm', 'B-Number', 'B-Number_of_possibilities', 'B-Numbers', 'B-Object', 'B-Obligated_party', 'B-Obligation', 'B-Obligator', 'B-Obstruction', 'B-Occasion', 'B-Occupant', 'B-Odds', 'B-Offender', 'B-Offense', 'B-Offerer', 'B-Official', 'B-Old', 'B-Old_leader', 'B-Old_order', 'B-Old_tool', 'B-Operator', 'B-Opinion', 'B-Opponent', 'B-Opportunity', 'B-Options', 'B-Ordinality', 'B-Organization', 'B-Orientation', 'B-Orientational_Location', 'B-Origin', 'B-Original', 'B-Original_context', 'B-Original_owner', 'B-Original_path', 'B-Original_punishment', 'B-Other', 'B-Outcome', 'B-Output', 'B-Owner', 'B-Paradigm', 'B-Parameter', 'B-Parents', 'B-Part', 'B-Part_1', 'B-Part_2', 'B-Part_Prop', 'B-Part_of_form', 'B-Part_prop', 'B-Participant', 'B-Participant_1', 'B-Participant_2', 'B-Participants', 'B-Particular Iteration', 'B-Particular iteration', 'B-Particular_Iteration', 'B-Particular_iteration', 'B-Parties', 'B-Partner_1', 'B-Partner_2', 'B-Partners', 'B-Parts', 'B-Party_1', 'B-Party_2', 'B-Path', 'B-Path_of_gaze', 'B-Path_shape', 'B-Patient', 'B-Patricular_iteration', 'B-Pattern', 'B-Payer', 'B-Penal_institution', 'B-Perceiver', 'B-Perceiver_agentive', 'B-Perceiver_passive', 'B-Percept', 'B-Perceptual_source', 'B-Performance', 'B-Performer', 'B-Performer1', 'B-Performer2', 'B-Period', 'B-Period of iterations', 'B-Period_of_Iterations', 'B-Period_of_existence', 'B-Period_of_iterations', 'B-Periodicity', 'B-Perpetrator', 'B-Persistent_characteristic', 'B-Person', 'B-Phenomena', 'B-Phenomenon', 'B-Phenomenon_1', 'B-Phenomenon_2', 'B-Picture', 'B-Piece', 'B-Piece_prop', 'B-Pieces', 'B-Place', 'B-Place_of_employment', 'B-Plan', 'B-Player', 'B-Plea', 'B-Point_of_contact', 'B-Point_of_view', 'B-Political_region', 'B-Population', 'B-Position', 'B-Possession', 'B-Possessor', 'B-Possibilities', 'B-Possible_event', 'B-Possible_sentence', 'B-Post_state', 'B-Potential_observer', 'B-Potential_recipient', 'B-Power_source', 'B-Practice', 'B-Practitioner', 'B-Precept', 'B-Precipitation', 'B-Precision', 'B-Predicate', 'B-Preparatory_act', 'B-Preparatory_phase', 'B-Presentation', 'B-Preventing_cause', 'B-Previous_context', 'B-Previous_instance', 'B-Principle', 'B-Prior_state', 'B-Prison', 'B-Prisoner', 'B-Prize', 'B-Problem', 'B-Process', 'B-Produced_food', 'B-Product', 'B-Production', 'B-Professional', 'B-Profiled_attribute', 'B-Profiled_item', 'B-Project', 'B-Projectile', 'B-Property', 'B-Proposal', 'B-Proposed_action', 'B-Proposition', 'B-Proprietor', 'B-Prosecution', 'B-Protagonist', 'B-Protection', 'B-Punishment', 'B-Purpose', 'B-Purpose_of_Event', 'B-Purpose_of_Goods', 'B-Purpose_of_created_entity', 'B-Purpose_of_goods', 'B-Purpose_of_recipient', 'B-Purpose_of_theme', 'B-Pursuer', 'B-Q_Prop', 'B-Qualification', 'B-Quality', 'B-Quantity', 'B-Question', 'B-Questioner', 'B-Rank', 'B-Rate', 'B-Ratifier', 'B-Re-encoding', 'B-Re_Encoding', 'B-Re_encoding', 'B-Re_enconding', 'B-Reader', 'B-Reason', 'B-Recipient', 'B-Recipients', 'B-Reciprocation', 'B-Reference_occasion', 'B-Reference_point', 'B-Reference_quantity', 'B-Referent', 'B-Refreshment', 'B-Regulated_entity', 'B-Related_event', 'B-Relation_type', 'B-Relationship', 'B-Relative_location', 'B-Relative_time', 'B-Relatives', 'B-Relay', 'B-Relevant_feature', 'B-Religion', 'B-Remainder', 'B-Reported_fact', 'B-Representation', 'B-Representative', 'B-Represented', 'B-Required', 'B-Required_entity', 'B-Required_situation', 'B-Requirement', 'B-Requirements', 'B-Researcher', 'B-Resident', 'B-Residents', 'B-Resistant_surface', 'B-Resource', 'B-Resource_controller', 'B-Responding_entity', 'B-Response', 'B-Response_action', 'B-Responsible_party', 'B-Rest', 'B-Restrictor', 'B-Result', 'B-Result_size', 'B-Resultant_Situation', 'B-Resulting_action', 'B-Reversive', 'B-Road', 'B-Roadway', 'B-Role', 'B-Role_of_focal_participant', 'B-Rope', 'B-Rule', 'B-Salient_activity', 'B-Salient_entity', 'B-Salient_event', 'B-Scale', 'B-Scene', 'B-Score', 'B-Searcher', 'B-Seat of emotion', 'B-Security', 'B-Selector', 'B-Self_mover', 'B-Seller', 'B-Sender', 'B-Sensory_attribute', 'B-Sent_item', 'B-Sentence', 'B-Service_action', 'B-Service_provider', 'B-Set', 'B-Set_of_instances', 'B-Severity', 'B-Shape', 'B-Shape_prop', 'B-Shopper', 'B-Side', 'B-Side_1', 'B-Side_2', 'B-Sides', 'B-Sign', 'B-Sign_1', 'B-Sign_2', 'B-Signatory', 'B-Signature', 'B-Signs', 'B-Simulated_entity', 'B-Situation', 'B-Size', 'B-Size_change', 'B-Skill', 'B-Sleep_state', 'B-Sleeper', 'B-Social_actor', 'B-Social_event', 'B-Society', 'B-Sought_entity', 'B-Sound', 'B-Sound_maker', 'B-Sound_source', 'B-Source', 'B-Source_currency', 'B-Source_emitter', 'B-Source_material', 'B-Source_of_information', 'B-Source_of_legal_authority', 'B-Source_of_relationship', 'B-Speaker', 'B-Specialty', 'B-Specification', 'B-Specified_content', 'B-Specified_entity', 'B-Speech', 'B-Speed', 'B-Standard', 'B-Standard_attribute', 'B-Standard_item', 'B-Standing', 'B-Start_time', 'B-Starting_point', 'B-State', 'B-State_of_Affairs', 'B-State_of_affairs', 'B-State_of_represented', 'B-Statement', 'B-Static_object', 'B-Status', 'B-Stimulus', 'B-Student', 'B-Studio', 'B-Stuff', 'B-Style', 'B-Sub-region', 'B-Sub_event', 'B-Sub_part', 'B-Sub_region', 'B-Sub_source', 'B-Subevent', 'B-Subject', 'B-Submittor', 'B-Subordinate', 'B-Subpart', 'B-Subregion', 'B-Subregion_bodypart', 'B-Subset', 'B-Substance', 'B-Subtype', 'B-Sufferer', 'B-Sum_1', 'B-Summary', 'B-Superior', 'B-Supplier', 'B-Supply', 'B-Support', 'B-Supported', 'B-Supporter', 'B-Surrenderer', 'B-Survivor', 'B-Suspect', 'B-Symptom', 'B-System', 'B-Target', 'B-Target_currency', 'B-Target_group', 'B-Target_location', 'B-Target_symbol', 'B-Targeted', 'B-Task', 'B-Teacher', 'B-Temperature', 'B-Temperature_change', 'B-Temperature_goal', 'B-Temperature_setting', 'B-Term', 'B-Term_of_sentence', 'B-Terrorist', 'B-Tested_property', 'B-Tester', 'B-Text', 'B-Theme', 'B-Theme_1', 'B-Theme_2', 'B-Themes', 'B-Time', 'B-Time_length', 'B-Time_of_Event', 'B-Time_of_Eventuality', 'B-Time_of_creation', 'B-Time_period', 'B-Time_span', 'B-Title', 'B-Topic', 'B-Topical_entity', 'B-Total', 'B-Tourist', 'B-Toxic_substance', 'B-Toxin_source', 'B-Trajector', 'B-Trajector_entity', 'B-Trajector_event', 'B-Trajector_period', 'B-Transferors', 'B-Transitional_period', 'B-Transport_means', 'B-Travel_means', 'B-Traveler', 'B-Traveller', 'B-Treatment', 'B-Trigger', 'B-Type', 'B-Type_Property', 'B-Uncertain_situation', 'B-Unconfirmed_content', 'B-Undergoer', 'B-Undertaking', 'B-Undesirable_Event', 'B-Undesirable_location', 'B-Undesirable_situation', 'B-Unit', 'B-Unresolved_referent', 'B-Unwanted_characteristics', 'B-Unwanted_entity', 'B-Use', 'B-Useful_location', 'B-User', 'B-Value', 'B-Value_1', 'B-Value_2', 'B-Value_range', 'B-Valued_entity', 'B-Vantage_point', 'B-Variable', 'B-Vehicle', 'B-Venue', 'B-Victim', 'B-Visitor', 'B-Vividness', 'B-Voice', 'B-Volume', 'B-Weapon', 'B-Wearer', 'B-Weather', 'B-Whole', 'B-Whole_patient', 'B-Wielder', 'B-Winner', 'B-Witness', 'B-Work', 'B-World_state', 'B-Wrong', 'B-Wrongdoer', 'Bad_outcome', 'Baggage', 'Barrier', 'Base_position', 'Basis_of_order', 'Bearer', 'Behavior', 'Behavior_product', 'Believer', 'Beneficiary', 'Benefited_party', 'Binding_principle', 'Body', 'Body_Part', 'Body_mark', 'Body_part', 'Bodypart_of_agent', 'Boundary', 'Builder', 'Building', 'Building_part', 'Business', 'Business_Name', 'Buyer', 'Carrier', 'Case', 'Category', 'Cause', 'Characteristic', 'Characterization', 'Charges', 'Child', 'Chosen', 'Circumstances', 'Claimant', 'Class', 'Clothing', 'Co_participant', 'Co_theme', 'Cognate_event', 'Cognizer', 'Cognizer_1', 'Cognizer_agent', 'Cognizers', 'Collection', 'Colonists', 'Color', 'Commitment', 'Communication', 'Communicator', 'Comparison_set', 'Competition', 'Competitor', 'Competitors', 'Complainer', 'Complaint', 'Completeness', 'Complex', 'Component', 'Component_entities', 'Component_sound', 'Components', 'Concept_1', 'Concept_2', 'Concepts', 'Concessive', 'Condition', 'Configuration', 'Connected_item', 'Connected_locations', 'Connection', 'Connections', 'Connector', 'Conqueror', 'Consideration', 'Constancy', 'Constant_location', 'Constituent_parts', 'Constituents', 'Container', 'Container_portal', 'Container_possessor', 'Containing_event', 'Containing_text', 'Content', 'Contents', 'Context', 'Context_of_acquaintance', 'Contrast', 'Contrast_set', 'Controlling_act', 'Controlling_entity', 'Conveyed_emotion', 'Convict', 'Cook', 'Coordinated_event', 'Coparticipant', 'Copy', 'Correlate', 'Cotheme', 'Count', 'Counter_actor', 'Course', 'Court', 'Created_entity', 'Creator', 'Crime', 'Crime_jurisdiction', 'Criteria', 'Criterion', 'Culture', 'Current_country', 'Current_instance', 'Danger', 'Dangerous_entity', 'Dangerous_situation', 'Decision', 'Decision_maker', 'Dedicated_entity', 'Defendant', 'Defender', 'Defining_event', 'Degree', 'Degree_of_involvement', 'Deliverer', 'Delivery_device', 'Denoted_quantity', 'Dependent', 'Dependent_entity', 'Dependent_situation', 'Dependent_variable', 'Depictive', 'Descriptor', 'Desirable', 'Desired_state', 'Destroyer', 'Determinant', 'Device', 'Difference', 'Differentiating_fact', 'Dimension', 'Direction', 'Discourse_salient_country', 'Dispute', 'Distance', 'Distributor', 'Document', 'Documents', 'Domain', 'Domain_of_Relevance', 'Donor', 'Driver', 'Duration', 'Duration_of_final_state', 'Duty', 'Earner', 'Earnings', 'Eclipsed', 'Economy', 'Effect', 'Ego', 'Electricity', 'Element', 'Emission', 'Emotion', 'Emotional_state', 'Empathy_target', 'Employee', 'Employer', 'Employment', 'Enabled_action', 'Enabled_situation', 'Enablement', 'End_point', 'Entities', 'Entity', 'Entity1', 'Entity2', 'Entity_1', 'Entity_2', 'Escapee', 'Estimation', 'Ethnicity', 'Evaluation', 'Evaluee', 'Event', 'Event_description', 'Event_dscription', 'Events', 'Eventuality', 'Evidence', 'Examination', 'Exchanger_1', 'Exchanger_2', 'Exchangers', 'Excreta', 'Excreter', 'Executed', 'Execution', 'Expectation', 'Expected_event', 'Experience', 'Experiencer', 'Explanation', 'Exporter', 'Exporting_area', 'Expression', 'Expressor', 'Extent_of_acclaim', 'Fact', 'Factor', 'Factory', 'Fastener', 'Feature', 'Field', 'Figure', 'Figures', 'Final_category', 'Final_correlate', 'Final_state', 'Final_value', 'Finding', 'Firearm', 'Fixed_location', 'Flammables', 'Fluid', 'Focal_entity', 'Focal_feature', 'Focal_occasion', 'Focal_participant', 'Food', 'Forbidden', 'Force', 'Forgoer', 'Form', 'Formational_cause', 'Frequency', 'Front', 'Function', 'Garment', 'Genre', 'Gift', 'Gizmo', 'Goal', 'Goal_area', 'Goods', 'Governed', 'Governing_authority', 'Gradable_attribute', 'Grantee', 'Grantor', 'Ground', 'Grounds', 'Group', 'Guardian', 'Guest', 'Harmful_event', 'Hearer', 'Heating_instrument', 'Helper', 'Hidden_object', 'Hindrance', 'Holding_location', 'Homeland', 'Honoree', 'Host', 'Hunter', 'Hypothetical_event', 'I-Abundant_entities', 'I-Abuser', 'I-Accessory', 'I-Accoutrement', 'I-Accuracy', 'I-Accused', 'I-Act', 'I-Action', 'I-Activity', 'I-Actor', 'I-Added_set', 'I-Addict', 'I-Addictant', 'I-Address', 'I-Addressee', 'I-Affected', 'I-Affected_Party', 'I-Affected_party', 'I-Affliction', 'I-Age', 'I-Agent', 'I-Aggregate', 'I-AggregateProperty', 'I-Agreement', 'I-Agriculturist', 'I-Ailment', 'I-Air', 'I-Alliance', 'I-Alter', 'I-Alterant', 'I-Amends', 'I-Amount_of_discussion', 'I-Amount_of_information', 'I-Amount_of_work', 'I-Anchor', 'I-Angle', 'I-Appraisal', 'I-Area', 'I-Arguer', 'I-Arguer1', 'I-Arguer2', 'I-Arguers', 'I-Arraign_authority', 'I-Artifact', 'I-Artist', 'I-Assailant', 'I-Assessor', 'I-Asset', 'I-Assets', 'I-Astronomical_entity', 'I-Attachment', 'I-Attack', 'I-Attendee', 'I-Attraction', 'I-Attribute', 'I-Audience', 'I-Authenticity', 'I-Author', 'I-Authorities', 'I-Authority', 'I-Avenger', 'I-Bad_entity', 'I-Bad_outcome', 'I-Baggage', 'I-Barrier', 'I-Base_position', 'I-Basis', 'I-Basis_of_order', 'I-Beam', 'I-Bearer', 'I-Behavior', 'I-Behavior_product', 'I-Believer', 'I-Beneficiary', 'I-Benefit', 'I-Benefited_party', 'I-Benefiting_action', 'I-Binding_principle', 'I-Body', 'I-Body_Part', 'I-Body_location', 'I-Body_part', 'I-Bodypart_of_agent', 'I-Boundary', 'I-Building', 'I-Building_part', 'I-Business', 'I-Business_Name', 'I-Buyer', 'I-Capitulator', 'I-Capture', 'I-Carrier', 'I-Case', 'I-Category', 'I-Cause', 'I-Cause_of_shine', 'I-Change_agent', 'I-Characteristic', 'I-Characterization', 'I-Charges', 'I-Child', 'I-Chosen', 'I-Circumstance', 'I-Circumstances', 'I-Circumstnaces', 'I-Claimant', 'I-Class', 'I-Clothing', 'I-Co-Participant', 'I-Co-guest', 'I-Co_abductee', 'I-Co_participant', 'I-Co_resident', 'I-Co_theme', 'I-Code', 'I-Cognate_event', 'I-Cognizer', 'I-Cognizer_1', 'I-Cognizer_2', 'I-Cognizer_agent', 'I-Cognizers', 'I-Collection', 'I-Colonists', 'I-Color', 'I-Color_qualifier', 'I-Combatants', 'I-Commitment', 'I-Communication', 'I-Communicative_act', 'I-Communicator', 'I-Company', 'I-Comparand', 'I-Comparison_set', 'I-Compensation', 'I-Competing_consideration', 'I-Competition', 'I-Competitor', 'I-Competitors', 'I-Complainer', 'I-Complaint', 'I-Completeness', 'I-Component', 'I-Component_entities', 'I-Component_sound', 'I-Components', 'I-Concept_1', 'I-Concept_2', 'I-Concepts', 'I-Concessive', 'I-Condition', 'I-Configuration', 'I-Connected_item', 'I-Connected_locations', 'I-Connections', 'I-Connector', 'I-Conqueror', 'I-Consecutive', 'I-Consequences', 'I-Consideration', 'I-Constancy', 'I-Constant_location', 'I-Constituent_parts', 'I-Constituents', 'I-Construction', 'I-Consumer', 'I-Container', 'I-Container_portal', 'I-Container_possessor', 'I-Containing_Event', 'I-Containing_event', 'I-Containing_object', 'I-Containing_text', 'I-Content', 'I-Contents', 'I-Context', 'I-Context_of_acquaintance', 'I-Contract_basis', 'I-Contrast', 'I-Contrast_set', 'I-Controllee', 'I-Controlling_act', 'I-Controlling_entity', 'I-Conveyed_emotion', 'I-Convict', 'I-Conviction', 'I-Cook', 'I-Coordinated_event', 'I-Coparticipant', 'I-Copy', 'I-Correlate', 'I-Cotheme', 'I-Count', 'I-Counter_actor', 'I-Countertransfer', 'I-Country_of_origin', 'I-Course', 'I-Court', 'I-Created_entity', 'I-Creator', 'I-Crime', 'I-Crime_jurisdiction', 'I-Criteria', 'I-Criterion', 'I-Crop', 'I-Current_instance', 'I-Current_jurisdiction', 'I-Danger', 'I-Dangerous_entity', 'I-Dangerous_situation', 'I-Deceased', 'I-Decision', 'I-Decision_maker', 'I-Decorated_individual', 'I-Decoration_desriptor', 'I-Dedicated_entity', 'I-Defendant', 'I-Defender', 'I-Defining_event', 'I-Deformer', 'I-Degree', 'I-Degree_of_involvement', 'I-Deliverer', 'I-Delivery_device', 'I-Denoted_quantity', 'I-Dependent', 'I-Dependent_entity', 'I-Dependent_individual', 'I-Dependent_situation', 'I-Dependent_state', 'I-Dependent_variable', 'I-Depicitve', 'I-Depictive', 'I-Depictive_of_represented', 'I-Described_entity', 'I-Descriptor', 'I-Desirable', 'I-Desirable_action', 'I-Desirable_situation', 'I-Desired_goal', 'I-Desired_state', 'I-Desired_state_of_affairs', 'I-Destination_event', 'I-Destination_time', 'I-Destroyer', 'I-Determinant', 'I-Deviation', 'I-Device', 'I-Difference', 'I-Differentiating_fact', 'I-Dimension', 'I-Direction', 'I-Dispute', 'I-Distance', 'I-Distributor', 'I-Documents', 'I-Dodger', 'I-Domain', 'I-Domain_of_Relevance', 'I-Donor', 'I-Driver', 'I-Dryee', 'I-Duration', 'I-Duration_Of_Final_State', 'I-Duration_of_end_state', 'I-Duration_of_endstate', 'I-Duration_of_final_state', 'I-Duty', 'I-Earner', 'I-Earnings', 'I-Eclipsed', 'I-Effect', 'I-Egg', 'I-Ego', 'I-Elapsed_time', 'I-Element', 'I-Emission', 'I-Emitter', 'I-Emotion', 'I-Emotional_state', 'I-Empathy_target', 'I-Employee', 'I-Employer', 'I-Enabled_action', 'I-Enabled_situation', 'I-Enablement', 'I-Enclosed_region', 'I-End_point', 'I-End_time', 'I-Endangering_act', 'I-Endpoints', 'I-Enemy', 'I-Entities', 'I-Entity', 'I-Entity1', 'I-Entity2', 'I-Entity_1', 'I-Entity_2', 'I-Entry_path', 'I-Epistemic_stance', 'I-Escapee', 'I-Estimation', 'I-Ethnicity', 'I-Evader', 'I-Evaluation', 'I-Evaluator', 'I-Evaluee', 'I-Event', 'I-Event_description', 'I-Event_dscription', 'I-Events', 'I-Eventuality', 'I-Evidence', 'I-Examinee', 'I-Examiner', 'I-Excess', 'I-Exchange_rate', 'I-Exchange_service', 'I-Exchanger_1', 'I-Exchanger_2', 'I-Exchangers', 'I-Excreta', 'I-Excreter', 'I-Executed', 'I-Executioner', 'I-Executive_authority', 'I-Existing_member', 'I-Expectation', 'I-Expected_entity', 'I-Expected_event', 'I-Experience', 'I-Experiencer', 'I-Explanation', 'I-Exporter', 'I-Exporting_area', 'I-Expression', 'I-Expressor', 'I-Extent', 'I-External_cause', 'I-Facility', 'I-Fact', 'I-Factor', 'I-Factory', 'I-Faculty', 'I-Fastener', 'I-Father', 'I-Feature', 'I-Fidelity', 'I-Field', 'I-Figure', 'I-Figures', 'I-Final_category', 'I-Final_correlate', 'I-Final_element', 'I-Final_number', 'I-Final_state', 'I-Final_temperature', 'I-Final_value', 'I-Finding', 'I-Fine', 'I-Firearm', 'I-Fixed_location', 'I-Flame', 'I-Flammables', 'I-Fluid', 'I-Focal_entity', 'I-Focal_occasion', 'I-Focal_participant', 'I-Following_distance', 'I-Food', 'I-Forbidden', 'I-Force', 'I-Forgery', 'I-Forgoer', 'I-Form', 'I-Formal_realization', 'I-Formational_cause', 'I-Frequency', 'I-Frequency_of_use', 'I-Front', 'I-Fugitive', 'I-Function', 'I-Gambler', 'I-Game', 'I-Garment', 'I-Gatherer', 'I-Genre', 'I-Gift', 'I-Goal', 'I-Goal_area', 'I-Goal_conditions', 'I-Goods', 'I-Governed', 'I-Governing_authority', 'I-Gradable_attribute', 'I-Grantee', 'I-Grantor', 'I-Grinder', 'I-Grinding_cause', 'I-Ground', 'I-Grounds', 'I-Group', 'I-Grower', 'I-Guest', 'I-Hair', 'I-Hair_Property', 'I-Handle', 'I-Harmful_event', 'I-Healer', 'I-Hearer', 'I-Heat_source', 'I-Heating_instrument', 'I-Helper', 'I-Hiatus', 'I-Hidden_object', 'I-Hiding_place', 'I-Hindrance', 'I-Holding_Location', 'I-Holding_location', 'I-Homeland', 'I-Honoree', 'I-Host', 'I-Host_location', 'I-Hot/Cold_source', 'I-Hot_Cold_source', 'I-Hunter', 'I-Hypothetical_event', 'I-Idea', 'I-Idiosyncrasy', 'I-Illicit_activity', 'I-Illicit_organization', 'I-Impactee', 'I-Impactor', 'I-Impactors', 'I-Importer', 'I-Importing_area', 'I-Imposed_purpose', 'I-Impression', 'I-Incident', 'I-Increment', 'I-Independent_variable', 'I-Indicated', 'I-Indicated_entity', 'I-Indicated_resident', 'I-Indicator', 'I-Individual', 'I-Individual1', 'I-Individual2', 'I-Individual_1', 'I-Individual_2', 'I-Individuals', 'I-Inference', 'I-Influencing_entity', 'I-Influencing_situation', 'I-Influencing_variable', 'I-Information', 'I-Ingestibles', 'I-Ingestor', 'I-Ingredients', 'I-Inherent_purpose', 'I-Initial_State', 'I-Initial_category', 'I-Initial_correlate', 'I-Initial_duration', 'I-Initial_number', 'I-Initial_set', 'I-Initial_size', 'I-Initial_state', 'I-Initial_subevent', 'I-Initial_value', 'I-Injured_Party', 'I-Injured_party', 'I-Injuring_entity', 'I-Injury', 'I-Inspector', 'I-Instance', 'I-Instance_Prop', 'I-Institution', 'I-Instrument', 'I-Insulator', 'I-Intended_event', 'I-Intended_goal', 'I-Intended_perceiver', 'I-Intended_purpose', 'I-Interceptor', 'I-Interested_party', 'I-Interlocutor', 'I-Interlocutor_1', 'I-Interlocutor_2', 'I-Interlocutors', 'I-Intermediary', 'I-Internal_cause', 'I-Interval', 'I-Intoxicant', 'I-Invader', 'I-Invasion_act', 'I-Investigator', 'I-Issue', 'I-Issuer', 'I-Item', 'I-Item_1', 'I-Item_2', 'I-Item_Property', 'I-Items', 'I-Iteration', 'I-Iterations', 'I-Itinerary', 'I-Journey', 'I-Judge', 'I-Judgment', 'I-Jurisdiction', 'I-Jury', 'I-Killer', 'I-Kindler', 'I-Knot', 'I-Knowledge', 'I-Label', 'I-Land', 'I-Landmark', 'I-Landmark_entity', 'I-Landmark_event', 'I-Landmark_feature', 'I-Landmark_occasion', 'I-Landmark_period', 'I-Landmark_time', 'I-Language', 'I-Last_subevent', 'I-Leader', 'I-Legal_Basis', 'I-Legal_basis', 'I-Lender', 'I-Length', 'I-Lessee', 'I-Lessor', 'I-Level', 'I-Light', 'I-Limit1', 'I-Limit2', 'I-Limits', 'I-Limits_of_consideration', 'I-Liquid', 'I-Locale', 'I-Location', 'I-Location_of_Event', 'I-Location_of_appearance', 'I-Location_of_communicator', 'I-Location_of_confinement', 'I-Location_of_expressor', 'I-Location_of_inspector', 'I-Location_of_perceiver', 'I-Location_of_protagonist', 'I-Location_of_representation', 'I-Location_of_sound_source', 'I-Location_of_source', 'I-Locus', 'I-Loser', 'I-Main_statement', 'I-Manifestation_of_bias', 'I-Manipulator', 'I-Manner', 'I-Manufacturer', 'I-Margin', 'I-Marker', 'I-Mass', 'I-Mass_theme', 'I-Material', 'I-Meaning', 'I-Means', 'I-Means_of_Gathering', 'I-Means_of_communication', 'I-Measurement', 'I-Medication', 'I-Medium', 'I-Member', 'I-Member_1', 'I-Member_2', 'I-Members', 'I-Mental_content', 'I-Message', 'I-Method', 'I-Misdeed', 'I-Mode_of_transfer', 'I-Mode_of_transportation', 'I-Money', 'I-Mother', 'I-Motivation', 'I-Name', 'I-Name_source', 'I-Namesake', 'I-Nationality', 'I-Negative_consequences', 'I-Network', 'I-New', 'I-New_Status', 'I-New_area', 'I-New_duration', 'I-New_idea', 'I-New_leader', 'I-New_member', 'I-New_punishment', 'I-New_tool', 'I-Nodes', 'I-Noisy_event', 'I-Norm', 'I-Number', 'I-Numbers', 'I-Object', 'I-Obligated_party', 'I-Obligation', 'I-Obligator', 'I-Obstruction', 'I-Occasion', 'I-Occupant', 'I-Odds', 'I-Offender', 'I-Offense', 'I-Offerer', 'I-Official', 'I-Old', 'I-Old_leader', 'I-Old_order', 'I-Old_tool', 'I-Operator', 'I-Opinion', 'I-Opponent', 'I-Options', 'I-Ordinality', 'I-Organization', 'I-Orientation', 'I-Orientational_Location', 'I-Origin', 'I-Original', 'I-Original_context', 'I-Original_owner', 'I-Original_path', 'I-Original_punishment', 'I-Other', 'I-Outcome', 'I-Output', 'I-Owner', 'I-Paradigm', 'I-Parameter', 'I-Part', 'I-Part_1', 'I-Part_2', 'I-Part_Prop', 'I-Part_of_form', 'I-Part_prop', 'I-Participant', 'I-Participant_1', 'I-Participant_2', 'I-Participants', 'I-Particular Iteration', 'I-Particular iteration', 'I-Particular_iteration', 'I-Parties', 'I-Partner_1', 'I-Partner_2', 'I-Partners', 'I-Parts', 'I-Party_1', 'I-Party_2', 'I-Path', 'I-Path_of_gaze', 'I-Path_shape', 'I-Patient', 'I-Patricular_iteration', 'I-Pattern', 'I-Payer', 'I-Perceiver', 'I-Perceiver_agentive', 'I-Perceiver_passive', 'I-Percept', 'I-Perceptual_source', 'I-Performance', 'I-Performer', 'I-Performer1', 'I-Performer2', 'I-Period', 'I-Period of iterations', 'I-Period_of_Iterations', 'I-Period_of_existence', 'I-Period_of_iterations', 'I-Periodicity', 'I-Perpetrator', 'I-Persistent_characteristic', 'I-Person', 'I-Phenomena', 'I-Phenomenon', 'I-Phenomenon_1', 'I-Phenomenon_2', 'I-Picture', 'I-Piece_prop', 'I-Pieces', 'I-Place', 'I-Place_of_employment', 'I-Plan', 'I-Plea', 'I-Point_of_contact', 'I-Point_of_view', 'I-Political_region', 'I-Population', 'I-Position', 'I-Possession', 'I-Possessor', 'I-Possibilities', 'I-Possible_event', 'I-Possible_sentence', 'I-Post_state', 'I-Potential_observer', 'I-Potential_recipient', 'I-Power_source', 'I-Practice', 'I-Practitioner', 'I-Precept', 'I-Precipitation', 'I-Precision', 'I-Predicate', 'I-Preparatory_act', 'I-Preparatory_phase', 'I-Presentation', 'I-Preventing_cause', 'I-Previous_context', 'I-Previous_instance', 'I-Principle', 'I-Prior_state', 'I-Prison', 'I-Prisoner', 'I-Prize', 'I-Problem', 'I-Process', 'I-Produced_food', 'I-Product', 'I-Production', 'I-Profiled_attribute', 'I-Profiled_item', 'I-Project', 'I-Projectile', 'I-Property', 'I-Proposal', 'I-Proposed_action', 'I-Proposition', 'I-Proprietor', 'I-Prosecution', 'I-Protagonist', 'I-Protection', 'I-Punishment', 'I-Purpose', 'I-Purpose_of_Event', 'I-Purpose_of_Goods', 'I-Purpose_of_created_entity', 'I-Purpose_of_goods', 'I-Purpose_of_recipient', 'I-Purpose_of_theme', 'I-Pursuer', 'I-Q_Prop', 'I-Qualification', 'I-Quality', 'I-Quantity', 'I-Question', 'I-Questioner', 'I-Rank', 'I-Rate', 'I-Ratifier', 'I-Re-encoding', 'I-Re_Encoding', 'I-Re_encoding', 'I-Re_enconding', 'I-Reader', 'I-Reason', 'I-Recipient', 'I-Recipients', 'I-Reciprocation', 'I-Reference_occasion', 'I-Reference_point', 'I-Reference_quantity', 'I-Referent', 'I-Related_event', 'I-Relation_type', 'I-Relationship', 'I-Relative_location', 'I-Relative_time', 'I-Relatives', 'I-Relevant_feature', 'I-Religion', 'I-Remainder', 'I-Reported_fact', 'I-Representation', 'I-Representative', 'I-Represented', 'I-Required', 'I-Required_entity', 'I-Required_situation', 'I-Requirement', 'I-Requirements', 'I-Researcher', 'I-Resident', 'I-Residents', 'I-Resistant_surface', 'I-Resource', 'I-Resource_controller', 'I-Responding_entity', 'I-Response', 'I-Response_action', 'I-Responsible_party', 'I-Rest', 'I-Restrictor', 'I-Result', 'I-Result_size', 'I-Resultant_Situation', 'I-Resulting_action', 'I-Road', 'I-Roadway', 'I-Role', 'I-Role_of_focal_participant', 'I-Rope', 'I-Rule', 'I-Salient_entity', 'I-Salient_event', 'I-Scale', 'I-Scene', 'I-Score', 'I-Searcher', 'I-Seat of emotion', 'I-Security', 'I-Selector', 'I-Self_mover', 'I-Seller', 'I-Sender', 'I-Sensory_attribute', 'I-Sent_item', 'I-Sentence', 'I-Service_provider', 'I-Set', 'I-Severity', 'I-Shape_prop', 'I-Shopper', 'I-Side', 'I-Side_1', 'I-Side_2', 'I-Sides', 'I-Sign', 'I-Sign_1', 'I-Sign_2', 'I-Signatory', 'I-Signs', 'I-Simulated_entity', 'I-Situation', 'I-Size', 'I-Size_change', 'I-Skill', 'I-Sleep_state', 'I-Sleeper', 'I-Social_actor', 'I-Social_event', 'I-Society', 'I-Sought_entity', 'I-Sound', 'I-Sound_maker', 'I-Sound_source', 'I-Source', 'I-Source_currency', 'I-Source_emitter', 'I-Source_material', 'I-Source_of_information', 'I-Source_of_legal_authority', 'I-Source_of_relationship', 'I-Speaker', 'I-Specification', 'I-Specified_content', 'I-Specified_entity', 'I-Speech', 'I-Speed', 'I-Standard', 'I-Standard_attribute', 'I-Standard_item', 'I-Standing', 'I-Start_time', 'I-Starting_point', 'I-State', 'I-State_of_Affairs', 'I-State_of_affairs', 'I-State_of_represented', 'I-Statement', 'I-Static_object', 'I-Status', 'I-Stimulus', 'I-Student', 'I-Studio', 'I-Stuff', 'I-Style', 'I-Sub-region', 'I-Sub_event', 'I-Sub_part', 'I-Sub_region', 'I-Sub_source', 'I-Subevent', 'I-Subject', 'I-Submittor', 'I-Subordinate', 'I-Subregion', 'I-Subregion_bodypart', 'I-Subset', 'I-Substance', 'I-Sufferer', 'I-Sum_1', 'I-Summary', 'I-Superior', 'I-Supplier', 'I-Support', 'I-Supported', 'I-Supporter', 'I-Surrenderer', 'I-Survivor', 'I-Suspect', 'I-Symptom', 'I-System', 'I-Target', 'I-Target_currency', 'I-Target_location', 'I-Target_symbol', 'I-Targeted', 'I-Task', 'I-Teacher', 'I-Temperature', 'I-Temperature_change', 'I-Temperature_goal', 'I-Temperature_setting', 'I-Term', 'I-Term_of_sentence', 'I-Terrorist', 'I-Tested_property', 'I-Tester', 'I-Text', 'I-Theme', 'I-Theme_1', 'I-Theme_2', 'I-Themes', 'I-Time', 'I-Time_length', 'I-Time_of_Event', 'I-Time_of_Eventuality', 'I-Time_of_creation', 'I-Time_period', 'I-Time_span', 'I-Title', 'I-Topic', 'I-Topical_entity', 'I-Total', 'I-Tourist', 'I-Toxic_substance', 'I-Toxin_source', 'I-Trajector', 'I-Trajector_entity', 'I-Trajector_event', 'I-Trajector_period', 'I-Transferors', 'I-Transitional_period', 'I-Transport_means', 'I-Travel_means', 'I-Traveler', 'I-Traveller', 'I-Treatment', 'I-Trigger', 'I-Type', 'I-Type_Property', 'I-Uncertain_situation', 'I-Unconfirmed_content', 'I-Undergoer', 'I-Undertaking', 'I-Undesirable_Event', 'I-Undesirable_location', 'I-Undesirable_situation', 'I-Unit', 'I-Unresolved_referent', 'I-Unwanted_characteristics', 'I-Unwanted_entity', 'I-Use', 'I-Useful_location', 'I-User', 'I-Value', 'I-Value_1', 'I-Value_2', 'I-Value_range', 'I-Valued_entity', 'I-Vantage_point', 'I-Variable', 'I-Vehicle', 'I-Venue', 'I-Victim', 'I-Visitor', 'I-Voice', 'I-Volume', 'I-Weapon', 'I-Wearer', 'I-Weather', 'I-Whole', 'I-Whole_patient', 'I-Wielder', 'I-Winner', 'I-Witness', 'I-World_state', 'I-Wrong', 'I-Wrongdoer', 'Idea', 'Idiosyncrasy', 'Illicit_activity', 'Impactee', 'Impactor', 'Importer', 'Importing_area', 'Impression', 'Incident', 'Increment', 'Independent_variable', 'Indicated', 'Indicated_resident', 'Indicator', 'Individual', 'Individual1', 'Individual2', 'Individual_1', 'Individual_2', 'Individuals', 'Inference', 'Influencing_entity', 'Influencing_situation', 'Influencing_variable', 'Information', 'Informer', 'Infrastructure', 'Ingestibles', 'Ingestor', 'Inherent_purpose', 'Initial_category', 'Initial_state', 'Initial_subevent', 'Initial_value', 'Injured_Party', 'Injury', 'Inspector', 'Instance', 'Instance_Prop', 'Institution', 'Instrument', 'Intended_event', 'Intended_goal', 'Intended_purpose', 'Interceptor', 'Interested_party', 'Interlocutor', 'Interlocutor_1', 'Interlocutor_2', 'Interlocutors', 'Intermediary', 'Internal_cause', 'Interval', 'Intoxicant', 'Invader', 'Investigator', 'Issue', 'Issuer', 'Item', 'Item_1', 'Item_2', 'Item_Property', 'Items', 'Iteration', 'Itinerary', 'Judge', 'Judgment', 'Judicial_body', 'Jurisdiction', 'Killer', 'Kindler', 'Knowledge', 'Known_resident', 'Label', 'Land', 'Landmark', 'Landmark_entity', 'Landmark_event', 'Landmark_feature', 'Landmark_occasion', 'Landmark_period', 'Last_subevent', 'Law', 'Leader', 'Legal_Basis', 'Lessee', 'Level', 'Light', 'Limit1', 'Limit2', 'Limits_of_consideration', 'Locale', 'Location', 'Location_of_confinement', 'Location_of_inspector', 'Location_of_perceiver', 'Location_of_protagonist', 'Location_of_representation', 'Location_of_sound_source', 'Loser', 'Magnitude', 'Main_statement', 'Manipulator', 'Manner', 'Manufacturer', 'Margin', 'Marker', 'Mass', 'Mass_theme', 'Material', 'Meaning', 'Means', 'Means_of_Gathering', 'Measurement', 'Medication', 'Medium', 'Member', 'Members', 'Mental_content', 'Message', 'Method', 'Misdeed', 'Mode_of_transportation', 'Money', 'Multiplier', 'Name', 'Name_source', 'Network', 'New', 'New_area', 'New_idea', 'New_leader', 'New_member', 'New_tool', 'Nodes', 'Noise_maker', 'Noisy_event', 'Norm', 'Number', 'Number_of_possibilities', 'Object', 'Obligation', 'Obligator', 'Occasion', 'Offender', 'Offense', 'Offerer', 'Official', 'Old', 'Old_leader', 'Old_order', 'Operator', 'Opinion', 'Ordinality', 'Organization', 'Orientation', 'Origin', 'Original', 'Outcome', 'Owner', 'Parameter', 'Parents', 'Part', 'Part_1', 'Part_2', 'Part_Prop', 'Part_prop', 'Participant', 'Participant_1', 'Participant_2', 'Participants', 'Particular iteration', 'Particular_iteration', 'Parties', 'Partner_1', 'Partner_2', 'Partners', 'Parts', 'Party_1', 'Party_2', 'Path', 'Patient', 'Pattern', 'Payer', 'Penal_institution', 'Perceiver', 'Perceiver_agentive', 'Perceiver_passive', 'Percept', 'Perceptual_source', 'Performance', 'Performer', 'Period', 'Period_of_iterations', 'Perpetrator', 'Persistent_characteristic', 'Person', 'Phenomena', 'Phenomenon', 'Phenomenon_1', 'Phenomenon_2', 'Piece', 'Place', 'Place_of_employment', 'Plan', 'Point_of_view', 'Political_region', 'Population', 'Position', 'Possession', 'Possessor', 'Possibilities', 'Possible_event', 'Post_state', 'Power_source', 'Practitioner', 'Precipitation', 'Precision', 'Predicate', 'Preparatory_act', 'Preparatory_phase', 'Preventing_cause', 'Previous_context', 'Previous_instance', 'Principle', 'Prior_state', 'Prize', 'Problem', 'Process', 'Produced_food', 'Product', 'Production', 'Professional', 'Profiled_attribute', 'Profiled_item', 'Project', 'Projectile', 'Property', 'Proposal', 'Proposed_action', 'Proposition', 'Proprietor', 'Protagonist', 'Protection', 'Punishment', 'Purpose', 'Purpose_of_Event', 'Purpose_of_created_entity', 'Purpose_of_goods', 'Purpose_of_recipient', 'Purpose_of_theme', 'Q_Prop', 'Quantity', 'Question', 'Rank', 'Rate', 'Ratifier', 'Re_encoding', 'Reader', 'Reason', 'Recipient', 'Recipients', 'Reference_occasion', 'Reference_quantity', 'Referent', 'Refreshment', 'Regulated_entity', 'Related_event', 'Relation_type', 'Relative_location', 'Relative_time', 'Relatives', 'Relevant_feature', 'Religion', 'Remainder', 'Reported_fact', 'Representation', 'Represented', 'Required', 'Required_entity', 'Required_situation', 'Requirement', 'Requirements', 'Researcher', 'Resident', 'Residents', 'Resource', 'Responding_entity', 'Response', 'Response_action', 'Responsible_party', 'Rest', 'Restrictor', 'Result', 'Result_size', 'Resulting_action', 'Road', 'Roadway', 'Role', 'Rule', 'Salient_entity', 'Salient_event', 'Scale', 'Searcher', 'Selector', 'Self_mover', 'Seller', 'Sender', 'Sensory_attribute', 'Sent_item', 'Sentence', 'Service_action', 'Service_provider', 'Set', 'Set_of_instances', 'Shape', 'Shape_prop', 'Side', 'Side_1', 'Side_2', 'Sides', 'Signatory', 'Situation', 'Skill', 'Sleeper', 'Social_event', 'Society', 'Sought_entity', 'Sound', 'Sound_maker', 'Sound_source', 'Source', 'Source_of_information', 'Speaker', 'Specialty', 'Specification', 'Specified_entity', 'Speed', 'Standard', 'Standard_attribute', 'Standard_item', 'Standing', 'Starting_point', 'State', 'State_of_Affairs', 'State_of_affairs', 'Statement', 'Status', 'Stimulus', 'Student', 'Stuff', 'Style', 'Sub_event', 'Sub_part', 'Subevent', 'Subject', 'Submittor', 'Subordinate', 'Subpart', 'Subset', 'Substance', 'Subtype', 'Superior', 'Supplier', 'Supply', 'Support', 'Supported', 'Supporter', 'Surrenderer', 'Survivor', 'Suspect', 'Symptom', 'System', 'Target', 'Target_group', 'Target_location', 'Targeted', 'Task', 'Teacher', 'Temperature', 'Term', 'Term_of_sentence', 'Terrorist', 'Tested_property', 'Tester', 'Text', 'Theme', 'Theme_1', 'Theme_2', 'Themes', 'Time', 'Time_length', 'Time_of_Event', 'Time_of_Eventuality', 'Time_of_creation', 'Time_period', 'Time_span', 'Title', 'Topic', 'Topical_entity', 'Total', 'Tourist', 'Toxic_substance', 'Trajector', 'Trajector_entity', 'Trajector_event', 'Trajector_period', 'Transferors', 'Traveler', 'Traveller', 'Treatment', 'Trigger', 'Type', 'Type_Property', 'Unconfirmed_content', 'Undergoer', 'Undertaking', 'Undesirable_Event', 'Undesirable_situation', 'Unit', 'Unresolved_referent', 'Unwanted_entity', 'Use', 'Useful_location', 'User', 'Value', 'Value_1', 'Value_2', 'Valued_entity', 'Variable', 'Vehicle', 'Venue', 'Victim', 'Weapon', 'Wearer', 'Whole', 'Whole_patient', 'Wielder', 'Winner', 'Work', 'Wrongdoer']\n"
     ]
    }
   ],
   "source": [
    "fes = []\n",
    "dir_path = './koreanframenet/resource/info/fn1.5_'\n",
    "fname = dir_path+'fe2idx.json'\n",
    "with open(fname, 'r') as f:\n",
    "    old_fe2idx = json.load(f)\n",
    "    \n",
    "for fe in old_fe2idx:\n",
    "    fes.append(fe)\n",
    "    \n",
    "for i in d:\n",
    "    for fe in i[-1]:\n",
    "        if fe != 'O':\n",
    "            if fe != 'X':\n",
    "                fes.append(fe)\n",
    "                \n",
    "fes = list(set(fes))\n",
    "fes.sort()\n",
    "print(len(fes))\n",
    "print(fes)"
   ]
  },
  {
   "cell_type": "code",
   "execution_count": 66,
   "metadata": {},
   "outputs": [
    {
     "ename": "KeyError",
     "evalue": "'Language'",
     "output_type": "error",
     "traceback": [
      "\u001b[0;31m---------------------------------------------------------------------------\u001b[0m",
      "\u001b[0;31mKeyError\u001b[0m                                  Traceback (most recent call last)",
      "\u001b[0;32m<ipython-input-66-188edd8395eb>\u001b[0m in \u001b[0;36m<module>\u001b[0;34m()\u001b[0m\n\u001b[1;32m     23\u001b[0m \u001b[0;34m\u001b[0m\u001b[0m\n\u001b[1;32m     24\u001b[0m \u001b[0;32mfor\u001b[0m \u001b[0mi\u001b[0m \u001b[0;32min\u001b[0m \u001b[0mfes\u001b[0m\u001b[0;34m:\u001b[0m\u001b[0;34m\u001b[0m\u001b[0m\n\u001b[0;32m---> 25\u001b[0;31m     \u001b[0midx\u001b[0m \u001b[0;34m=\u001b[0m \u001b[0mfe2idx\u001b[0m\u001b[0;34m[\u001b[0m\u001b[0mi\u001b[0m\u001b[0;34m]\u001b[0m\u001b[0;34m\u001b[0m\u001b[0m\n\u001b[0m\u001b[1;32m     26\u001b[0m \u001b[0;34m\u001b[0m\u001b[0m\n\u001b[1;32m     27\u001b[0m \u001b[0mbio_fe2idx\u001b[0m \u001b[0;34m=\u001b[0m \u001b[0;34m{\u001b[0m\u001b[0;34m}\u001b[0m\u001b[0;34m\u001b[0m\u001b[0m\n",
      "\u001b[0;31mKeyError\u001b[0m: 'Language'"
     ]
    }
   ],
   "source": [
    "dir_path = './koreanframenet/resource/info/fn1.5_'\n",
    "fname = dir_path+'bio_fe2idx.json'\n",
    "fname = dir_path+'fe2idx.json'\n",
    "with open(fname, 'r') as f:\n",
    "    fe2idx = json.load(f)\n",
    "# for i in fe2idx:\n",
    "#     print(i)\n",
    "#     break\n",
    "\n",
    "bio_fes = []\n",
    "for i in d:\n",
    "    bio_fes += i[-1]\n",
    "    \n",
    "bio_fes = list(set(bio_fes))\n",
    "fes = []\n",
    "for i in bio_fes:\n",
    "    if i != 'O':\n",
    "        if i != 'X':\n",
    "            fe = i[2:]\n",
    "            fes.append(fe)\n",
    "    \n",
    "fes = list(set(fes))\n",
    "\n",
    "for i in fes:\n",
    "    idx = fe2idx[i]\n",
    "    \n",
    "bio_fe2idx = {}\n",
    "bio_fe2idx['O'] = len(bio_fe2idx)\n",
    "bio_fe2idx['X'] = len(bio_fe2idx)\n",
    "\n",
    "for i in fe2idx:\n",
    "    bio_fe = 'B-'+i\n",
    "    bio_fe2idx[bio_fe] = len(bio_fe2idx)\n",
    "    bio_fe = 'I-'+i\n",
    "    bio_fe2idx[bio_fe] = len(bio_fe2idx)\n",
    "    \n",
    "with open('./koreanframenet/resource/info/fn1.5_bio_fe2idx.json','w') as f:\n",
    "    json.dump(bio_fe2idx, f, ensure_ascii=False, indent=4)"
   ]
  },
  {
   "cell_type": "code",
   "execution_count": 54,
   "metadata": {},
   "outputs": [],
   "source": [
    "def get_lu_frame(conll):\n",
    "    lus = conll[1]\n",
    "    frames = conll[2]\n",
    "    for i in range(len(lus)):\n",
    "        lu_i = lus[i]\n",
    "        frame_i = frames[i]\n",
    "        \n",
    "        if lu_i != '_':\n",
    "            lu = lu_i\n",
    "            frame = frame_i\n",
    "    return lu, frame\n",
    "\n",
    "def get_fes(conll):\n",
    "    bio_fes = list(set(conll[-1]))\n",
    "    fes = []\n",
    "    for i in bio_fes:\n",
    "        if i == 'O':\n",
    "            fe = i\n",
    "        elif i == 'X':\n",
    "            fe = i\n",
    "        else:\n",
    "            fe = i[2:]\n",
    "        fes.append(fe)\n",
    "\n",
    "    return fes, bio_fes "
   ]
  },
  {
   "cell_type": "code",
   "execution_count": 41,
   "metadata": {},
   "outputs": [],
   "source": [
    "# lufrmap check\n",
    "\n",
    "with open('./koreanframenet/resource/info/fn1.5_lufrmap.json', 'r') as f:\n",
    "    lufrmap = json.load(f)\n",
    "    \n",
    "with open('./koreanframenet/resource/info/fn1.5_lu2idx.json', 'r') as f:\n",
    "    lu2idx = json.load(f)\n",
    "    \n",
    "with open('./koreanframenet/resource/info/fn1.5_frame2idx.json', 'r') as f:\n",
    "    frame2idx = json.load(f)\n",
    "    \n",
    "# lufrmap = {}\n",
    "for i in d:\n",
    "    lu, frame = get_lu_frame(i)\n",
    "    luidx = lu2idx[lu]\n",
    "    frameidx = frame2idx[frame]\n",
    "    frame_candis = lufrmap[str(luidx)]\n",
    "    if frameidx not in frame_candis:\n",
    "        print(lu)"
   ]
  },
  {
   "cell_type": "code",
   "execution_count": 50,
   "metadata": {},
   "outputs": [],
   "source": [
    "# frargmap\n",
    "\n",
    "with open('./koreanframenet/resource/info/fn1.5_lufrmap.json', 'r') as f:\n",
    "    lufrmap = json.load(f)\n",
    "    \n",
    "with open('./koreanframenet/resource/info/fn1.5_lu2idx.json', 'r') as f:\n",
    "    lu2idx = json.load(f)\n",
    "    \n",
    "with open('./koreanframenet/resource/info/fn1.5_frame2idx.json', 'r') as f:\n",
    "    frame2idx = json.load(f)\n",
    "    \n",
    "with open('./koreanframenet/resource/info/fn1.5_fe2idx.json', 'r') as f:\n",
    "    fe2idx = json.load(f)\n",
    "    \n",
    "with open('./koreanframenet/resource/info/fn1.5_bio_fe2idx.json', 'r') as f:\n",
    "    bio_fe2idx = json.load(f)\n",
    "    \n",
    "# with open('./koreanframenet/resource/info/fn1.5_frame2idx.json', 'r') as f:\n",
    "#     frargmap = json.load(f)\n",
    "    \n",
    "# lufrmap = {}\n",
    "\n",
    "frargmap, bio_frargmap = {},{}\n",
    "for i in d:\n",
    "    lu, frame = get_lu_frame(i)\n",
    "    luidx = lu2idx[lu]\n",
    "    frameidx = frame2idx[frame]\n",
    "    fes, bio_fes = get_fes(i)\n",
    "    \n",
    "    if frameidx in frargmap:\n",
    "        fe_candis = frargmap[frameidx]\n",
    "    else:\n",
    "        fe_candis = []\n",
    "    if frameidx in bio_frargmap:\n",
    "        bio_fe_candis = bio_frargmap[frameidx]\n",
    "    else:\n",
    "        bio_fe_candis = []\n",
    "        \n",
    "    for fe in fes:\n",
    "        if fe != 'O':\n",
    "            if fe != 'X':\n",
    "                fe_idx = fe2idx[fe]\n",
    "                fe_candis.append(fe_idx)\n",
    "    for bio_fe in bio_fes:\n",
    "        bio_fe_idx = bio_fe2idx[bio_fe]\n",
    "        bio_fe_candis.append(bio_fe_idx)\n",
    "        \n",
    "    fe_candis = list(set(fe_candis))\n",
    "    bio_fe_candis = list(set(bio_fe_candis))\n",
    "    \n",
    "    frargmap[frameidx] = fe_candis\n",
    "    bio_frargmap[frameidx] = bio_fe_candis\n",
    "    \n",
    "with open('./koreanframenet/resource/info/fn1.5_frargmap.json', 'w') as f:\n",
    "    json.dump(frargmap, f, ensure_ascii=False, indent=4)\n",
    "    \n",
    "with open('./koreanframenet/resource/info/fn1.5_bio_frargmap.json', 'w') as f:\n",
    "    json.dump(bio_frargmap, f, ensure_ascii=False, indent=4)"
   ]
  }
 ],
 "metadata": {
  "kernelspec": {
   "display_name": "Python 3",
   "language": "python",
   "name": "python3"
  },
  "language_info": {
   "codemirror_mode": {
    "name": "ipython",
    "version": 3
   },
   "file_extension": ".py",
   "mimetype": "text/x-python",
   "name": "python",
   "nbconvert_exporter": "python",
   "pygments_lexer": "ipython3",
   "version": "3.6.5"
  }
 },
 "nbformat": 4,
 "nbformat_minor": 2
}
