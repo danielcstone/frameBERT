{
 "cells": [
  {
   "cell_type": "code",
   "execution_count": 58,
   "metadata": {},
   "outputs": [],
   "source": [
    "import json\n",
    "import sys\n",
    "import glob\n",
    "import torch\n",
    "sys.path.append('../')\n",
    "import os\n",
    "from transformers import *\n",
    "from frameBERT.src import utils\n",
    "from frameBERT.src import dataio\n",
    "from frameBERT.src import eval_fn\n",
    "from frameBERT import frame_parser\n",
    "from frameBERT.src.modeling import BertForJointShallowSemanticParsing\n",
    "from torch.utils.data import TensorDataset, DataLoader, RandomSampler, SequentialSampler\n",
    "import torch\n",
    "from torch import nn\n",
    "from torch.optim import Adam\n",
    "from tqdm import tqdm, trange\n",
    "\n",
    "from pprint import pprint\n",
    "\n",
    "device = torch.device(\"cuda:0\" if torch.cuda.is_available() else \"cpu\")\n",
    "n_gpu = torch.cuda.device_count()\n",
    "if device != \"cpu\":\n",
    "    torch.cuda.set_device(0)\n",
    "import pickle\n",
    "\n",
    "import numpy as np\n",
    "import random\n",
    "np.random.seed(0)   \n",
    "random.seed(0)\n",
    "\n",
    "from torch import autograd\n",
    "torch.cuda.empty_cache()"
   ]
  },
  {
   "cell_type": "code",
   "execution_count": 59,
   "metadata": {},
   "outputs": [],
   "source": [
    "# from frameBERT.src import dataio\n",
    "# srl = 'framenet'\n",
    "# language = 'en'\n",
    "# fnversion = '1.5'\n",
    "# trn, dev, tst = dataio.load_data(language=language, fnversion=fnversion)\n",
    "# print(trn[0])\n",
    "# d = trn+dev+tst\n",
    "\n",
    "# with open('./data/frame_coreFE_list_v1.5.json','r') as f:\n",
    "#     fc = json.load(f)\n",
    "    \n",
    "# n = 0\n",
    "# for i in d:\n",
    "#     lu, frame = get_lu_frame(i)\n",
    "#     luidx = lu2idx[lu]\n",
    "#     frameidx = frame2idx[frame]\n",
    "#     fes, bio_fes = get_fes(i)\n",
    "    \n",
    "#     corefe = fc[frame]\n",
    "#     for fe in fes:\n",
    "#         if fe in corefe:\n",
    "#             n +=1\n",
    "# print(n)"
   ]
  },
  {
   "cell_type": "code",
   "execution_count": 60,
   "metadata": {},
   "outputs": [],
   "source": [
    "# from frameBERT.src import eval_fn\n",
    "# eval_fn.weighting()"
   ]
  },
  {
   "cell_type": "code",
   "execution_count": 61,
   "metadata": {},
   "outputs": [],
   "source": [
    "srl = 'framenet'\n",
    "language = 'en'\n",
    "fnversion = '1.5'"
   ]
  },
  {
   "cell_type": "code",
   "execution_count": 62,
   "metadata": {},
   "outputs": [
    {
     "name": "stdout",
     "output_type": "stream",
     "text": [
      "[['12-year-old', 'boy', 'reports', 'seeing', 'man', 'launch', 'rubber', 'boat', 'from', 'car', 'parked', 'the', '<tgt>', 'harbor', '</tgt>', '.'], ['_', '_', '_', '_', '_', '_', '_', '_', '_', '_', '_', '_', '_', 'harbor.n', '_', '_'], ['_', '_', '_', '_', '_', '_', '_', '_', '_', '_', '_', '_', '_', 'Locale_by_use', '_', '_'], ['O', 'O', 'O', 'O', 'O', 'O', 'O', 'O', 'O', 'O', 'O', 'O', 'X', 'B-Locale', 'X', 'O']]\n"
     ]
    }
   ],
   "source": [
    "# bert_io = utils.for_BERT(mode='train', language=language, masking=True, fnversion=fnversion)\n",
    "trn, dev, tst = dataio.load_data(language=language, exem=True, fnversion=fnversion, info=True)\n",
    "print(trn[0])"
   ]
  },
  {
   "cell_type": "code",
   "execution_count": 63,
   "metadata": {},
   "outputs": [],
   "source": [
    "d = trn+dev+tst"
   ]
  },
  {
   "cell_type": "code",
   "execution_count": 65,
   "metadata": {},
   "outputs": [
    {
     "name": "stdout",
     "output_type": "stream",
     "text": [
      "[['12-year-old', 'boy', 'reports', 'seeing', 'man', 'launch', 'rubber', 'boat', 'from', 'car', 'parked', 'the', '<tgt>', 'harbor', '</tgt>', '.'], ['_', '_', '_', '_', '_', '_', '_', '_', '_', '_', '_', '_', '_', 'harbor.n', '_', '_'], ['_', '_', '_', '_', '_', '_', '_', '_', '_', '_', '_', '_', '_', 'Locale_by_use', '_', '_'], ['O', 'O', 'O', 'O', 'O', 'O', 'O', 'O', 'O', 'O', 'O', 'O', 'X', 'B-Locale', 'X', 'O']]\n",
      "177269\n"
     ]
    }
   ],
   "source": [
    "for i in d:\n",
    "    print(i)\n",
    "    break\n",
    "print(len(d))"
   ]
  },
  {
   "cell_type": "code",
   "execution_count": 73,
   "metadata": {},
   "outputs": [
    {
     "name": "stdout",
     "output_type": "stream",
     "text": [
      "1068\n"
     ]
    }
   ],
   "source": [
    "fes = []\n",
    "dir_path = './koreanframenet/resource/info/fn1.5_'\n",
    "fname = dir_path+'fe2idx.json'\n",
    "with open(fname, 'r') as f:\n",
    "    old_fe2idx = json.load(f)\n",
    "    \n",
    "for fe in old_fe2idx:\n",
    "    fes.append(fe)\n",
    "    \n",
    "for i in d:\n",
    "    for arg in i[-1]:\n",
    "        if arg != 'O':\n",
    "            if arg != 'X':\n",
    "                fe = arg[2:]\n",
    "                fes.append(fe)\n",
    "                \n",
    "fes = list(set(fes))\n",
    "fes.sort()\n",
    "print(len(fes))\n",
    "# print(fes)\n",
    "\n",
    "fe2idx = {}\n",
    "for fe in fes:\n",
    "    fe2idx[fe] = len(fe2idx)\n",
    "with open(fname, 'w') as f:\n",
    "    json.dump(fe2idx, f, ensure_ascii=False, indent=4)"
   ]
  },
  {
   "cell_type": "code",
   "execution_count": 74,
   "metadata": {},
   "outputs": [],
   "source": [
    "dir_path = './koreanframenet/resource/info/fn1.5_'\n",
    "fname = dir_path+'bio_fe2idx.json'\n",
    "fname = dir_path+'fe2idx.json'\n",
    "with open(fname, 'r') as f:\n",
    "    fe2idx = json.load(f)\n",
    "# for i in fe2idx:\n",
    "#     print(i)\n",
    "#     break\n",
    "\n",
    "bio_fes = []\n",
    "for i in d:\n",
    "    bio_fes += i[-1]\n",
    "    \n",
    "bio_fes = list(set(bio_fes))\n",
    "fes = []\n",
    "for i in bio_fes:\n",
    "    if i != 'O':\n",
    "        if i != 'X':\n",
    "            fe = i[2:]\n",
    "            fes.append(fe)\n",
    "    \n",
    "fes = list(set(fes))\n",
    "\n",
    "for i in fes:\n",
    "    idx = fe2idx[i]\n",
    "    \n",
    "bio_fe2idx = {}\n",
    "bio_fe2idx['O'] = len(bio_fe2idx)\n",
    "bio_fe2idx['X'] = len(bio_fe2idx)\n",
    "\n",
    "for i in fe2idx:\n",
    "    bio_fe = 'B-'+i\n",
    "    bio_fe2idx[bio_fe] = len(bio_fe2idx)\n",
    "    bio_fe = 'I-'+i\n",
    "    bio_fe2idx[bio_fe] = len(bio_fe2idx)\n",
    "    \n",
    "with open('./koreanframenet/resource/info/fn1.5_bio_fe2idx.json','w') as f:\n",
    "    json.dump(bio_fe2idx, f, ensure_ascii=False, indent=4)"
   ]
  },
  {
   "cell_type": "code",
   "execution_count": 75,
   "metadata": {},
   "outputs": [],
   "source": [
    "def get_lu_frame(conll):\n",
    "    lus = conll[1]\n",
    "    frames = conll[2]\n",
    "    for i in range(len(lus)):\n",
    "        lu_i = lus[i]\n",
    "        frame_i = frames[i]\n",
    "        \n",
    "        if lu_i != '_':\n",
    "            lu = lu_i\n",
    "            frame = frame_i\n",
    "    return lu, frame\n",
    "\n",
    "def get_fes(conll):\n",
    "    bio_fes = list(set(conll[-1]))\n",
    "    fes = []\n",
    "    for i in bio_fes:\n",
    "        if i == 'O':\n",
    "            fe = i\n",
    "        elif i == 'X':\n",
    "            fe = i\n",
    "        else:\n",
    "            fe = i[2:]\n",
    "        fes.append(fe)\n",
    "\n",
    "    return fes, bio_fes "
   ]
  },
  {
   "cell_type": "code",
   "execution_count": 78,
   "metadata": {},
   "outputs": [
    {
     "name": "stdout",
     "output_type": "stream",
     "text": [
      "7762\n"
     ]
    }
   ],
   "source": [
    "with open('./koreanframenet/resource/info/fn1.5_lu2idx.json', 'r') as f:\n",
    "    lu2idx = json.load(f)\n",
    "    \n",
    "lus = []\n",
    "for lu in lu2idx:\n",
    "    lus.append(lu)\n",
    "\n",
    "for i in d:\n",
    "    lu, frame = get_lu_frame(i)\n",
    "    lus.append(lu)\n",
    "    \n",
    "lus = list(set(lus))\n",
    "lus.sort()\n",
    "\n",
    "print(len(lus))\n",
    "\n",
    "lu2idx = {}\n",
    "for lu in lus:\n",
    "    lu2idx[lu] = len(lu2idx)\n",
    "with open('./koreanframenet/resource/info/fn1.5_lu2idx.json', 'w') as f:\n",
    "    json.dump(lu2idx, f, ensure_ascii=False, indent=4)"
   ]
  },
  {
   "cell_type": "code",
   "execution_count": 83,
   "metadata": {},
   "outputs": [
    {
     "name": "stdout",
     "output_type": "stream",
     "text": [
      "876\n"
     ]
    }
   ],
   "source": [
    "with open('./koreanframenet/resource/info/fn1.5_frame2idx.json', 'r') as f:\n",
    "    frame2idx = json.load(f)\n",
    "\n",
    "frames = []\n",
    "for fr in frame2idx:\n",
    "    frames.append(fr)\n",
    "    \n",
    "for i in d:\n",
    "    lu, frame = get_lu_frame(i)\n",
    "    frames.append(frame)\n",
    "    \n",
    "frames = list(set(frames))\n",
    "frames.sort()\n",
    "\n",
    "frame2idx = {}\n",
    "for fr in frames:\n",
    "    frame2idx[fr] = len(frame2idx)\n",
    "    \n",
    "with open('./koreanframenet/resource/info/fn1.5_frame2idx.json', 'w') as f:\n",
    "    json.dump(frame2idx, f, ensure_ascii=False, indent=4)\n",
    "    \n",
    "print(len(frame2idx))"
   ]
  },
  {
   "cell_type": "code",
   "execution_count": 84,
   "metadata": {},
   "outputs": [],
   "source": [
    "with open('./koreanframenet/resource/info/fn1.5_lu2idx.json', 'r') as f:\n",
    "    lu2idx = json.load(f)\n",
    "    \n",
    "with open('./koreanframenet/resource/info/fn1.5_frame2idx.json', 'r') as f:\n",
    "    frame2idx = json.load(f)\n",
    "    \n",
    "lufrmap = {}\n",
    "for i in d:\n",
    "    lu, frame = get_lu_frame(i)\n",
    "    luidx = lu2idx[lu]\n",
    "    frameidx = frame2idx[frame]\n",
    "    \n",
    "    if luidx in lufrmap:\n",
    "        frame_candis = lufrmap[luidx]\n",
    "    else:\n",
    "        frame_candis = []\n",
    "        \n",
    "    frame_candis.append(frameidx)\n",
    "    frame_candis = list(set(frame_candis))\n",
    "    lufrmap[luidx] = frame_candis\n",
    "    \n",
    "with open('./koreanframenet/resource/info/fn1.5_lufrmap.json', 'w') as f:\n",
    "    json.dump(lufrmap, f, ensure_ascii=False, indent=4)"
   ]
  },
  {
   "cell_type": "code",
   "execution_count": 85,
   "metadata": {},
   "outputs": [],
   "source": [
    "# lufrmap check\n",
    "\n",
    "with open('./koreanframenet/resource/info/fn1.5_lufrmap.json', 'r') as f:\n",
    "    lufrmap = json.load(f)\n",
    "    \n",
    "with open('./koreanframenet/resource/info/fn1.5_lu2idx.json', 'r') as f:\n",
    "    lu2idx = json.load(f)\n",
    "    \n",
    "with open('./koreanframenet/resource/info/fn1.5_frame2idx.json', 'r') as f:\n",
    "    frame2idx = json.load(f)\n",
    "    \n",
    "# lufrmap = {}\n",
    "for i in d:\n",
    "    lu, frame = get_lu_frame(i)\n",
    "    luidx = lu2idx[lu]\n",
    "    frameidx = frame2idx[frame]\n",
    "    frame_candis = lufrmap[str(luidx)]\n",
    "    if frameidx not in frame_candis:\n",
    "        print(lu)"
   ]
  },
  {
   "cell_type": "code",
   "execution_count": 87,
   "metadata": {},
   "outputs": [],
   "source": [
    "# frargmap\n",
    "\n",
    "with open('./koreanframenet/resource/info/fn1.5_lufrmap.json', 'r') as f:\n",
    "    lufrmap = json.load(f)\n",
    "    \n",
    "with open('./koreanframenet/resource/info/fn1.5_lu2idx.json', 'r') as f:\n",
    "    lu2idx = json.load(f)\n",
    "    \n",
    "with open('./koreanframenet/resource/info/fn1.5_frame2idx.json', 'r') as f:\n",
    "    frame2idx = json.load(f)\n",
    "    \n",
    "with open('./koreanframenet/resource/info/fn1.5_fe2idx.json', 'r') as f:\n",
    "    fe2idx = json.load(f)\n",
    "    \n",
    "with open('./koreanframenet/resource/info/fn1.5_bio_fe2idx.json', 'r') as f:\n",
    "    bio_fe2idx = json.load(f)\n",
    "    \n",
    "# with open('./koreanframenet/resource/info/fn1.5_frame2idx.json', 'r') as f:\n",
    "#     frargmap = json.load(f)\n",
    "    \n",
    "# lufrmap = {}\n",
    "\n",
    "frargmap, bio_frargmap = {},{}\n",
    "for i in d:\n",
    "    lu, frame = get_lu_frame(i)\n",
    "    luidx = lu2idx[lu]\n",
    "    frameidx = frame2idx[frame]\n",
    "    fes, bio_fes = get_fes(i)\n",
    "    \n",
    "    if frameidx in frargmap:\n",
    "        fe_candis = frargmap[frameidx]\n",
    "    else:\n",
    "        fe_candis = []\n",
    "    if frameidx in bio_frargmap:\n",
    "        bio_fe_candis = bio_frargmap[frameidx]\n",
    "    else:\n",
    "        bio_fe_candis = []\n",
    "        \n",
    "    for fe in fes:\n",
    "        if fe != 'O':\n",
    "            if fe != 'X':\n",
    "                fe_idx = fe2idx[fe]\n",
    "                fe_candis.append(fe_idx)\n",
    "    for bio_fe in bio_fes:\n",
    "        bio_fe_idx = bio_fe2idx[bio_fe]\n",
    "        bio_fe_candis.append(bio_fe_idx)\n",
    "        \n",
    "    fe_candis = list(set(fe_candis))\n",
    "    bio_fe_candis = list(set(bio_fe_candis))\n",
    "    \n",
    "    frargmap[frameidx] = fe_candis\n",
    "    bio_frargmap[frameidx] = bio_fe_candis\n",
    "    \n",
    "with open('./koreanframenet/resource/info/fn1.5_frargmap.json', 'w') as f:\n",
    "    json.dump(frargmap, f, ensure_ascii=False, indent=4)\n",
    "    \n",
    "with open('./koreanframenet/resource/info/fn1.5_bio_frargmap.json', 'w') as f:\n",
    "    json.dump(bio_frargmap, f, ensure_ascii=False, indent=4)"
   ]
  }
 ],
 "metadata": {
  "kernelspec": {
   "display_name": "Python 3",
   "language": "python",
   "name": "python3"
  },
  "language_info": {
   "codemirror_mode": {
    "name": "ipython",
    "version": 3
   },
   "file_extension": ".py",
   "mimetype": "text/x-python",
   "name": "python",
   "nbconvert_exporter": "python",
   "pygments_lexer": "ipython3",
   "version": "3.6.5"
  }
 },
 "nbformat": 4,
 "nbformat_minor": 2
}
